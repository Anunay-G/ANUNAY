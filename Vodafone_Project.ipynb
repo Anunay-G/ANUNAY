{
  "nbformat": 4,
  "nbformat_minor": 0,
  "metadata": {
    "colab": {
      "name": "Vodafone Project.ipynb",
      "provenance": [],
      "collapsed_sections": [],
      "include_colab_link": true
    },
    "kernelspec": {
      "name": "python3",
      "display_name": "Python 3"
    },
    "language_info": {
      "name": "python"
    }
  },
  "cells": [
    {
      "cell_type": "markdown",
      "metadata": {
        "id": "view-in-github",
        "colab_type": "text"
      },
      "source": [
        "<a href=\"https://colab.research.google.com/github/Anunay-G/ANUNAY/blob/main/Vodafone_Project.ipynb\" target=\"_parent\"><img src=\"https://colab.research.google.com/assets/colab-badge.svg\" alt=\"Open In Colab\"/></a>"
      ]
    },
    {
      "cell_type": "code",
      "execution_count": null,
      "metadata": {
        "id": "zSG2oq4rHrqj"
      },
      "outputs": [],
      "source": [
        "import pandas as pd \n",
        "import numpy as np \n",
        "import seaborn as sns \n",
        "import matplotlib.pyplot as plt \n",
        "%matplotlib inline \n",
        "import warnings \n",
        "\n",
        "from statistics import mean, stdev\n",
        "from sklearn.model_selection import train_test_split\n",
        "from sklearn.preprocessing import StandardScaler\n",
        "from sklearn.preprocessing import MinMaxScaler\n",
        "from sklearn.preprocessing import RobustScaler\n",
        "from sklearn.preprocessing import MaxAbsScaler\n",
        "from sklearn.preprocessing import PowerTransformer\n",
        "from sklearn.preprocessing import QuantileTransformer\n",
        "\n",
        "from sklearn.ensemble import StackingClassifier\n",
        "from sklearn.ensemble import AdaBoostClassifier\n",
        "from sklearn.ensemble import VotingClassifier\n",
        "from sklearn.model_selection import RepeatedStratifiedKFold\n",
        "from sklearn.linear_model import LogisticRegression\n",
        "from sklearn.svm import SVC\n",
        "from sklearn.naive_bayes import GaussianNB\n",
        "from sklearn.neighbors import KNeighborsClassifier\n",
        "from sklearn.ensemble import RandomForestClassifier\n",
        "from sklearn.metrics import accuracy_score\n",
        "from sklearn.model_selection import StratifiedKFold\n",
        "from sklearn import linear_model\n",
        "from sklearn.tree import DecisionTreeClassifier\n",
        "from xgboost import XGBClassifier\n",
        "from sklearn.discriminant_analysis import LinearDiscriminantAnalysis\n",
        "import lightgbm as lgb\n",
        "\n",
        "from sklearn.feature_selection import SelectKBest, chi2\n",
        "\n",
        "sns.set_style('darkgrid')\n",
        "warnings.filterwarnings('ignore')"
      ]
    },
    {
      "cell_type": "code",
      "source": [
        "from google.colab import drive\n",
        "drive.mount(\"/content/gdrive\")"
      ],
      "metadata": {
        "colab": {
          "base_uri": "https://localhost:8080/"
        },
        "id": "NC8PwP-wRttA",
        "outputId": "51776399-e5d1-44e9-dc34-06633f3a90bb"
      },
      "execution_count": null,
      "outputs": [
        {
          "output_type": "stream",
          "name": "stdout",
          "text": [
            "Drive already mounted at /content/gdrive; to attempt to forcibly remount, call drive.mount(\"/content/gdrive\", force_remount=True).\n"
          ]
        }
      ]
    },
    {
      "cell_type": "code",
      "source": [
        "df=pd.read_csv('/content/gdrive/My Drive/VodafoneProject/water_potability.csv')"
      ],
      "metadata": {
        "id": "LGQgVEevSA2z"
      },
      "execution_count": null,
      "outputs": []
    },
    {
      "cell_type": "code",
      "source": [
        "df.head()"
      ],
      "metadata": {
        "colab": {
          "base_uri": "https://localhost:8080/",
          "height": 206
        },
        "id": "OxIc6hfMSckr",
        "outputId": "cafecc3e-1917-4da2-ac71-a102a916c1a9"
      },
      "execution_count": null,
      "outputs": [
        {
          "output_type": "execute_result",
          "data": {
            "text/plain": [
              "         ph    Hardness        Solids  Chloramines     Sulfate  Conductivity  \\\n",
              "0       NaN  204.890455  20791.318981     7.300212  368.516441    564.308654   \n",
              "1  3.716080  129.422921  18630.057858     6.635246         NaN    592.885359   \n",
              "2  8.099124  224.236259  19909.541732     9.275884         NaN    418.606213   \n",
              "3  8.316766  214.373394  22018.417441     8.059332  356.886136    363.266516   \n",
              "4  9.092223  181.101509  17978.986339     6.546600  310.135738    398.410813   \n",
              "\n",
              "   Organic_carbon  Trihalomethanes  Turbidity  Potability  \n",
              "0       10.379783        86.990970   2.963135           0  \n",
              "1       15.180013        56.329076   4.500656           0  \n",
              "2       16.868637        66.420093   3.055934           0  \n",
              "3       18.436524       100.341674   4.628771           0  \n",
              "4       11.558279        31.997993   4.075075           0  "
            ],
            "text/html": [
              "\n",
              "  <div id=\"df-eaeb93ea-ff2b-49c7-bc34-587720190382\">\n",
              "    <div class=\"colab-df-container\">\n",
              "      <div>\n",
              "<style scoped>\n",
              "    .dataframe tbody tr th:only-of-type {\n",
              "        vertical-align: middle;\n",
              "    }\n",
              "\n",
              "    .dataframe tbody tr th {\n",
              "        vertical-align: top;\n",
              "    }\n",
              "\n",
              "    .dataframe thead th {\n",
              "        text-align: right;\n",
              "    }\n",
              "</style>\n",
              "<table border=\"1\" class=\"dataframe\">\n",
              "  <thead>\n",
              "    <tr style=\"text-align: right;\">\n",
              "      <th></th>\n",
              "      <th>ph</th>\n",
              "      <th>Hardness</th>\n",
              "      <th>Solids</th>\n",
              "      <th>Chloramines</th>\n",
              "      <th>Sulfate</th>\n",
              "      <th>Conductivity</th>\n",
              "      <th>Organic_carbon</th>\n",
              "      <th>Trihalomethanes</th>\n",
              "      <th>Turbidity</th>\n",
              "      <th>Potability</th>\n",
              "    </tr>\n",
              "  </thead>\n",
              "  <tbody>\n",
              "    <tr>\n",
              "      <th>0</th>\n",
              "      <td>NaN</td>\n",
              "      <td>204.890455</td>\n",
              "      <td>20791.318981</td>\n",
              "      <td>7.300212</td>\n",
              "      <td>368.516441</td>\n",
              "      <td>564.308654</td>\n",
              "      <td>10.379783</td>\n",
              "      <td>86.990970</td>\n",
              "      <td>2.963135</td>\n",
              "      <td>0</td>\n",
              "    </tr>\n",
              "    <tr>\n",
              "      <th>1</th>\n",
              "      <td>3.716080</td>\n",
              "      <td>129.422921</td>\n",
              "      <td>18630.057858</td>\n",
              "      <td>6.635246</td>\n",
              "      <td>NaN</td>\n",
              "      <td>592.885359</td>\n",
              "      <td>15.180013</td>\n",
              "      <td>56.329076</td>\n",
              "      <td>4.500656</td>\n",
              "      <td>0</td>\n",
              "    </tr>\n",
              "    <tr>\n",
              "      <th>2</th>\n",
              "      <td>8.099124</td>\n",
              "      <td>224.236259</td>\n",
              "      <td>19909.541732</td>\n",
              "      <td>9.275884</td>\n",
              "      <td>NaN</td>\n",
              "      <td>418.606213</td>\n",
              "      <td>16.868637</td>\n",
              "      <td>66.420093</td>\n",
              "      <td>3.055934</td>\n",
              "      <td>0</td>\n",
              "    </tr>\n",
              "    <tr>\n",
              "      <th>3</th>\n",
              "      <td>8.316766</td>\n",
              "      <td>214.373394</td>\n",
              "      <td>22018.417441</td>\n",
              "      <td>8.059332</td>\n",
              "      <td>356.886136</td>\n",
              "      <td>363.266516</td>\n",
              "      <td>18.436524</td>\n",
              "      <td>100.341674</td>\n",
              "      <td>4.628771</td>\n",
              "      <td>0</td>\n",
              "    </tr>\n",
              "    <tr>\n",
              "      <th>4</th>\n",
              "      <td>9.092223</td>\n",
              "      <td>181.101509</td>\n",
              "      <td>17978.986339</td>\n",
              "      <td>6.546600</td>\n",
              "      <td>310.135738</td>\n",
              "      <td>398.410813</td>\n",
              "      <td>11.558279</td>\n",
              "      <td>31.997993</td>\n",
              "      <td>4.075075</td>\n",
              "      <td>0</td>\n",
              "    </tr>\n",
              "  </tbody>\n",
              "</table>\n",
              "</div>\n",
              "      <button class=\"colab-df-convert\" onclick=\"convertToInteractive('df-eaeb93ea-ff2b-49c7-bc34-587720190382')\"\n",
              "              title=\"Convert this dataframe to an interactive table.\"\n",
              "              style=\"display:none;\">\n",
              "        \n",
              "  <svg xmlns=\"http://www.w3.org/2000/svg\" height=\"24px\"viewBox=\"0 0 24 24\"\n",
              "       width=\"24px\">\n",
              "    <path d=\"M0 0h24v24H0V0z\" fill=\"none\"/>\n",
              "    <path d=\"M18.56 5.44l.94 2.06.94-2.06 2.06-.94-2.06-.94-.94-2.06-.94 2.06-2.06.94zm-11 1L8.5 8.5l.94-2.06 2.06-.94-2.06-.94L8.5 2.5l-.94 2.06-2.06.94zm10 10l.94 2.06.94-2.06 2.06-.94-2.06-.94-.94-2.06-.94 2.06-2.06.94z\"/><path d=\"M17.41 7.96l-1.37-1.37c-.4-.4-.92-.59-1.43-.59-.52 0-1.04.2-1.43.59L10.3 9.45l-7.72 7.72c-.78.78-.78 2.05 0 2.83L4 21.41c.39.39.9.59 1.41.59.51 0 1.02-.2 1.41-.59l7.78-7.78 2.81-2.81c.8-.78.8-2.07 0-2.86zM5.41 20L4 18.59l7.72-7.72 1.47 1.35L5.41 20z\"/>\n",
              "  </svg>\n",
              "      </button>\n",
              "      \n",
              "  <style>\n",
              "    .colab-df-container {\n",
              "      display:flex;\n",
              "      flex-wrap:wrap;\n",
              "      gap: 12px;\n",
              "    }\n",
              "\n",
              "    .colab-df-convert {\n",
              "      background-color: #E8F0FE;\n",
              "      border: none;\n",
              "      border-radius: 50%;\n",
              "      cursor: pointer;\n",
              "      display: none;\n",
              "      fill: #1967D2;\n",
              "      height: 32px;\n",
              "      padding: 0 0 0 0;\n",
              "      width: 32px;\n",
              "    }\n",
              "\n",
              "    .colab-df-convert:hover {\n",
              "      background-color: #E2EBFA;\n",
              "      box-shadow: 0px 1px 2px rgba(60, 64, 67, 0.3), 0px 1px 3px 1px rgba(60, 64, 67, 0.15);\n",
              "      fill: #174EA6;\n",
              "    }\n",
              "\n",
              "    [theme=dark] .colab-df-convert {\n",
              "      background-color: #3B4455;\n",
              "      fill: #D2E3FC;\n",
              "    }\n",
              "\n",
              "    [theme=dark] .colab-df-convert:hover {\n",
              "      background-color: #434B5C;\n",
              "      box-shadow: 0px 1px 3px 1px rgba(0, 0, 0, 0.15);\n",
              "      filter: drop-shadow(0px 1px 2px rgba(0, 0, 0, 0.3));\n",
              "      fill: #FFFFFF;\n",
              "    }\n",
              "  </style>\n",
              "\n",
              "      <script>\n",
              "        const buttonEl =\n",
              "          document.querySelector('#df-eaeb93ea-ff2b-49c7-bc34-587720190382 button.colab-df-convert');\n",
              "        buttonEl.style.display =\n",
              "          google.colab.kernel.accessAllowed ? 'block' : 'none';\n",
              "\n",
              "        async function convertToInteractive(key) {\n",
              "          const element = document.querySelector('#df-eaeb93ea-ff2b-49c7-bc34-587720190382');\n",
              "          const dataTable =\n",
              "            await google.colab.kernel.invokeFunction('convertToInteractive',\n",
              "                                                     [key], {});\n",
              "          if (!dataTable) return;\n",
              "\n",
              "          const docLinkHtml = 'Like what you see? Visit the ' +\n",
              "            '<a target=\"_blank\" href=https://colab.research.google.com/notebooks/data_table.ipynb>data table notebook</a>'\n",
              "            + ' to learn more about interactive tables.';\n",
              "          element.innerHTML = '';\n",
              "          dataTable['output_type'] = 'display_data';\n",
              "          await google.colab.output.renderOutput(dataTable, element);\n",
              "          const docLink = document.createElement('div');\n",
              "          docLink.innerHTML = docLinkHtml;\n",
              "          element.appendChild(docLink);\n",
              "        }\n",
              "      </script>\n",
              "    </div>\n",
              "  </div>\n",
              "  "
            ]
          },
          "metadata": {},
          "execution_count": 7
        }
      ]
    },
    {
      "cell_type": "code",
      "source": [
        "df.shape"
      ],
      "metadata": {
        "colab": {
          "base_uri": "https://localhost:8080/"
        },
        "id": "R2OCHCL_TsTj",
        "outputId": "d4fe0695-9d0c-47cb-c69a-90c734aa86d2"
      },
      "execution_count": null,
      "outputs": [
        {
          "output_type": "execute_result",
          "data": {
            "text/plain": [
              "(3276, 10)"
            ]
          },
          "metadata": {},
          "execution_count": 8
        }
      ]
    },
    {
      "cell_type": "code",
      "source": [
        "df.isnull().sum()"
      ],
      "metadata": {
        "colab": {
          "base_uri": "https://localhost:8080/"
        },
        "id": "FZ2UfKiTUu6P",
        "outputId": "1c23de6e-5894-403c-d2cc-02c4045468ac"
      },
      "execution_count": null,
      "outputs": [
        {
          "output_type": "execute_result",
          "data": {
            "text/plain": [
              "ph                 491\n",
              "Hardness             0\n",
              "Solids               0\n",
              "Chloramines          0\n",
              "Sulfate            781\n",
              "Conductivity         0\n",
              "Organic_carbon       0\n",
              "Trihalomethanes    162\n",
              "Turbidity            0\n",
              "Potability           0\n",
              "dtype: int64"
            ]
          },
          "metadata": {},
          "execution_count": 9
        }
      ]
    },
    {
      "cell_type": "code",
      "source": [
        "df.info()"
      ],
      "metadata": {
        "colab": {
          "base_uri": "https://localhost:8080/"
        },
        "id": "oT80JtXvUz-S",
        "outputId": "f5fb393e-71d0-4312-8f80-35b97e0c4a83"
      },
      "execution_count": null,
      "outputs": [
        {
          "output_type": "stream",
          "name": "stdout",
          "text": [
            "<class 'pandas.core.frame.DataFrame'>\n",
            "RangeIndex: 3276 entries, 0 to 3275\n",
            "Data columns (total 10 columns):\n",
            " #   Column           Non-Null Count  Dtype  \n",
            "---  ------           --------------  -----  \n",
            " 0   ph               2785 non-null   float64\n",
            " 1   Hardness         3276 non-null   float64\n",
            " 2   Solids           3276 non-null   float64\n",
            " 3   Chloramines      3276 non-null   float64\n",
            " 4   Sulfate          2495 non-null   float64\n",
            " 5   Conductivity     3276 non-null   float64\n",
            " 6   Organic_carbon   3276 non-null   float64\n",
            " 7   Trihalomethanes  3114 non-null   float64\n",
            " 8   Turbidity        3276 non-null   float64\n",
            " 9   Potability       3276 non-null   int64  \n",
            "dtypes: float64(9), int64(1)\n",
            "memory usage: 256.1 KB\n"
          ]
        }
      ]
    },
    {
      "cell_type": "code",
      "source": [
        "for column in df.columns:\n",
        "    print(\"{} has {} unique values\".format(column, len(df[column].unique())))"
      ],
      "metadata": {
        "colab": {
          "base_uri": "https://localhost:8080/"
        },
        "id": "QWQSJ0AKU5zm",
        "outputId": "e348b271-21be-4b24-b7f6-8b3eea5192da"
      },
      "execution_count": null,
      "outputs": [
        {
          "output_type": "stream",
          "name": "stdout",
          "text": [
            "ph has 2786 unique values\n",
            "Hardness has 3276 unique values\n",
            "Solids has 3276 unique values\n",
            "Chloramines has 3276 unique values\n",
            "Sulfate has 2496 unique values\n",
            "Conductivity has 3276 unique values\n",
            "Organic_carbon has 3276 unique values\n",
            "Trihalomethanes has 3115 unique values\n",
            "Turbidity has 3276 unique values\n",
            "Potability has 2 unique values\n"
          ]
        }
      ]
    },
    {
      "cell_type": "code",
      "source": [
        "df.describe()"
      ],
      "metadata": {
        "colab": {
          "base_uri": "https://localhost:8080/",
          "height": 300
        },
        "id": "Hd5z3M0NU9KH",
        "outputId": "f434364c-760d-4592-932c-cc8d9673e430"
      },
      "execution_count": null,
      "outputs": [
        {
          "output_type": "execute_result",
          "data": {
            "text/plain": [
              "                ph     Hardness        Solids  Chloramines      Sulfate  \\\n",
              "count  2785.000000  3276.000000   3276.000000  3276.000000  2495.000000   \n",
              "mean      7.080795   196.369496  22014.092526     7.122277   333.775777   \n",
              "std       1.594320    32.879761   8768.570828     1.583085    41.416840   \n",
              "min       0.000000    47.432000    320.942611     0.352000   129.000000   \n",
              "25%       6.093092   176.850538  15666.690297     6.127421   307.699498   \n",
              "50%       7.036752   196.967627  20927.833607     7.130299   333.073546   \n",
              "75%       8.062066   216.667456  27332.762127     8.114887   359.950170   \n",
              "max      14.000000   323.124000  61227.196008    13.127000   481.030642   \n",
              "\n",
              "       Conductivity  Organic_carbon  Trihalomethanes    Turbidity   Potability  \n",
              "count   3276.000000     3276.000000      3114.000000  3276.000000  3276.000000  \n",
              "mean     426.205111       14.284970        66.396293     3.966786     0.390110  \n",
              "std       80.824064        3.308162        16.175008     0.780382     0.487849  \n",
              "min      181.483754        2.200000         0.738000     1.450000     0.000000  \n",
              "25%      365.734414       12.065801        55.844536     3.439711     0.000000  \n",
              "50%      421.884968       14.218338        66.622485     3.955028     0.000000  \n",
              "75%      481.792304       16.557652        77.337473     4.500320     1.000000  \n",
              "max      753.342620       28.300000       124.000000     6.739000     1.000000  "
            ],
            "text/html": [
              "\n",
              "  <div id=\"df-0a7d82af-083f-4ddd-8017-7be5c9ade5ee\">\n",
              "    <div class=\"colab-df-container\">\n",
              "      <div>\n",
              "<style scoped>\n",
              "    .dataframe tbody tr th:only-of-type {\n",
              "        vertical-align: middle;\n",
              "    }\n",
              "\n",
              "    .dataframe tbody tr th {\n",
              "        vertical-align: top;\n",
              "    }\n",
              "\n",
              "    .dataframe thead th {\n",
              "        text-align: right;\n",
              "    }\n",
              "</style>\n",
              "<table border=\"1\" class=\"dataframe\">\n",
              "  <thead>\n",
              "    <tr style=\"text-align: right;\">\n",
              "      <th></th>\n",
              "      <th>ph</th>\n",
              "      <th>Hardness</th>\n",
              "      <th>Solids</th>\n",
              "      <th>Chloramines</th>\n",
              "      <th>Sulfate</th>\n",
              "      <th>Conductivity</th>\n",
              "      <th>Organic_carbon</th>\n",
              "      <th>Trihalomethanes</th>\n",
              "      <th>Turbidity</th>\n",
              "      <th>Potability</th>\n",
              "    </tr>\n",
              "  </thead>\n",
              "  <tbody>\n",
              "    <tr>\n",
              "      <th>count</th>\n",
              "      <td>2785.000000</td>\n",
              "      <td>3276.000000</td>\n",
              "      <td>3276.000000</td>\n",
              "      <td>3276.000000</td>\n",
              "      <td>2495.000000</td>\n",
              "      <td>3276.000000</td>\n",
              "      <td>3276.000000</td>\n",
              "      <td>3114.000000</td>\n",
              "      <td>3276.000000</td>\n",
              "      <td>3276.000000</td>\n",
              "    </tr>\n",
              "    <tr>\n",
              "      <th>mean</th>\n",
              "      <td>7.080795</td>\n",
              "      <td>196.369496</td>\n",
              "      <td>22014.092526</td>\n",
              "      <td>7.122277</td>\n",
              "      <td>333.775777</td>\n",
              "      <td>426.205111</td>\n",
              "      <td>14.284970</td>\n",
              "      <td>66.396293</td>\n",
              "      <td>3.966786</td>\n",
              "      <td>0.390110</td>\n",
              "    </tr>\n",
              "    <tr>\n",
              "      <th>std</th>\n",
              "      <td>1.594320</td>\n",
              "      <td>32.879761</td>\n",
              "      <td>8768.570828</td>\n",
              "      <td>1.583085</td>\n",
              "      <td>41.416840</td>\n",
              "      <td>80.824064</td>\n",
              "      <td>3.308162</td>\n",
              "      <td>16.175008</td>\n",
              "      <td>0.780382</td>\n",
              "      <td>0.487849</td>\n",
              "    </tr>\n",
              "    <tr>\n",
              "      <th>min</th>\n",
              "      <td>0.000000</td>\n",
              "      <td>47.432000</td>\n",
              "      <td>320.942611</td>\n",
              "      <td>0.352000</td>\n",
              "      <td>129.000000</td>\n",
              "      <td>181.483754</td>\n",
              "      <td>2.200000</td>\n",
              "      <td>0.738000</td>\n",
              "      <td>1.450000</td>\n",
              "      <td>0.000000</td>\n",
              "    </tr>\n",
              "    <tr>\n",
              "      <th>25%</th>\n",
              "      <td>6.093092</td>\n",
              "      <td>176.850538</td>\n",
              "      <td>15666.690297</td>\n",
              "      <td>6.127421</td>\n",
              "      <td>307.699498</td>\n",
              "      <td>365.734414</td>\n",
              "      <td>12.065801</td>\n",
              "      <td>55.844536</td>\n",
              "      <td>3.439711</td>\n",
              "      <td>0.000000</td>\n",
              "    </tr>\n",
              "    <tr>\n",
              "      <th>50%</th>\n",
              "      <td>7.036752</td>\n",
              "      <td>196.967627</td>\n",
              "      <td>20927.833607</td>\n",
              "      <td>7.130299</td>\n",
              "      <td>333.073546</td>\n",
              "      <td>421.884968</td>\n",
              "      <td>14.218338</td>\n",
              "      <td>66.622485</td>\n",
              "      <td>3.955028</td>\n",
              "      <td>0.000000</td>\n",
              "    </tr>\n",
              "    <tr>\n",
              "      <th>75%</th>\n",
              "      <td>8.062066</td>\n",
              "      <td>216.667456</td>\n",
              "      <td>27332.762127</td>\n",
              "      <td>8.114887</td>\n",
              "      <td>359.950170</td>\n",
              "      <td>481.792304</td>\n",
              "      <td>16.557652</td>\n",
              "      <td>77.337473</td>\n",
              "      <td>4.500320</td>\n",
              "      <td>1.000000</td>\n",
              "    </tr>\n",
              "    <tr>\n",
              "      <th>max</th>\n",
              "      <td>14.000000</td>\n",
              "      <td>323.124000</td>\n",
              "      <td>61227.196008</td>\n",
              "      <td>13.127000</td>\n",
              "      <td>481.030642</td>\n",
              "      <td>753.342620</td>\n",
              "      <td>28.300000</td>\n",
              "      <td>124.000000</td>\n",
              "      <td>6.739000</td>\n",
              "      <td>1.000000</td>\n",
              "    </tr>\n",
              "  </tbody>\n",
              "</table>\n",
              "</div>\n",
              "      <button class=\"colab-df-convert\" onclick=\"convertToInteractive('df-0a7d82af-083f-4ddd-8017-7be5c9ade5ee')\"\n",
              "              title=\"Convert this dataframe to an interactive table.\"\n",
              "              style=\"display:none;\">\n",
              "        \n",
              "  <svg xmlns=\"http://www.w3.org/2000/svg\" height=\"24px\"viewBox=\"0 0 24 24\"\n",
              "       width=\"24px\">\n",
              "    <path d=\"M0 0h24v24H0V0z\" fill=\"none\"/>\n",
              "    <path d=\"M18.56 5.44l.94 2.06.94-2.06 2.06-.94-2.06-.94-.94-2.06-.94 2.06-2.06.94zm-11 1L8.5 8.5l.94-2.06 2.06-.94-2.06-.94L8.5 2.5l-.94 2.06-2.06.94zm10 10l.94 2.06.94-2.06 2.06-.94-2.06-.94-.94-2.06-.94 2.06-2.06.94z\"/><path d=\"M17.41 7.96l-1.37-1.37c-.4-.4-.92-.59-1.43-.59-.52 0-1.04.2-1.43.59L10.3 9.45l-7.72 7.72c-.78.78-.78 2.05 0 2.83L4 21.41c.39.39.9.59 1.41.59.51 0 1.02-.2 1.41-.59l7.78-7.78 2.81-2.81c.8-.78.8-2.07 0-2.86zM5.41 20L4 18.59l7.72-7.72 1.47 1.35L5.41 20z\"/>\n",
              "  </svg>\n",
              "      </button>\n",
              "      \n",
              "  <style>\n",
              "    .colab-df-container {\n",
              "      display:flex;\n",
              "      flex-wrap:wrap;\n",
              "      gap: 12px;\n",
              "    }\n",
              "\n",
              "    .colab-df-convert {\n",
              "      background-color: #E8F0FE;\n",
              "      border: none;\n",
              "      border-radius: 50%;\n",
              "      cursor: pointer;\n",
              "      display: none;\n",
              "      fill: #1967D2;\n",
              "      height: 32px;\n",
              "      padding: 0 0 0 0;\n",
              "      width: 32px;\n",
              "    }\n",
              "\n",
              "    .colab-df-convert:hover {\n",
              "      background-color: #E2EBFA;\n",
              "      box-shadow: 0px 1px 2px rgba(60, 64, 67, 0.3), 0px 1px 3px 1px rgba(60, 64, 67, 0.15);\n",
              "      fill: #174EA6;\n",
              "    }\n",
              "\n",
              "    [theme=dark] .colab-df-convert {\n",
              "      background-color: #3B4455;\n",
              "      fill: #D2E3FC;\n",
              "    }\n",
              "\n",
              "    [theme=dark] .colab-df-convert:hover {\n",
              "      background-color: #434B5C;\n",
              "      box-shadow: 0px 1px 3px 1px rgba(0, 0, 0, 0.15);\n",
              "      filter: drop-shadow(0px 1px 2px rgba(0, 0, 0, 0.3));\n",
              "      fill: #FFFFFF;\n",
              "    }\n",
              "  </style>\n",
              "\n",
              "      <script>\n",
              "        const buttonEl =\n",
              "          document.querySelector('#df-0a7d82af-083f-4ddd-8017-7be5c9ade5ee button.colab-df-convert');\n",
              "        buttonEl.style.display =\n",
              "          google.colab.kernel.accessAllowed ? 'block' : 'none';\n",
              "\n",
              "        async function convertToInteractive(key) {\n",
              "          const element = document.querySelector('#df-0a7d82af-083f-4ddd-8017-7be5c9ade5ee');\n",
              "          const dataTable =\n",
              "            await google.colab.kernel.invokeFunction('convertToInteractive',\n",
              "                                                     [key], {});\n",
              "          if (!dataTable) return;\n",
              "\n",
              "          const docLinkHtml = 'Like what you see? Visit the ' +\n",
              "            '<a target=\"_blank\" href=https://colab.research.google.com/notebooks/data_table.ipynb>data table notebook</a>'\n",
              "            + ' to learn more about interactive tables.';\n",
              "          element.innerHTML = '';\n",
              "          dataTable['output_type'] = 'display_data';\n",
              "          await google.colab.output.renderOutput(dataTable, element);\n",
              "          const docLink = document.createElement('div');\n",
              "          docLink.innerHTML = docLinkHtml;\n",
              "          element.appendChild(docLink);\n",
              "        }\n",
              "      </script>\n",
              "    </div>\n",
              "  </div>\n",
              "  "
            ]
          },
          "metadata": {},
          "execution_count": 12
        }
      ]
    },
    {
      "cell_type": "code",
      "source": [
        "pot_lbl = df.Potability.value_counts()\n",
        "\n",
        "plt.figure(figsize=(8, 5))\n",
        "sns.barplot(pot_lbl.index, pot_lbl);\n",
        "plt.xlabel('Potability', fontsize=15)\n",
        "plt.ylabel('count', fontsize=15);"
      ],
      "metadata": {
        "colab": {
          "base_uri": "https://localhost:8080/",
          "height": 339
        },
        "id": "lqZTNuNlVvHS",
        "outputId": "7c054a0b-8880-4451-9f0e-631b77dcfccb"
      },
      "execution_count": null,
      "outputs": [
        {
          "output_type": "display_data",
          "data": {
            "text/plain": [
              "<Figure size 576x360 with 1 Axes>"
            ],
            "image/png": "[encoded data removed]"
          },
          "metadata": {
            "needs_background": "light"
          }
        }
      ]
    },
    {
      "cell_type": "code",
      "source": [
        "plt.figure(figsize=(10, 10))\n",
        "sns.heatmap(df.corr(), annot=True)\n",
        "plt.title('Correlation Matrix', fontsize=20);"
      ],
      "metadata": {
        "colab": {
          "base_uri": "https://localhost:8080/",
          "height": 685
        },
        "id": "wSfo7QoOWmGG",
        "outputId": "e513d8ca-92e7-4a86-f193-695d5f404c4a"
      },
      "execution_count": null,
      "outputs": [
        {
          "output_type": "display_data",
          "data": {
            "text/plain": [
              "<Figure size 720x720 with 2 Axes>"
            ],
            "image/png": "[encoded data removed]"
          },
          "metadata": {
            "needs_background": "light"
          }
        }
      ]
    },
    {
      "cell_type": "code",
      "source": [
        "duplicate_rows_df = df[df.duplicated()]\n",
        "print(\"number of duplicate rows: \", duplicate_rows_df.shape)\n"
      ],
      "metadata": {
        "colab": {
          "base_uri": "https://localhost:8080/"
        },
        "id": "LlTHE8S-5xlv",
        "outputId": "af6d5df6-f5d2-49c3-df4a-3ae7f2a4be6f"
      },
      "execution_count": null,
      "outputs": [
        {
          "output_type": "stream",
          "name": "stdout",
          "text": [
            "number of duplicate rows:  (0, 10)\n"
          ]
        }
      ]
    },
    {
      "cell_type": "code",
      "source": [
        "Q1 = df.quantile(0.25)\n",
        "Q3 = df.quantile(0.75)\n",
        "IQR = Q3 - Q1\n",
        "print(IQR)"
      ],
      "metadata": {
        "colab": {
          "base_uri": "https://localhost:8080/"
        },
        "id": "Zi1ARGvC7RLw",
        "outputId": "84da37b7-97b3-4ce5-f480-158ab7d2777a"
      },
      "execution_count": null,
      "outputs": [
        {
          "output_type": "stream",
          "name": "stdout",
          "text": [
            "ph                     1.968974\n",
            "Hardness              39.816918\n",
            "Solids             11666.071830\n",
            "Chloramines            1.987466\n",
            "Sulfate               52.250673\n",
            "Conductivity         116.057890\n",
            "Organic_carbon         4.491850\n",
            "Trihalomethanes       21.492937\n",
            "Turbidity              1.060609\n",
            "Potability             1.000000\n",
            "dtype: float64\n"
          ]
        }
      ]
    },
    {
      "cell_type": "code",
      "source": [
        "df = df[~((df < (Q1 - 1.5 * IQR)) |(df > (Q3 + 1.5 * IQR))).any(axis=1)]\n",
        "df.shape"
      ],
      "metadata": {
        "colab": {
          "base_uri": "https://localhost:8080/"
        },
        "id": "j-nqE8QB7TCh",
        "outputId": "cecb3da5-9212-43b1-885d-211f0b376ad4"
      },
      "execution_count": null,
      "outputs": [
        {
          "output_type": "execute_result",
          "data": {
            "text/plain": [
              "(2951, 10)"
            ]
          },
          "metadata": {},
          "execution_count": 15
        }
      ]
    },
    {
      "cell_type": "code",
      "source": [
        "for x in ['Turbidity','Trihalomethanes','Organic_carbon','Sulfate','Conductivity','Chloramines','Solids','Hardness','ph']:\n",
        "    q75,q25 = np.percentile(df.loc[:,x],[75,25])\n",
        "    intr_qr = q75-q25\n",
        " \n",
        "    max = q75+(1.5*intr_qr)\n",
        "    min = q25-(1.5*intr_qr)\n",
        " \n",
        "    df.loc[df[x] < min,x] = np.nan\n",
        "    df.loc[df[x] > max,x] = np.nan\n"
      ],
      "metadata": {
        "id": "rwvi9XD_orf6"
      },
      "execution_count": null,
      "outputs": []
    },
    {
      "cell_type": "code",
      "source": [
        "df.isnull().sum()"
      ],
      "metadata": {
        "colab": {
          "base_uri": "https://localhost:8080/"
        },
        "id": "TIoQWGHJtwGv",
        "outputId": "ea6e7d9c-7a52-4fa7-fb95-85a5c5500b39"
      },
      "execution_count": null,
      "outputs": [
        {
          "output_type": "execute_result",
          "data": {
            "text/plain": [
              "ph                 451\n",
              "Hardness             0\n",
              "Solids               0\n",
              "Chloramines          0\n",
              "Sulfate            704\n",
              "Conductivity         0\n",
              "Organic_carbon       0\n",
              "Trihalomethanes    147\n",
              "Turbidity            0\n",
              "Potability           0\n",
              "dtype: int64"
            ]
          },
          "metadata": {},
          "execution_count": 16
        }
      ]
    },
    {
      "cell_type": "code",
      "source": [
        "\n",
        " \n",
        "missing_col = ['Turbidity','Trihalomethanes','Organic_carbon','Sulfate','Conductivity','Chloramines','Solids','Hardness','ph']\n",
        " \n",
        "#Technique 2: Using median to impute the missing values\n",
        "for i in missing_col:\n",
        " df.loc[df.loc[:,i].isnull(),i]=df.loc[:,i].median()\n",
        " \n",
        "print(\"count of NULL values after imputation\\n\")\n",
        "df.isnull().sum()\n"
      ],
      "metadata": {
        "colab": {
          "base_uri": "https://localhost:8080/"
        },
        "id": "egQY3k6ItaEU",
        "outputId": "535ff123-20d0-44eb-84cf-9a82bfa173d3"
      },
      "execution_count": null,
      "outputs": [
        {
          "output_type": "stream",
          "name": "stdout",
          "text": [
            "count of NULL values after imputation\n",
            "\n"
          ]
        },
        {
          "output_type": "execute_result",
          "data": {
            "text/plain": [
              "ph                 0\n",
              "Hardness           0\n",
              "Solids             0\n",
              "Chloramines        0\n",
              "Sulfate            0\n",
              "Conductivity       0\n",
              "Organic_carbon     0\n",
              "Trihalomethanes    0\n",
              "Turbidity          0\n",
              "Potability         0\n",
              "dtype: int64"
            ]
          },
          "metadata": {},
          "execution_count": 13
        }
      ]
    },
    {
      "cell_type": "code",
      "source": [
        "df.isnull().sum()"
      ],
      "metadata": {
        "colab": {
          "base_uri": "https://localhost:8080/"
        },
        "id": "U4WO5Oif7a49",
        "outputId": "c2ac6b54-7b04-4606-c83b-4fa2a4bd5b02"
      },
      "execution_count": null,
      "outputs": [
        {
          "output_type": "execute_result",
          "data": {
            "text/plain": [
              "ph                 0\n",
              "Hardness           0\n",
              "Solids             0\n",
              "Chloramines        0\n",
              "Sulfate            0\n",
              "Conductivity       0\n",
              "Organic_carbon     0\n",
              "Trihalomethanes    0\n",
              "Turbidity          0\n",
              "Potability         0\n",
              "dtype: int64"
            ]
          },
          "metadata": {},
          "execution_count": 14
        }
      ]
    },
    {
      "cell_type": "code",
      "source": [
        "for column in df.columns[:-1]:\n",
        "    plt.figure(figsize=(10, 5))\n",
        "    sns.boxplot(df[column])\n",
        "    plt.title('Box plot of {}'.format(column), fontsize=20);"
      ],
      "metadata": {
        "colab": {
          "base_uri": "https://localhost:8080/",
          "height": 1000
        },
        "id": "0ZrQ_33bWqOg",
        "outputId": "c5e5792c-4754-4bf8-ab5c-a0fcadc0d1ca"
      },
      "execution_count": null,
      "outputs": [
        {
          "output_type": "display_data",
          "data": {
            "text/plain": [
              "<Figure size 720x360 with 1 Axes>"
            ],
            "image/png": "[encoded data removed]"
          },
          "metadata": {
            "needs_background": "light"
          }
        },
        {
          "output_type": "display_data",
          "data": {
            "text/plain": [
              "<Figure size 720x360 with 1 Axes>"
            ],
            "image/png": "[encoded data removed]"
          },
          "metadata": {
            "needs_background": "light"
          }
        },
        {
          "output_type": "display_data",
          "data": {
            "text/plain": [
              "<Figure size 720x360 with 1 Axes>"
            ],
            "image/png": "[encoded data removed]"
          },
          "metadata": {
            "needs_background": "light"
          }
        },
        {
          "output_type": "display_data",
          "data": {
            "text/plain": [
              "<Figure size 720x360 with 1 Axes>"
            ],
            "image/png": "[encoded data removed]"
          },
          "metadata": {
            "needs_background": "light"
          }
        },
        {
          "output_type": "display_data",
          "data": {
            "text/plain": [
              "<Figure size 720x360 with 1 Axes>"
            ],
            "image/png": "[encoded data removed]"
          },
          "metadata": {
            "needs_background": "light"
          }
        },
        {
          "output_type": "display_data",
          "data": {
            "text/plain": [
              "<Figure size 720x360 with 1 Axes>"
            ],
            "image/png": "[encoded data removed]"
          },
          "metadata": {
            "needs_background": "light"
          }
        },
        {
          "output_type": "display_data",
          "data": {
            "text/plain": [
              "<Figure size 720x360 with 1 Axes>"
            ],
            "image/png": "[encoded data removed]"
          },
          "metadata": {
            "needs_background": "light"
          }
        },
        {
          "output_type": "display_data",
          "data": {
            "text/plain": [
              "<Figure size 720x360 with 1 Axes>"
            ],
            "image/png": "[encoded data removed]"
          },
          "metadata": {
            "needs_background": "light"
          }
        },
        {
          "output_type": "display_data",
          "data": {
            "text/plain": [
              "<Figure size 720x360 with 1 Axes>"
            ],
            "image/png": "[encoded data removed]"
          },
          "metadata": {
            "needs_background": "light"
          }
        }
      ]
    },
    {
      "cell_type": "code",
      "source": [
        "for column in df.columns[:-1]:\n",
        "    plt.figure(figsize=(10, 5))\n",
        "    sns.violinplot(df[column])\n",
        "    plt.title('Violin plot of {}'.format(column), fontsize=20);"
      ],
      "metadata": {
        "colab": {
          "base_uri": "https://localhost:8080/",
          "height": 1000
        },
        "id": "VnXUeHMTYWZF",
        "outputId": "bbbfbb96-e3de-4c41-f8f6-5b99b474ad68"
      },
      "execution_count": null,
      "outputs": [
        {
          "output_type": "display_data",
          "data": {
            "text/plain": [
              "<Figure size 720x360 with 1 Axes>"
            ],
            "image/png": "[encoded data removed]"
          },
          "metadata": {}
        },
        {
          "output_type": "display_data",
          "data": {
            "text/plain": [
              "<Figure size 720x360 with 1 Axes>"
            ],
            "image/png": "[encoded data removed]"
          },
          "metadata": {}
        },
        {
          "output_type": "display_data",
          "data": {
            "text/plain": [
              "<Figure size 720x360 with 1 Axes>"
            ],
            "image/png": "[encoded data removed]"
          },
          "metadata": {}
        },
        {
          "output_type": "display_data",
          "data": {
            "text/plain": [
              "<Figure size 720x360 with 1 Axes>"
            ],
            "image/png": "[encoded data removed]"
          },
          "metadata": {}
        },
        {
          "output_type": "display_data",
          "data": {
            "text/plain": [
              "<Figure size 720x360 with 1 Axes>"
            ],
            "image/png": "[encoded data removed]"
          },
          "metadata": {}
        },
        {
          "output_type": "display_data",
          "data": {
            "text/plain": [
              "<Figure size 720x360 with 1 Axes>"
            ],
            "image/png": "[encoded data removed]"
          },
          "metadata": {}
        },
        {
          "output_type": "display_data",
          "data": {
            "text/plain": [
              "<Figure size 720x360 with 1 Axes>"
            ],
            "image/png": "[encoded data removed]"
          },
          "metadata": {}
        },
        {
          "output_type": "display_data",
          "data": {
            "text/plain": [
              "<Figure size 720x360 with 1 Axes>"
            ],
            "image/png": "[encoded data removed]"
          },
          "metadata": {}
        },
        {
          "output_type": "display_data",
          "data": {
            "text/plain": [
              "<Figure size 720x360 with 1 Axes>"
            ],
            "image/png": "[encoded data removed]"
          },
          "metadata": {}
        }
      ]
    },
    {
      "cell_type": "code",
      "source": [
        "for column in df.columns[:-1]:\n",
        "    plt.figure(figsize=(10, 5))\n",
        "    sns.histplot(df[column], kde=True)\n",
        "    plt.xlabel(column, fontsize=15)\n",
        "    plt.ylabel('count', fontsize=15)\n",
        "    plt.title('Histogram plot of {}'.format(column), fontsize=20);"
      ],
      "metadata": {
        "colab": {
          "base_uri": "https://localhost:8080/",
          "height": 1000
        },
        "id": "xMvGfQwbYfXe",
        "outputId": "ed87070e-3508-4254-d4f2-67a8da7386b0"
      },
      "execution_count": null,
      "outputs": [
        {
          "output_type": "display_data",
          "data": {
            "text/plain": [
              "<Figure size 720x360 with 1 Axes>"
            ],
            "image/png": "[encoded data removed]"
          },
          "metadata": {
            "needs_background": "light"
          }
        },
        {
          "output_type": "display_data",
          "data": {
            "text/plain": [
              "<Figure size 720x360 with 1 Axes>"
            ],
            "image/png": "[encoded data removed]"
          },
          "metadata": {
            "needs_background": "light"
          }
        },
        {
          "output_type": "display_data",
          "data": {
            "text/plain": [
              "<Figure size 720x360 with 1 Axes>"
            ],
            "image/png": "[encoded data removed]"
          },
          "metadata": {
            "needs_background": "light"
          }
        },
        {
          "output_type": "display_data",
          "data": {
            "text/plain": [
              "<Figure size 720x360 with 1 Axes>"
            ],
            "image/png": "[encoded data removed]"
          },
          "metadata": {
            "needs_background": "light"
          }
        },
        {
          "output_type": "display_data",
          "data": {
            "text/plain": [
              "<Figure size 720x360 with 1 Axes>"
            ],
            "image/png": "[encoded data removed]"
          },
          "metadata": {
            "needs_background": "light"
          }
        },
        {
          "output_type": "display_data",
          "data": {
            "text/plain": [
              "<Figure size 720x360 with 1 Axes>"
            ],
            "image/png": "[encoded data removed]"
          },
          "metadata": {
            "needs_background": "light"
          }
        },
        {
          "output_type": "display_data",
          "data": {
            "text/plain": [
              "<Figure size 720x360 with 1 Axes>"
            ],
            "image/png": "[encoded data removed]"
          },
          "metadata": {
            "needs_background": "light"
          }
        },
        {
          "output_type": "display_data",
          "data": {
            "text/plain": [
              "<Figure size 720x360 with 1 Axes>"
            ],
            "image/png": "[encoded data removed]"
          },
          "metadata": {
            "needs_background": "light"
          }
        },
        {
          "output_type": "display_data",
          "data": {
            "text/plain": [
              "<Figure size 720x360 with 1 Axes>"
            ],
            "image/png": "[encoded data removed]"
          },
          "metadata": {
            "needs_background": "light"
          }
        }
      ]
    },
    {
      "cell_type": "code",
      "source": [
        ""
      ],
      "metadata": {
        "id": "eiWiml1WFlGH"
      },
      "execution_count": null,
      "outputs": []
    },
    {
      "cell_type": "code",
      "source": [
        "ph_median = df[df['Potability'] == 0]['ph'].median(skipna=True)\n",
        "df.loc[(df['Potability'] == 0) & (df['ph'].isna()), 'ph'] = ph_median\n",
        "\n",
        "ph_median_1 = df[df['Potability'] == 1]['ph'].median(skipna=True)\n",
        "df.loc[(df['Potability'] == 1) & (df['ph'].isna()), 'ph'] = ph_median_1\n",
        "\n",
        "sulf_median = df[df['Potability'] == 0]['Sulfate'].median(skipna=True)\n",
        "df.loc[(df['Potability'] == 0) & (df['Sulfate'].isna()), 'Sulfate'] = sulf_median\n",
        "\n",
        "sulf_median_1 = df[df['Potability'] == 1]['Sulfate'].median(skipna=True)\n",
        "df.loc[(df['Potability'] == 1) & (df['Sulfate'].isna()), 'Sulfate'] = sulf_median_1\n",
        "\n",
        "traih_median = df[df['Potability'] == 0]['Trihalomethanes'].median(skipna=True)\n",
        "df.loc[(df['Potability'] == 0) & (df['Trihalomethanes'].isna()), 'Trihalomethanes'] = traih_median\n",
        "\n",
        "trah_median_1 = df[df['Potability'] == 1]['Trihalomethanes'].median(skipna=True)\n",
        "df.loc[(df['Potability'] == 1) & (df['Trihalomethanes'].isna()), 'Trihalomethanes'] = trah_median_1"
      ],
      "metadata": {
        "id": "dPYjEJ7UKH5f"
      },
      "execution_count": null,
      "outputs": []
    },
    {
      "cell_type": "code",
      "source": [
        "df.isnull().sum()"
      ],
      "metadata": {
        "colab": {
          "base_uri": "https://localhost:8080/"
        },
        "id": "upVnwxjW7l74",
        "outputId": "ff20910a-b8eb-4436-d7db-a47bcffac77b"
      },
      "execution_count": null,
      "outputs": [
        {
          "output_type": "execute_result",
          "data": {
            "text/plain": [
              "ph                 0\n",
              "Hardness           0\n",
              "Solids             0\n",
              "Chloramines        0\n",
              "Sulfate            0\n",
              "Conductivity       0\n",
              "Organic_carbon     0\n",
              "Trihalomethanes    0\n",
              "Turbidity          0\n",
              "Potability         0\n",
              "dtype: int64"
            ]
          },
          "metadata": {},
          "execution_count": 18
        }
      ]
    },
    {
      "cell_type": "code",
      "source": [
        "df.head()"
      ],
      "metadata": {
        "colab": {
          "base_uri": "https://localhost:8080/",
          "height": 206
        },
        "id": "vFAQv1aFovU_",
        "outputId": "316ec8a6-4c17-4156-add0-61e856f29626"
      },
      "execution_count": null,
      "outputs": [
        {
          "output_type": "execute_result",
          "data": {
            "text/plain": [
              "         ph    Hardness        Solids  Chloramines     Sulfate  Conductivity  \\\n",
              "0  7.025306  204.890455  20791.318981     7.300212  368.516441    564.308654   \n",
              "1  3.716080  129.422921  18630.057858     6.635246  333.499203    592.885359   \n",
              "2  8.099124  224.236259  19909.541732     9.275884  333.499203    418.606213   \n",
              "3  8.316766  214.373394  22018.417441     8.059332  356.886136    363.266516   \n",
              "4  9.092223  181.101509  17978.986339     6.546600  310.135738    398.410813   \n",
              "\n",
              "   Organic_carbon  Trihalomethanes  Turbidity  Potability  \n",
              "0       10.379783        86.990970   2.963135           0  \n",
              "1       15.180013        56.329076   4.500656           0  \n",
              "2       16.868637        66.420093   3.055934           0  \n",
              "3       18.436524       100.341674   4.628771           0  \n",
              "4       11.558279        31.997993   4.075075           0  "
            ],
            "text/html": [
              "\n",
              "  <div id=\"df-ffbc08ae-d7da-438f-935f-f24bee4671de\">\n",
              "    <div class=\"colab-df-container\">\n",
              "      <div>\n",
              "<style scoped>\n",
              "    .dataframe tbody tr th:only-of-type {\n",
              "        vertical-align: middle;\n",
              "    }\n",
              "\n",
              "    .dataframe tbody tr th {\n",
              "        vertical-align: top;\n",
              "    }\n",
              "\n",
              "    .dataframe thead th {\n",
              "        text-align: right;\n",
              "    }\n",
              "</style>\n",
              "<table border=\"1\" class=\"dataframe\">\n",
              "  <thead>\n",
              "    <tr style=\"text-align: right;\">\n",
              "      <th></th>\n",
              "      <th>ph</th>\n",
              "      <th>Hardness</th>\n",
              "      <th>Solids</th>\n",
              "      <th>Chloramines</th>\n",
              "      <th>Sulfate</th>\n",
              "      <th>Conductivity</th>\n",
              "      <th>Organic_carbon</th>\n",
              "      <th>Trihalomethanes</th>\n",
              "      <th>Turbidity</th>\n",
              "      <th>Potability</th>\n",
              "    </tr>\n",
              "  </thead>\n",
              "  <tbody>\n",
              "    <tr>\n",
              "      <th>0</th>\n",
              "      <td>7.025306</td>\n",
              "      <td>204.890455</td>\n",
              "      <td>20791.318981</td>\n",
              "      <td>7.300212</td>\n",
              "      <td>368.516441</td>\n",
              "      <td>564.308654</td>\n",
              "      <td>10.379783</td>\n",
              "      <td>86.990970</td>\n",
              "      <td>2.963135</td>\n",
              "      <td>0</td>\n",
              "    </tr>\n",
              "    <tr>\n",
              "      <th>1</th>\n",
              "      <td>3.716080</td>\n",
              "      <td>129.422921</td>\n",
              "      <td>18630.057858</td>\n",
              "      <td>6.635246</td>\n",
              "      <td>333.499203</td>\n",
              "      <td>592.885359</td>\n",
              "      <td>15.180013</td>\n",
              "      <td>56.329076</td>\n",
              "      <td>4.500656</td>\n",
              "      <td>0</td>\n",
              "    </tr>\n",
              "    <tr>\n",
              "      <th>2</th>\n",
              "      <td>8.099124</td>\n",
              "      <td>224.236259</td>\n",
              "      <td>19909.541732</td>\n",
              "      <td>9.275884</td>\n",
              "      <td>333.499203</td>\n",
              "      <td>418.606213</td>\n",
              "      <td>16.868637</td>\n",
              "      <td>66.420093</td>\n",
              "      <td>3.055934</td>\n",
              "      <td>0</td>\n",
              "    </tr>\n",
              "    <tr>\n",
              "      <th>3</th>\n",
              "      <td>8.316766</td>\n",
              "      <td>214.373394</td>\n",
              "      <td>22018.417441</td>\n",
              "      <td>8.059332</td>\n",
              "      <td>356.886136</td>\n",
              "      <td>363.266516</td>\n",
              "      <td>18.436524</td>\n",
              "      <td>100.341674</td>\n",
              "      <td>4.628771</td>\n",
              "      <td>0</td>\n",
              "    </tr>\n",
              "    <tr>\n",
              "      <th>4</th>\n",
              "      <td>9.092223</td>\n",
              "      <td>181.101509</td>\n",
              "      <td>17978.986339</td>\n",
              "      <td>6.546600</td>\n",
              "      <td>310.135738</td>\n",
              "      <td>398.410813</td>\n",
              "      <td>11.558279</td>\n",
              "      <td>31.997993</td>\n",
              "      <td>4.075075</td>\n",
              "      <td>0</td>\n",
              "    </tr>\n",
              "  </tbody>\n",
              "</table>\n",
              "</div>\n",
              "      <button class=\"colab-df-convert\" onclick=\"convertToInteractive('df-ffbc08ae-d7da-438f-935f-f24bee4671de')\"\n",
              "              title=\"Convert this dataframe to an interactive table.\"\n",
              "              style=\"display:none;\">\n",
              "        \n",
              "  <svg xmlns=\"http://www.w3.org/2000/svg\" height=\"24px\"viewBox=\"0 0 24 24\"\n",
              "       width=\"24px\">\n",
              "    <path d=\"M0 0h24v24H0V0z\" fill=\"none\"/>\n",
              "    <path d=\"M18.56 5.44l.94 2.06.94-2.06 2.06-.94-2.06-.94-.94-2.06-.94 2.06-2.06.94zm-11 1L8.5 8.5l.94-2.06 2.06-.94-2.06-.94L8.5 2.5l-.94 2.06-2.06.94zm10 10l.94 2.06.94-2.06 2.06-.94-2.06-.94-.94-2.06-.94 2.06-2.06.94z\"/><path d=\"M17.41 7.96l-1.37-1.37c-.4-.4-.92-.59-1.43-.59-.52 0-1.04.2-1.43.59L10.3 9.45l-7.72 7.72c-.78.78-.78 2.05 0 2.83L4 21.41c.39.39.9.59 1.41.59.51 0 1.02-.2 1.41-.59l7.78-7.78 2.81-2.81c.8-.78.8-2.07 0-2.86zM5.41 20L4 18.59l7.72-7.72 1.47 1.35L5.41 20z\"/>\n",
              "  </svg>\n",
              "      </button>\n",
              "      \n",
              "  <style>\n",
              "    .colab-df-container {\n",
              "      display:flex;\n",
              "      flex-wrap:wrap;\n",
              "      gap: 12px;\n",
              "    }\n",
              "\n",
              "    .colab-df-convert {\n",
              "      background-color: #E8F0FE;\n",
              "      border: none;\n",
              "      border-radius: 50%;\n",
              "      cursor: pointer;\n",
              "      display: none;\n",
              "      fill: #1967D2;\n",
              "      height: 32px;\n",
              "      padding: 0 0 0 0;\n",
              "      width: 32px;\n",
              "    }\n",
              "\n",
              "    .colab-df-convert:hover {\n",
              "      background-color: #E2EBFA;\n",
              "      box-shadow: 0px 1px 2px rgba(60, 64, 67, 0.3), 0px 1px 3px 1px rgba(60, 64, 67, 0.15);\n",
              "      fill: #174EA6;\n",
              "    }\n",
              "\n",
              "    [theme=dark] .colab-df-convert {\n",
              "      background-color: #3B4455;\n",
              "      fill: #D2E3FC;\n",
              "    }\n",
              "\n",
              "    [theme=dark] .colab-df-convert:hover {\n",
              "      background-color: #434B5C;\n",
              "      box-shadow: 0px 1px 3px 1px rgba(0, 0, 0, 0.15);\n",
              "      filter: drop-shadow(0px 1px 2px rgba(0, 0, 0, 0.3));\n",
              "      fill: #FFFFFF;\n",
              "    }\n",
              "  </style>\n",
              "\n",
              "      <script>\n",
              "        const buttonEl =\n",
              "          document.querySelector('#df-ffbc08ae-d7da-438f-935f-f24bee4671de button.colab-df-convert');\n",
              "        buttonEl.style.display =\n",
              "          google.colab.kernel.accessAllowed ? 'block' : 'none';\n",
              "\n",
              "        async function convertToInteractive(key) {\n",
              "          const element = document.querySelector('#df-ffbc08ae-d7da-438f-935f-f24bee4671de');\n",
              "          const dataTable =\n",
              "            await google.colab.kernel.invokeFunction('convertToInteractive',\n",
              "                                                     [key], {});\n",
              "          if (!dataTable) return;\n",
              "\n",
              "          const docLinkHtml = 'Like what you see? Visit the ' +\n",
              "            '<a target=\"_blank\" href=https://colab.research.google.com/notebooks/data_table.ipynb>data table notebook</a>'\n",
              "            + ' to learn more about interactive tables.';\n",
              "          element.innerHTML = '';\n",
              "          dataTable['output_type'] = 'display_data';\n",
              "          await google.colab.output.renderOutput(dataTable, element);\n",
              "          const docLink = document.createElement('div');\n",
              "          docLink.innerHTML = docLinkHtml;\n",
              "          element.appendChild(docLink);\n",
              "        }\n",
              "      </script>\n",
              "    </div>\n",
              "  </div>\n",
              "  "
            ]
          },
          "metadata": {},
          "execution_count": 19
        }
      ]
    },
    {
      "cell_type": "code",
      "source": [
        "!pip install catboost"
      ],
      "metadata": {
        "colab": {
          "base_uri": "https://localhost:8080/"
        },
        "id": "kwU9qwqs9wlY",
        "outputId": "8279eaa2-dd6c-4049-ebba-3326c1469725"
      },
      "execution_count": null,
      "outputs": [
        {
          "output_type": "stream",
          "name": "stdout",
          "text": [
            "Requirement already satisfied: catboost in /usr/local/lib/python3.7/dist-packages (1.0.5)\n",
            "Requirement already satisfied: plotly in /usr/local/lib/python3.7/dist-packages (from catboost) (5.5.0)\n",
            "Requirement already satisfied: graphviz in /usr/local/lib/python3.7/dist-packages (from catboost) (0.10.1)\n",
            "Requirement already satisfied: pandas>=0.24.0 in /usr/local/lib/python3.7/dist-packages (from catboost) (1.3.5)\n",
            "Requirement already satisfied: six in /usr/local/lib/python3.7/dist-packages (from catboost) (1.15.0)\n",
            "Requirement already satisfied: numpy>=1.16.0 in /usr/local/lib/python3.7/dist-packages (from catboost) (1.21.6)\n",
            "Requirement already satisfied: matplotlib in /usr/local/lib/python3.7/dist-packages (from catboost) (3.2.2)\n",
            "Requirement already satisfied: scipy in /usr/local/lib/python3.7/dist-packages (from catboost) (1.4.1)\n",
            "Requirement already satisfied: python-dateutil>=2.7.3 in /usr/local/lib/python3.7/dist-packages (from pandas>=0.24.0->catboost) (2.8.2)\n",
            "Requirement already satisfied: pytz>=2017.3 in /usr/local/lib/python3.7/dist-packages (from pandas>=0.24.0->catboost) (2022.1)\n",
            "Requirement already satisfied: kiwisolver>=1.0.1 in /usr/local/lib/python3.7/dist-packages (from matplotlib->catboost) (1.4.2)\n",
            "Requirement already satisfied: cycler>=0.10 in /usr/local/lib/python3.7/dist-packages (from matplotlib->catboost) (0.11.0)\n",
            "Requirement already satisfied: pyparsing!=2.0.4,!=2.1.2,!=2.1.6,>=2.0.1 in /usr/local/lib/python3.7/dist-packages (from matplotlib->catboost) (3.0.8)\n",
            "Requirement already satisfied: typing-extensions in /usr/local/lib/python3.7/dist-packages (from kiwisolver>=1.0.1->matplotlib->catboost) (4.1.1)\n",
            "Requirement already satisfied: tenacity>=6.2.0 in /usr/local/lib/python3.7/dist-packages (from plotly->catboost) (8.0.1)\n"
          ]
        }
      ]
    },
    {
      "cell_type": "code",
      "source": [
        "from catboost import CatBoostClassifier"
      ],
      "metadata": {
        "id": "ogvvelR093fc"
      },
      "execution_count": null,
      "outputs": []
    },
    {
      "cell_type": "code",
      "source": [
        "X = df.iloc[:, :-1]\n",
        "y = df.iloc[:, -1]"
      ],
      "metadata": {
        "id": "M0bvpx42oxTP"
      },
      "execution_count": null,
      "outputs": []
    },
    {
      "cell_type": "code",
      "source": [
        "X_train, X_test, y_train, y_test = train_test_split(X, y, test_size=0.2, random_state=0)"
      ],
      "metadata": {
        "id": "-1vBgTNAtK7L"
      },
      "execution_count": null,
      "outputs": []
    },
    {
      "cell_type": "code",
      "source": [
        "print(\"X_train shape: \", X_train.shape)\n",
        "print(\"X_test shape: \", X_test.shape)"
      ],
      "metadata": {
        "colab": {
          "base_uri": "https://localhost:8080/"
        },
        "id": "3u06BpC8tNfO",
        "outputId": "914a0e62-3882-48fe-d8b1-c880b099342c"
      },
      "execution_count": null,
      "outputs": [
        {
          "output_type": "stream",
          "name": "stdout",
          "text": [
            "X_train shape:  (2360, 9)\n",
            "X_test shape:  (591, 9)\n"
          ]
        }
      ]
    },
    {
      "cell_type": "code",
      "source": [
        "mn = MinMaxScaler()\n",
        "\n",
        "X_train = mn.fit_transform(X_train)\n",
        "X_test = mn.transform(X_test)"
      ],
      "metadata": {
        "id": "6Z-NMJ-Xtcqr"
      },
      "execution_count": null,
      "outputs": []
    },
    {
      "cell_type": "code",
      "source": [
        "best_feature = SelectKBest(score_func = chi2, k = 9)\n",
        "fit= best_feature.fit(X,y)"
      ],
      "metadata": {
        "id": "soogvmYqPgCn"
      },
      "execution_count": null,
      "outputs": []
    },
    {
      "cell_type": "code",
      "source": [
        "rs = RobustScaler()\n",
        "X_train = rs.fit_transform(X_train)\n",
        "X_test = rs.transform(X_test)"
      ],
      "metadata": {
        "id": "3OdSQdrqTRIR"
      },
      "execution_count": null,
      "outputs": []
    },
    {
      "cell_type": "code",
      "source": [
        "mab = MaxAbsScaler()\n",
        "X_train = mab.fit_transform(X_train)\n",
        "X_test = mab.transform(X_test)"
      ],
      "metadata": {
        "id": "WhrS8JGLzvW_"
      },
      "execution_count": null,
      "outputs": []
    },
    {
      "cell_type": "code",
      "source": [
        "pt = PowerTransformer()\n",
        "X_train = pt.fit_transform(X_train)\n",
        "X_test = pt.transform(X_test)"
      ],
      "metadata": {
        "id": "yyhFKGFC51Ec"
      },
      "execution_count": null,
      "outputs": []
    },
    {
      "cell_type": "code",
      "source": [
        "qt = QuantileTransformer()\n",
        "X_train = qt.fit_transform(X_train)\n",
        "X_test = qt.transform(X_test)"
      ],
      "metadata": {
        "id": "Mqw1lAIl6dmr"
      },
      "execution_count": null,
      "outputs": []
    },
    {
      "cell_type": "code",
      "source": [
        "models_acc = []\n",
        "\n",
        "models = [LogisticRegression(), KNeighborsClassifier(),DecisionTreeClassifier(), RandomForestClassifier(), GaussianNB(), SVC(),XGBClassifier(), lgb.LGBMClassifier(), CatBoostClassifier(), LinearDiscriminantAnalysis(), AdaBoostClassifier()]\n",
        "\n",
        "for model in models:\n",
        "   \n",
        "    model.fit(X_train, y_train)\n",
        "    \n",
        "    pred = model.predict(X_test)\n",
        "    \n",
        "    models_acc.append(accuracy_score(y_test, pred))"
      ],
      "metadata": {
        "id": "07WRkndWtScX",
        "colab": {
          "base_uri": "https://localhost:8080/"
        },
        "outputId": "ba2c27e5-a559-4ce2-aa54-36f19a18e76f"
      },
      "execution_count": null,
      "outputs": [
        {
          "output_type": "stream",
          "name": "stdout",
          "text": [
            "Learning rate set to 0.014865\n",
            "0:\tlearn: 0.6839254\ttotal: 54.2ms\tremaining: 54.1s\n",
            "1:\tlearn: 0.6762948\ttotal: 67.9ms\tremaining: 33.9s\n",
            "2:\tlearn: 0.6711504\ttotal: 76.1ms\tremaining: 25.3s\n",
            "3:\tlearn: 0.6650708\ttotal: 84.5ms\tremaining: 21s\n",
            "4:\tlearn: 0.6590119\ttotal: 88.3ms\tremaining: 17.6s\n",
            "5:\tlearn: 0.6524743\ttotal: 99.9ms\tremaining: 16.6s\n",
            "6:\tlearn: 0.6458071\ttotal: 116ms\tremaining: 16.5s\n",
            "7:\tlearn: 0.6403490\ttotal: 125ms\tremaining: 15.4s\n",
            "8:\tlearn: 0.6360438\ttotal: 130ms\tremaining: 14.3s\n",
            "9:\tlearn: 0.6294896\ttotal: 140ms\tremaining: 13.8s\n",
            "10:\tlearn: 0.6264901\ttotal: 149ms\tremaining: 13.4s\n",
            "11:\tlearn: 0.6211811\ttotal: 184ms\tremaining: 15.2s\n",
            "12:\tlearn: 0.6171036\ttotal: 201ms\tremaining: 15.3s\n",
            "13:\tlearn: 0.6117120\ttotal: 212ms\tremaining: 14.9s\n",
            "14:\tlearn: 0.6082670\ttotal: 216ms\tremaining: 14.2s\n",
            "15:\tlearn: 0.6040168\ttotal: 225ms\tremaining: 13.8s\n",
            "16:\tlearn: 0.5995712\ttotal: 230ms\tremaining: 13.3s\n",
            "17:\tlearn: 0.5938182\ttotal: 239ms\tremaining: 13s\n",
            "18:\tlearn: 0.5888859\ttotal: 248ms\tremaining: 12.8s\n",
            "19:\tlearn: 0.5858745\ttotal: 253ms\tremaining: 12.4s\n",
            "20:\tlearn: 0.5829762\ttotal: 268ms\tremaining: 12.5s\n",
            "21:\tlearn: 0.5804089\ttotal: 272ms\tremaining: 12.1s\n",
            "22:\tlearn: 0.5784987\ttotal: 277ms\tremaining: 11.7s\n",
            "23:\tlearn: 0.5750783\ttotal: 308ms\tremaining: 12.5s\n",
            "24:\tlearn: 0.5718344\ttotal: 318ms\tremaining: 12.4s\n",
            "25:\tlearn: 0.5683398\ttotal: 330ms\tremaining: 12.4s\n",
            "26:\tlearn: 0.5664795\ttotal: 339ms\tremaining: 12.2s\n",
            "27:\tlearn: 0.5644265\ttotal: 355ms\tremaining: 12.3s\n",
            "28:\tlearn: 0.5625176\ttotal: 369ms\tremaining: 12.3s\n",
            "29:\tlearn: 0.5595050\ttotal: 379ms\tremaining: 12.3s\n",
            "30:\tlearn: 0.5565627\ttotal: 399ms\tremaining: 12.5s\n",
            "31:\tlearn: 0.5548171\ttotal: 403ms\tremaining: 12.2s\n",
            "32:\tlearn: 0.5537761\ttotal: 418ms\tremaining: 12.2s\n",
            "33:\tlearn: 0.5512596\ttotal: 422ms\tremaining: 12s\n",
            "34:\tlearn: 0.5492126\ttotal: 431ms\tremaining: 11.9s\n",
            "35:\tlearn: 0.5462437\ttotal: 436ms\tremaining: 11.7s\n",
            "36:\tlearn: 0.5441953\ttotal: 441ms\tremaining: 11.5s\n",
            "37:\tlearn: 0.5410936\ttotal: 451ms\tremaining: 11.4s\n",
            "38:\tlearn: 0.5378916\ttotal: 465ms\tremaining: 11.5s\n",
            "39:\tlearn: 0.5355670\ttotal: 468ms\tremaining: 11.2s\n",
            "40:\tlearn: 0.5341533\ttotal: 473ms\tremaining: 11.1s\n",
            "41:\tlearn: 0.5324626\ttotal: 477ms\tremaining: 10.9s\n",
            "42:\tlearn: 0.5317565\ttotal: 481ms\tremaining: 10.7s\n",
            "43:\tlearn: 0.5303204\ttotal: 487ms\tremaining: 10.6s\n",
            "44:\tlearn: 0.5284327\ttotal: 501ms\tremaining: 10.6s\n",
            "45:\tlearn: 0.5272952\ttotal: 512ms\tremaining: 10.6s\n",
            "46:\tlearn: 0.5254202\ttotal: 519ms\tremaining: 10.5s\n",
            "47:\tlearn: 0.5245347\ttotal: 525ms\tremaining: 10.4s\n",
            "48:\tlearn: 0.5220318\ttotal: 530ms\tremaining: 10.3s\n",
            "49:\tlearn: 0.5210900\ttotal: 539ms\tremaining: 10.2s\n",
            "50:\tlearn: 0.5196605\ttotal: 550ms\tremaining: 10.2s\n",
            "51:\tlearn: 0.5173018\ttotal: 561ms\tremaining: 10.2s\n",
            "52:\tlearn: 0.5159513\ttotal: 589ms\tremaining: 10.5s\n",
            "53:\tlearn: 0.5137068\ttotal: 607ms\tremaining: 10.6s\n",
            "54:\tlearn: 0.5116947\ttotal: 620ms\tremaining: 10.7s\n",
            "55:\tlearn: 0.5102782\ttotal: 631ms\tremaining: 10.6s\n",
            "56:\tlearn: 0.5092452\ttotal: 644ms\tremaining: 10.7s\n",
            "57:\tlearn: 0.5086088\ttotal: 660ms\tremaining: 10.7s\n",
            "58:\tlearn: 0.5075799\ttotal: 671ms\tremaining: 10.7s\n",
            "59:\tlearn: 0.5060509\ttotal: 682ms\tremaining: 10.7s\n",
            "60:\tlearn: 0.5051127\ttotal: 692ms\tremaining: 10.7s\n",
            "61:\tlearn: 0.5034066\ttotal: 703ms\tremaining: 10.6s\n",
            "62:\tlearn: 0.5023705\ttotal: 714ms\tremaining: 10.6s\n",
            "63:\tlearn: 0.5012659\ttotal: 726ms\tremaining: 10.6s\n",
            "64:\tlearn: 0.4998910\ttotal: 737ms\tremaining: 10.6s\n",
            "65:\tlearn: 0.4987480\ttotal: 744ms\tremaining: 10.5s\n",
            "66:\tlearn: 0.4981110\ttotal: 763ms\tremaining: 10.6s\n",
            "67:\tlearn: 0.4966816\ttotal: 770ms\tremaining: 10.5s\n",
            "68:\tlearn: 0.4959065\ttotal: 777ms\tremaining: 10.5s\n",
            "69:\tlearn: 0.4952082\ttotal: 802ms\tremaining: 10.7s\n",
            "70:\tlearn: 0.4942924\ttotal: 815ms\tremaining: 10.7s\n",
            "71:\tlearn: 0.4927107\ttotal: 829ms\tremaining: 10.7s\n",
            "72:\tlearn: 0.4916032\ttotal: 839ms\tremaining: 10.7s\n",
            "73:\tlearn: 0.4905163\ttotal: 850ms\tremaining: 10.6s\n",
            "74:\tlearn: 0.4890405\ttotal: 860ms\tremaining: 10.6s\n",
            "75:\tlearn: 0.4882444\ttotal: 866ms\tremaining: 10.5s\n",
            "76:\tlearn: 0.4878178\ttotal: 870ms\tremaining: 10.4s\n",
            "77:\tlearn: 0.4870238\ttotal: 876ms\tremaining: 10.3s\n",
            "78:\tlearn: 0.4863878\ttotal: 879ms\tremaining: 10.3s\n",
            "79:\tlearn: 0.4849091\ttotal: 884ms\tremaining: 10.2s\n",
            "80:\tlearn: 0.4829605\ttotal: 888ms\tremaining: 10.1s\n",
            "81:\tlearn: 0.4822991\ttotal: 892ms\tremaining: 9.99s\n",
            "82:\tlearn: 0.4815093\ttotal: 896ms\tremaining: 9.9s\n",
            "83:\tlearn: 0.4807015\ttotal: 901ms\tremaining: 9.82s\n",
            "84:\tlearn: 0.4800473\ttotal: 906ms\tremaining: 9.76s\n",
            "85:\tlearn: 0.4794606\ttotal: 915ms\tremaining: 9.72s\n",
            "86:\tlearn: 0.4785282\ttotal: 927ms\tremaining: 9.73s\n",
            "87:\tlearn: 0.4778315\ttotal: 949ms\tremaining: 9.84s\n",
            "88:\tlearn: 0.4771983\ttotal: 965ms\tremaining: 9.88s\n",
            "89:\tlearn: 0.4769164\ttotal: 975ms\tremaining: 9.85s\n",
            "90:\tlearn: 0.4748955\ttotal: 988ms\tremaining: 9.87s\n",
            "91:\tlearn: 0.4745411\ttotal: 992ms\tremaining: 9.79s\n",
            "92:\tlearn: 0.4738308\ttotal: 1s\tremaining: 9.77s\n",
            "93:\tlearn: 0.4728434\ttotal: 1.01s\tremaining: 9.79s\n",
            "94:\tlearn: 0.4724585\ttotal: 1.03s\tremaining: 9.78s\n",
            "95:\tlearn: 0.4717392\ttotal: 1.04s\tremaining: 9.77s\n",
            "96:\tlearn: 0.4711662\ttotal: 1.05s\tremaining: 9.76s\n",
            "97:\tlearn: 0.4705405\ttotal: 1.05s\tremaining: 9.7s\n",
            "98:\tlearn: 0.4694579\ttotal: 1.06s\tremaining: 9.63s\n",
            "99:\tlearn: 0.4686879\ttotal: 1.06s\tremaining: 9.57s\n",
            "100:\tlearn: 0.4672184\ttotal: 1.07s\tremaining: 9.5s\n",
            "101:\tlearn: 0.4666951\ttotal: 1.07s\tremaining: 9.43s\n",
            "102:\tlearn: 0.4663502\ttotal: 1.07s\tremaining: 9.36s\n",
            "103:\tlearn: 0.4657066\ttotal: 1.08s\tremaining: 9.3s\n",
            "104:\tlearn: 0.4644232\ttotal: 1.08s\tremaining: 9.24s\n",
            "105:\tlearn: 0.4633739\ttotal: 1.09s\tremaining: 9.19s\n",
            "106:\tlearn: 0.4630418\ttotal: 1.1s\tremaining: 9.15s\n",
            "107:\tlearn: 0.4613924\ttotal: 1.11s\tremaining: 9.14s\n",
            "108:\tlearn: 0.4606071\ttotal: 1.12s\tremaining: 9.14s\n",
            "109:\tlearn: 0.4600413\ttotal: 1.13s\tremaining: 9.13s\n",
            "110:\tlearn: 0.4596707\ttotal: 1.14s\tremaining: 9.11s\n",
            "111:\tlearn: 0.4591203\ttotal: 1.14s\tremaining: 9.06s\n",
            "112:\tlearn: 0.4585987\ttotal: 1.15s\tremaining: 9s\n",
            "113:\tlearn: 0.4580103\ttotal: 1.15s\tremaining: 8.95s\n",
            "114:\tlearn: 0.4577900\ttotal: 1.18s\tremaining: 9.06s\n",
            "115:\tlearn: 0.4572645\ttotal: 1.19s\tremaining: 9.09s\n",
            "116:\tlearn: 0.4565557\ttotal: 1.21s\tremaining: 9.11s\n",
            "117:\tlearn: 0.4562938\ttotal: 1.23s\tremaining: 9.18s\n",
            "118:\tlearn: 0.4557291\ttotal: 1.24s\tremaining: 9.15s\n",
            "119:\tlearn: 0.4553169\ttotal: 1.25s\tremaining: 9.18s\n",
            "120:\tlearn: 0.4548248\ttotal: 1.26s\tremaining: 9.13s\n",
            "121:\tlearn: 0.4542398\ttotal: 1.28s\tremaining: 9.2s\n",
            "122:\tlearn: 0.4537875\ttotal: 1.29s\tremaining: 9.18s\n",
            "123:\tlearn: 0.4523110\ttotal: 1.3s\tremaining: 9.21s\n",
            "124:\tlearn: 0.4519387\ttotal: 1.32s\tremaining: 9.24s\n",
            "125:\tlearn: 0.4514981\ttotal: 1.33s\tremaining: 9.21s\n",
            "126:\tlearn: 0.4504379\ttotal: 1.34s\tremaining: 9.18s\n",
            "127:\tlearn: 0.4498810\ttotal: 1.35s\tremaining: 9.23s\n",
            "128:\tlearn: 0.4494545\ttotal: 1.37s\tremaining: 9.27s\n",
            "129:\tlearn: 0.4485165\ttotal: 1.39s\tremaining: 9.28s\n",
            "130:\tlearn: 0.4480276\ttotal: 1.39s\tremaining: 9.22s\n",
            "131:\tlearn: 0.4473958\ttotal: 1.4s\tremaining: 9.21s\n",
            "132:\tlearn: 0.4468657\ttotal: 1.42s\tremaining: 9.23s\n",
            "133:\tlearn: 0.4463839\ttotal: 1.43s\tremaining: 9.24s\n",
            "134:\tlearn: 0.4459970\ttotal: 1.43s\tremaining: 9.18s\n",
            "135:\tlearn: 0.4455344\ttotal: 1.44s\tremaining: 9.16s\n",
            "136:\tlearn: 0.4446050\ttotal: 1.46s\tremaining: 9.19s\n",
            "137:\tlearn: 0.4443488\ttotal: 1.47s\tremaining: 9.17s\n",
            "138:\tlearn: 0.4439427\ttotal: 1.49s\tremaining: 9.23s\n",
            "139:\tlearn: 0.4437046\ttotal: 1.5s\tremaining: 9.24s\n",
            "140:\tlearn: 0.4429596\ttotal: 1.51s\tremaining: 9.22s\n",
            "141:\tlearn: 0.4426323\ttotal: 1.53s\tremaining: 9.23s\n",
            "142:\tlearn: 0.4414409\ttotal: 1.54s\tremaining: 9.22s\n",
            "143:\tlearn: 0.4408464\ttotal: 1.55s\tremaining: 9.21s\n",
            "144:\tlearn: 0.4402462\ttotal: 1.57s\tremaining: 9.27s\n",
            "145:\tlearn: 0.4396827\ttotal: 1.59s\tremaining: 9.3s\n",
            "146:\tlearn: 0.4391288\ttotal: 1.6s\tremaining: 9.27s\n",
            "147:\tlearn: 0.4385636\ttotal: 1.61s\tremaining: 9.29s\n",
            "148:\tlearn: 0.4381074\ttotal: 1.62s\tremaining: 9.28s\n",
            "149:\tlearn: 0.4370988\ttotal: 1.64s\tremaining: 9.29s\n",
            "150:\tlearn: 0.4367026\ttotal: 1.65s\tremaining: 9.28s\n",
            "151:\tlearn: 0.4362446\ttotal: 1.68s\tremaining: 9.35s\n",
            "152:\tlearn: 0.4356842\ttotal: 1.69s\tremaining: 9.33s\n",
            "153:\tlearn: 0.4351414\ttotal: 1.69s\tremaining: 9.28s\n",
            "154:\tlearn: 0.4347791\ttotal: 1.69s\tremaining: 9.23s\n",
            "155:\tlearn: 0.4342851\ttotal: 1.7s\tremaining: 9.18s\n",
            "156:\tlearn: 0.4338576\ttotal: 1.7s\tremaining: 9.13s\n",
            "157:\tlearn: 0.4332422\ttotal: 1.7s\tremaining: 9.08s\n",
            "158:\tlearn: 0.4319937\ttotal: 1.71s\tremaining: 9.04s\n",
            "159:\tlearn: 0.4316536\ttotal: 1.71s\tremaining: 9s\n",
            "160:\tlearn: 0.4311692\ttotal: 1.72s\tremaining: 8.95s\n",
            "161:\tlearn: 0.4308396\ttotal: 1.72s\tremaining: 8.91s\n",
            "162:\tlearn: 0.4297845\ttotal: 1.73s\tremaining: 8.89s\n",
            "163:\tlearn: 0.4293486\ttotal: 1.77s\tremaining: 9.04s\n",
            "164:\tlearn: 0.4289263\ttotal: 1.78s\tremaining: 9.02s\n",
            "165:\tlearn: 0.4274126\ttotal: 1.79s\tremaining: 9.02s\n",
            "166:\tlearn: 0.4270493\ttotal: 1.8s\tremaining: 8.97s\n",
            "167:\tlearn: 0.4267003\ttotal: 1.8s\tremaining: 8.92s\n",
            "168:\tlearn: 0.4258001\ttotal: 1.8s\tremaining: 8.88s\n",
            "169:\tlearn: 0.4253800\ttotal: 1.81s\tremaining: 8.85s\n",
            "170:\tlearn: 0.4250579\ttotal: 1.82s\tremaining: 8.83s\n",
            "171:\tlearn: 0.4245948\ttotal: 1.83s\tremaining: 8.81s\n",
            "172:\tlearn: 0.4242086\ttotal: 1.83s\tremaining: 8.77s\n",
            "173:\tlearn: 0.4237842\ttotal: 1.85s\tremaining: 8.76s\n",
            "174:\tlearn: 0.4233149\ttotal: 1.85s\tremaining: 8.74s\n",
            "175:\tlearn: 0.4228239\ttotal: 1.86s\tremaining: 8.7s\n",
            "176:\tlearn: 0.4224216\ttotal: 1.86s\tremaining: 8.67s\n",
            "177:\tlearn: 0.4220770\ttotal: 1.87s\tremaining: 8.63s\n",
            "178:\tlearn: 0.4216628\ttotal: 1.87s\tremaining: 8.59s\n",
            "179:\tlearn: 0.4213080\ttotal: 1.88s\tremaining: 8.57s\n",
            "180:\tlearn: 0.4209914\ttotal: 1.89s\tremaining: 8.54s\n",
            "181:\tlearn: 0.4207002\ttotal: 1.89s\tremaining: 8.51s\n",
            "182:\tlearn: 0.4202494\ttotal: 1.91s\tremaining: 8.51s\n",
            "183:\tlearn: 0.4197633\ttotal: 1.91s\tremaining: 8.47s\n",
            "184:\tlearn: 0.4193948\ttotal: 1.91s\tremaining: 8.43s\n",
            "185:\tlearn: 0.4190607\ttotal: 1.92s\tremaining: 8.39s\n",
            "186:\tlearn: 0.4186826\ttotal: 1.92s\tremaining: 8.35s\n",
            "187:\tlearn: 0.4177705\ttotal: 1.93s\tremaining: 8.32s\n",
            "188:\tlearn: 0.4175026\ttotal: 1.93s\tremaining: 8.29s\n",
            "189:\tlearn: 0.4170119\ttotal: 1.93s\tremaining: 8.25s\n",
            "190:\tlearn: 0.4167743\ttotal: 1.94s\tremaining: 8.23s\n",
            "191:\tlearn: 0.4165074\ttotal: 1.95s\tremaining: 8.21s\n",
            "192:\tlearn: 0.4161648\ttotal: 1.95s\tremaining: 8.17s\n",
            "193:\tlearn: 0.4157728\ttotal: 1.96s\tremaining: 8.13s\n",
            "194:\tlearn: 0.4154577\ttotal: 1.96s\tremaining: 8.1s\n",
            "195:\tlearn: 0.4148598\ttotal: 1.97s\tremaining: 8.07s\n",
            "196:\tlearn: 0.4144414\ttotal: 1.97s\tremaining: 8.03s\n",
            "197:\tlearn: 0.4142534\ttotal: 1.98s\tremaining: 8s\n",
            "198:\tlearn: 0.4139066\ttotal: 1.98s\tremaining: 7.97s\n",
            "199:\tlearn: 0.4135454\ttotal: 1.98s\tremaining: 7.93s\n",
            "200:\tlearn: 0.4130808\ttotal: 1.99s\tremaining: 7.91s\n",
            "201:\tlearn: 0.4128973\ttotal: 2s\tremaining: 7.88s\n",
            "202:\tlearn: 0.4124342\ttotal: 2s\tremaining: 7.85s\n",
            "203:\tlearn: 0.4121672\ttotal: 2s\tremaining: 7.81s\n",
            "204:\tlearn: 0.4115674\ttotal: 2.01s\tremaining: 7.79s\n",
            "205:\tlearn: 0.4113208\ttotal: 2.01s\tremaining: 7.75s\n",
            "206:\tlearn: 0.4109475\ttotal: 2.02s\tremaining: 7.73s\n",
            "207:\tlearn: 0.4107055\ttotal: 2.02s\tremaining: 7.7s\n",
            "208:\tlearn: 0.4103936\ttotal: 2.03s\tremaining: 7.68s\n",
            "209:\tlearn: 0.4097107\ttotal: 2.03s\tremaining: 7.65s\n",
            "210:\tlearn: 0.4093469\ttotal: 2.04s\tremaining: 7.62s\n",
            "211:\tlearn: 0.4090864\ttotal: 2.04s\tremaining: 7.58s\n",
            "212:\tlearn: 0.4087282\ttotal: 2.04s\tremaining: 7.55s\n",
            "213:\tlearn: 0.4082997\ttotal: 2.05s\tremaining: 7.53s\n",
            "214:\tlearn: 0.4079157\ttotal: 2.05s\tremaining: 7.5s\n",
            "215:\tlearn: 0.4077570\ttotal: 2.06s\tremaining: 7.47s\n",
            "216:\tlearn: 0.4074578\ttotal: 2.06s\tremaining: 7.44s\n",
            "217:\tlearn: 0.4067236\ttotal: 2.07s\tremaining: 7.41s\n",
            "218:\tlearn: 0.4064443\ttotal: 2.07s\tremaining: 7.38s\n",
            "219:\tlearn: 0.4059755\ttotal: 2.07s\tremaining: 7.35s\n",
            "220:\tlearn: 0.4056051\ttotal: 2.08s\tremaining: 7.33s\n",
            "221:\tlearn: 0.4053722\ttotal: 2.09s\tremaining: 7.34s\n",
            "222:\tlearn: 0.4051193\ttotal: 2.11s\tremaining: 7.34s\n",
            "223:\tlearn: 0.4047536\ttotal: 2.13s\tremaining: 7.37s\n",
            "224:\tlearn: 0.4043573\ttotal: 2.13s\tremaining: 7.35s\n",
            "225:\tlearn: 0.4039948\ttotal: 2.15s\tremaining: 7.35s\n",
            "226:\tlearn: 0.4037971\ttotal: 2.15s\tremaining: 7.32s\n",
            "227:\tlearn: 0.4034572\ttotal: 2.16s\tremaining: 7.31s\n",
            "228:\tlearn: 0.4026596\ttotal: 2.16s\tremaining: 7.28s\n",
            "229:\tlearn: 0.4022448\ttotal: 2.17s\tremaining: 7.26s\n",
            "230:\tlearn: 0.4018391\ttotal: 2.17s\tremaining: 7.23s\n",
            "231:\tlearn: 0.4015825\ttotal: 2.17s\tremaining: 7.2s\n",
            "232:\tlearn: 0.4012272\ttotal: 2.18s\tremaining: 7.17s\n",
            "233:\tlearn: 0.4007687\ttotal: 2.18s\tremaining: 7.15s\n",
            "234:\tlearn: 0.4004828\ttotal: 2.19s\tremaining: 7.12s\n",
            "235:\tlearn: 0.4001441\ttotal: 2.19s\tremaining: 7.09s\n",
            "236:\tlearn: 0.3995293\ttotal: 2.19s\tremaining: 7.07s\n",
            "237:\tlearn: 0.3992390\ttotal: 2.2s\tremaining: 7.04s\n",
            "238:\tlearn: 0.3990026\ttotal: 2.21s\tremaining: 7.04s\n",
            "239:\tlearn: 0.3987911\ttotal: 2.22s\tremaining: 7.04s\n",
            "240:\tlearn: 0.3984322\ttotal: 2.24s\tremaining: 7.06s\n",
            "241:\tlearn: 0.3979636\ttotal: 2.25s\tremaining: 7.05s\n",
            "242:\tlearn: 0.3977307\ttotal: 2.26s\tremaining: 7.05s\n",
            "243:\tlearn: 0.3973392\ttotal: 2.27s\tremaining: 7.03s\n",
            "244:\tlearn: 0.3969577\ttotal: 2.28s\tremaining: 7.04s\n",
            "245:\tlearn: 0.3967752\ttotal: 2.29s\tremaining: 7.02s\n",
            "246:\tlearn: 0.3962494\ttotal: 2.31s\tremaining: 7.03s\n",
            "247:\tlearn: 0.3954489\ttotal: 2.32s\tremaining: 7.05s\n",
            "248:\tlearn: 0.3950413\ttotal: 2.33s\tremaining: 7.04s\n",
            "249:\tlearn: 0.3942427\ttotal: 2.34s\tremaining: 7.03s\n",
            "250:\tlearn: 0.3938634\ttotal: 2.36s\tremaining: 7.05s\n",
            "251:\tlearn: 0.3936176\ttotal: 2.37s\tremaining: 7.03s\n",
            "252:\tlearn: 0.3934008\ttotal: 2.37s\tremaining: 7.01s\n",
            "253:\tlearn: 0.3930925\ttotal: 2.39s\tremaining: 7.03s\n",
            "254:\tlearn: 0.3927291\ttotal: 2.42s\tremaining: 7.06s\n",
            "255:\tlearn: 0.3922349\ttotal: 2.43s\tremaining: 7.08s\n",
            "256:\tlearn: 0.3920719\ttotal: 2.44s\tremaining: 7.07s\n",
            "257:\tlearn: 0.3918571\ttotal: 2.46s\tremaining: 7.06s\n",
            "258:\tlearn: 0.3911183\ttotal: 2.47s\tremaining: 7.06s\n",
            "259:\tlearn: 0.3904335\ttotal: 2.48s\tremaining: 7.06s\n",
            "260:\tlearn: 0.3902063\ttotal: 2.49s\tremaining: 7.05s\n",
            "261:\tlearn: 0.3892694\ttotal: 2.5s\tremaining: 7.05s\n",
            "262:\tlearn: 0.3890395\ttotal: 2.52s\tremaining: 7.06s\n",
            "263:\tlearn: 0.3886310\ttotal: 2.54s\tremaining: 7.09s\n",
            "264:\tlearn: 0.3881757\ttotal: 2.57s\tremaining: 7.12s\n",
            "265:\tlearn: 0.3878987\ttotal: 2.59s\tremaining: 7.14s\n",
            "266:\tlearn: 0.3876665\ttotal: 2.6s\tremaining: 7.15s\n",
            "267:\tlearn: 0.3875108\ttotal: 2.61s\tremaining: 7.14s\n",
            "268:\tlearn: 0.3872480\ttotal: 2.63s\tremaining: 7.14s\n",
            "269:\tlearn: 0.3869527\ttotal: 2.65s\tremaining: 7.15s\n",
            "270:\tlearn: 0.3865804\ttotal: 2.65s\tremaining: 7.14s\n",
            "271:\tlearn: 0.3862640\ttotal: 2.66s\tremaining: 7.12s\n",
            "272:\tlearn: 0.3859437\ttotal: 2.67s\tremaining: 7.11s\n",
            "273:\tlearn: 0.3856930\ttotal: 2.68s\tremaining: 7.09s\n",
            "274:\tlearn: 0.3853247\ttotal: 2.69s\tremaining: 7.1s\n",
            "275:\tlearn: 0.3850869\ttotal: 2.7s\tremaining: 7.09s\n",
            "276:\tlearn: 0.3848769\ttotal: 2.71s\tremaining: 7.08s\n",
            "277:\tlearn: 0.3847096\ttotal: 2.72s\tremaining: 7.07s\n",
            "278:\tlearn: 0.3844354\ttotal: 2.73s\tremaining: 7.07s\n",
            "279:\tlearn: 0.3841039\ttotal: 2.74s\tremaining: 7.04s\n",
            "280:\tlearn: 0.3839780\ttotal: 2.74s\tremaining: 7.01s\n",
            "281:\tlearn: 0.3836719\ttotal: 2.75s\tremaining: 6.99s\n",
            "282:\tlearn: 0.3834152\ttotal: 2.75s\tremaining: 6.96s\n",
            "283:\tlearn: 0.3831305\ttotal: 2.75s\tremaining: 6.94s\n",
            "284:\tlearn: 0.3827437\ttotal: 2.75s\tremaining: 6.91s\n",
            "285:\tlearn: 0.3824944\ttotal: 2.76s\tremaining: 6.88s\n",
            "286:\tlearn: 0.3822050\ttotal: 2.76s\tremaining: 6.86s\n",
            "287:\tlearn: 0.3820250\ttotal: 2.76s\tremaining: 6.83s\n",
            "288:\tlearn: 0.3818150\ttotal: 2.77s\tremaining: 6.81s\n",
            "289:\tlearn: 0.3816098\ttotal: 2.77s\tremaining: 6.78s\n",
            "290:\tlearn: 0.3813326\ttotal: 2.77s\tremaining: 6.76s\n",
            "291:\tlearn: 0.3810992\ttotal: 2.78s\tremaining: 6.73s\n",
            "292:\tlearn: 0.3808387\ttotal: 2.78s\tremaining: 6.71s\n",
            "293:\tlearn: 0.3798321\ttotal: 2.78s\tremaining: 6.68s\n",
            "294:\tlearn: 0.3796034\ttotal: 2.79s\tremaining: 6.66s\n",
            "295:\tlearn: 0.3792895\ttotal: 2.79s\tremaining: 6.64s\n",
            "296:\tlearn: 0.3785258\ttotal: 2.79s\tremaining: 6.61s\n",
            "297:\tlearn: 0.3783392\ttotal: 2.8s\tremaining: 6.59s\n",
            "298:\tlearn: 0.3781121\ttotal: 2.8s\tremaining: 6.56s\n",
            "299:\tlearn: 0.3778613\ttotal: 2.8s\tremaining: 6.54s\n",
            "300:\tlearn: 0.3775761\ttotal: 2.81s\tremaining: 6.52s\n",
            "301:\tlearn: 0.3773109\ttotal: 2.81s\tremaining: 6.49s\n",
            "302:\tlearn: 0.3764076\ttotal: 2.81s\tremaining: 6.47s\n",
            "303:\tlearn: 0.3760560\ttotal: 2.82s\tremaining: 6.45s\n",
            "304:\tlearn: 0.3757408\ttotal: 2.82s\tremaining: 6.42s\n",
            "305:\tlearn: 0.3753883\ttotal: 2.82s\tremaining: 6.4s\n",
            "306:\tlearn: 0.3751566\ttotal: 2.83s\tremaining: 6.38s\n",
            "307:\tlearn: 0.3749117\ttotal: 2.83s\tremaining: 6.36s\n",
            "308:\tlearn: 0.3744946\ttotal: 2.83s\tremaining: 6.34s\n",
            "309:\tlearn: 0.3741513\ttotal: 2.84s\tremaining: 6.31s\n",
            "310:\tlearn: 0.3737560\ttotal: 2.84s\tremaining: 6.29s\n",
            "311:\tlearn: 0.3733220\ttotal: 2.84s\tremaining: 6.27s\n",
            "312:\tlearn: 0.3731601\ttotal: 2.85s\tremaining: 6.25s\n",
            "313:\tlearn: 0.3729173\ttotal: 2.85s\tremaining: 6.23s\n",
            "314:\tlearn: 0.3722013\ttotal: 2.85s\tremaining: 6.21s\n",
            "315:\tlearn: 0.3718179\ttotal: 2.86s\tremaining: 6.19s\n",
            "316:\tlearn: 0.3715403\ttotal: 2.86s\tremaining: 6.16s\n",
            "317:\tlearn: 0.3713898\ttotal: 2.86s\tremaining: 6.14s\n",
            "318:\tlearn: 0.3709743\ttotal: 2.87s\tremaining: 6.12s\n",
            "319:\tlearn: 0.3706467\ttotal: 2.87s\tremaining: 6.1s\n",
            "320:\tlearn: 0.3704176\ttotal: 2.88s\tremaining: 6.08s\n",
            "321:\tlearn: 0.3702049\ttotal: 2.88s\tremaining: 6.06s\n",
            "322:\tlearn: 0.3699926\ttotal: 2.88s\tremaining: 6.04s\n",
            "323:\tlearn: 0.3697102\ttotal: 2.89s\tremaining: 6.04s\n",
            "324:\tlearn: 0.3694566\ttotal: 2.9s\tremaining: 6.02s\n",
            "325:\tlearn: 0.3693332\ttotal: 2.9s\tremaining: 6s\n",
            "326:\tlearn: 0.3689379\ttotal: 2.9s\tremaining: 5.98s\n",
            "327:\tlearn: 0.3687157\ttotal: 2.91s\tremaining: 5.96s\n",
            "328:\tlearn: 0.3685059\ttotal: 2.91s\tremaining: 5.93s\n",
            "329:\tlearn: 0.3682861\ttotal: 2.91s\tremaining: 5.92s\n",
            "330:\tlearn: 0.3678238\ttotal: 2.92s\tremaining: 5.9s\n",
            "331:\tlearn: 0.3676705\ttotal: 2.92s\tremaining: 5.88s\n",
            "332:\tlearn: 0.3674173\ttotal: 2.92s\tremaining: 5.86s\n",
            "333:\tlearn: 0.3673034\ttotal: 2.93s\tremaining: 5.84s\n",
            "334:\tlearn: 0.3669968\ttotal: 2.93s\tremaining: 5.82s\n",
            "335:\tlearn: 0.3663769\ttotal: 2.93s\tremaining: 5.8s\n",
            "336:\tlearn: 0.3661624\ttotal: 2.94s\tremaining: 5.78s\n",
            "337:\tlearn: 0.3659584\ttotal: 2.94s\tremaining: 5.76s\n",
            "338:\tlearn: 0.3656662\ttotal: 2.94s\tremaining: 5.74s\n",
            "339:\tlearn: 0.3653087\ttotal: 2.95s\tremaining: 5.72s\n",
            "340:\tlearn: 0.3651332\ttotal: 2.95s\tremaining: 5.7s\n",
            "341:\tlearn: 0.3648988\ttotal: 2.96s\tremaining: 5.69s\n",
            "342:\tlearn: 0.3645680\ttotal: 2.96s\tremaining: 5.67s\n",
            "343:\tlearn: 0.3643583\ttotal: 2.96s\tremaining: 5.65s\n",
            "344:\tlearn: 0.3640976\ttotal: 2.97s\tremaining: 5.63s\n",
            "345:\tlearn: 0.3639256\ttotal: 2.97s\tremaining: 5.62s\n",
            "346:\tlearn: 0.3637192\ttotal: 2.97s\tremaining: 5.6s\n",
            "347:\tlearn: 0.3635054\ttotal: 2.98s\tremaining: 5.58s\n",
            "348:\tlearn: 0.3632036\ttotal: 2.98s\tremaining: 5.56s\n",
            "349:\tlearn: 0.3629353\ttotal: 2.98s\tremaining: 5.54s\n",
            "350:\tlearn: 0.3626718\ttotal: 2.99s\tremaining: 5.52s\n",
            "351:\tlearn: 0.3624299\ttotal: 2.99s\tremaining: 5.51s\n",
            "352:\tlearn: 0.3622707\ttotal: 2.99s\tremaining: 5.49s\n",
            "353:\tlearn: 0.3619984\ttotal: 3s\tremaining: 5.47s\n",
            "354:\tlearn: 0.3617936\ttotal: 3s\tremaining: 5.45s\n",
            "355:\tlearn: 0.3615959\ttotal: 3s\tremaining: 5.43s\n",
            "356:\tlearn: 0.3613805\ttotal: 3.01s\tremaining: 5.42s\n",
            "357:\tlearn: 0.3611332\ttotal: 3.01s\tremaining: 5.4s\n",
            "358:\tlearn: 0.3604744\ttotal: 3.01s\tremaining: 5.38s\n",
            "359:\tlearn: 0.3602022\ttotal: 3.02s\tremaining: 5.37s\n",
            "360:\tlearn: 0.3599781\ttotal: 3.02s\tremaining: 5.35s\n",
            "361:\tlearn: 0.3595848\ttotal: 3.02s\tremaining: 5.33s\n",
            "362:\tlearn: 0.3587347\ttotal: 3.03s\tremaining: 5.31s\n",
            "363:\tlearn: 0.3585393\ttotal: 3.03s\tremaining: 5.3s\n",
            "364:\tlearn: 0.3582119\ttotal: 3.04s\tremaining: 5.28s\n",
            "365:\tlearn: 0.3579843\ttotal: 3.04s\tremaining: 5.26s\n",
            "366:\tlearn: 0.3578121\ttotal: 3.04s\tremaining: 5.25s\n",
            "367:\tlearn: 0.3576729\ttotal: 3.04s\tremaining: 5.23s\n",
            "368:\tlearn: 0.3572469\ttotal: 3.05s\tremaining: 5.21s\n",
            "369:\tlearn: 0.3569995\ttotal: 3.05s\tremaining: 5.2s\n",
            "370:\tlearn: 0.3567756\ttotal: 3.06s\tremaining: 5.18s\n",
            "371:\tlearn: 0.3564339\ttotal: 3.06s\tremaining: 5.16s\n",
            "372:\tlearn: 0.3561748\ttotal: 3.06s\tremaining: 5.15s\n",
            "373:\tlearn: 0.3560763\ttotal: 3.07s\tremaining: 5.13s\n",
            "374:\tlearn: 0.3558937\ttotal: 3.07s\tremaining: 5.12s\n",
            "375:\tlearn: 0.3556768\ttotal: 3.08s\tremaining: 5.11s\n",
            "376:\tlearn: 0.3549345\ttotal: 3.08s\tremaining: 5.09s\n",
            "377:\tlearn: 0.3546488\ttotal: 3.09s\tremaining: 5.08s\n",
            "378:\tlearn: 0.3544446\ttotal: 3.09s\tremaining: 5.06s\n",
            "379:\tlearn: 0.3542403\ttotal: 3.09s\tremaining: 5.05s\n",
            "380:\tlearn: 0.3538928\ttotal: 3.1s\tremaining: 5.03s\n",
            "381:\tlearn: 0.3535819\ttotal: 3.1s\tremaining: 5.02s\n",
            "382:\tlearn: 0.3530138\ttotal: 3.1s\tremaining: 5s\n",
            "383:\tlearn: 0.3527926\ttotal: 3.11s\tremaining: 4.99s\n",
            "384:\tlearn: 0.3524639\ttotal: 3.11s\tremaining: 4.97s\n",
            "385:\tlearn: 0.3521479\ttotal: 3.11s\tremaining: 4.95s\n",
            "386:\tlearn: 0.3518726\ttotal: 3.12s\tremaining: 4.94s\n",
            "387:\tlearn: 0.3516926\ttotal: 3.13s\tremaining: 4.93s\n",
            "388:\tlearn: 0.3515006\ttotal: 3.14s\tremaining: 4.93s\n",
            "389:\tlearn: 0.3510993\ttotal: 3.14s\tremaining: 4.91s\n",
            "390:\tlearn: 0.3505148\ttotal: 3.14s\tremaining: 4.9s\n",
            "391:\tlearn: 0.3503189\ttotal: 3.15s\tremaining: 4.88s\n",
            "392:\tlearn: 0.3500732\ttotal: 3.15s\tremaining: 4.87s\n",
            "393:\tlearn: 0.3498695\ttotal: 3.15s\tremaining: 4.85s\n",
            "394:\tlearn: 0.3497123\ttotal: 3.16s\tremaining: 4.83s\n",
            "395:\tlearn: 0.3494216\ttotal: 3.16s\tremaining: 4.82s\n",
            "396:\tlearn: 0.3491976\ttotal: 3.16s\tremaining: 4.8s\n",
            "397:\tlearn: 0.3489833\ttotal: 3.17s\tremaining: 4.79s\n",
            "398:\tlearn: 0.3487957\ttotal: 3.17s\tremaining: 4.78s\n",
            "399:\tlearn: 0.3485571\ttotal: 3.17s\tremaining: 4.76s\n",
            "400:\tlearn: 0.3483821\ttotal: 3.18s\tremaining: 4.75s\n",
            "401:\tlearn: 0.3478757\ttotal: 3.18s\tremaining: 4.73s\n",
            "402:\tlearn: 0.3473635\ttotal: 3.18s\tremaining: 4.72s\n",
            "403:\tlearn: 0.3471174\ttotal: 3.19s\tremaining: 4.7s\n",
            "404:\tlearn: 0.3465088\ttotal: 3.19s\tremaining: 4.69s\n",
            "405:\tlearn: 0.3463504\ttotal: 3.19s\tremaining: 4.67s\n",
            "406:\tlearn: 0.3461605\ttotal: 3.2s\tremaining: 4.66s\n",
            "407:\tlearn: 0.3458764\ttotal: 3.2s\tremaining: 4.65s\n",
            "408:\tlearn: 0.3456787\ttotal: 3.21s\tremaining: 4.63s\n",
            "409:\tlearn: 0.3454700\ttotal: 3.21s\tremaining: 4.62s\n",
            "410:\tlearn: 0.3451953\ttotal: 3.21s\tremaining: 4.6s\n",
            "411:\tlearn: 0.3450309\ttotal: 3.22s\tremaining: 4.59s\n",
            "412:\tlearn: 0.3442415\ttotal: 3.22s\tremaining: 4.58s\n",
            "413:\tlearn: 0.3438887\ttotal: 3.22s\tremaining: 4.56s\n",
            "414:\tlearn: 0.3437121\ttotal: 3.23s\tremaining: 4.55s\n",
            "415:\tlearn: 0.3434824\ttotal: 3.23s\tremaining: 4.53s\n",
            "416:\tlearn: 0.3432957\ttotal: 3.23s\tremaining: 4.52s\n",
            "417:\tlearn: 0.3430013\ttotal: 3.24s\tremaining: 4.51s\n",
            "418:\tlearn: 0.3428039\ttotal: 3.24s\tremaining: 4.49s\n",
            "419:\tlearn: 0.3425814\ttotal: 3.24s\tremaining: 4.48s\n",
            "420:\tlearn: 0.3423016\ttotal: 3.25s\tremaining: 4.47s\n",
            "421:\tlearn: 0.3420957\ttotal: 3.25s\tremaining: 4.45s\n",
            "422:\tlearn: 0.3419237\ttotal: 3.25s\tremaining: 4.44s\n",
            "423:\tlearn: 0.3417573\ttotal: 3.26s\tremaining: 4.42s\n",
            "424:\tlearn: 0.3415755\ttotal: 3.26s\tremaining: 4.41s\n",
            "425:\tlearn: 0.3412124\ttotal: 3.27s\tremaining: 4.4s\n",
            "426:\tlearn: 0.3410067\ttotal: 3.27s\tremaining: 4.39s\n",
            "427:\tlearn: 0.3404408\ttotal: 3.28s\tremaining: 4.38s\n",
            "428:\tlearn: 0.3400819\ttotal: 3.28s\tremaining: 4.37s\n",
            "429:\tlearn: 0.3398954\ttotal: 3.28s\tremaining: 4.35s\n",
            "430:\tlearn: 0.3396978\ttotal: 3.29s\tremaining: 4.34s\n",
            "431:\tlearn: 0.3393996\ttotal: 3.29s\tremaining: 4.33s\n",
            "432:\tlearn: 0.3392591\ttotal: 3.29s\tremaining: 4.31s\n",
            "433:\tlearn: 0.3390801\ttotal: 3.3s\tremaining: 4.3s\n",
            "434:\tlearn: 0.3388585\ttotal: 3.3s\tremaining: 4.29s\n",
            "435:\tlearn: 0.3385767\ttotal: 3.3s\tremaining: 4.27s\n",
            "436:\tlearn: 0.3383592\ttotal: 3.31s\tremaining: 4.26s\n",
            "437:\tlearn: 0.3381377\ttotal: 3.31s\tremaining: 4.25s\n",
            "438:\tlearn: 0.3379567\ttotal: 3.31s\tremaining: 4.24s\n",
            "439:\tlearn: 0.3376692\ttotal: 3.32s\tremaining: 4.22s\n",
            "440:\tlearn: 0.3372897\ttotal: 3.32s\tremaining: 4.21s\n",
            "441:\tlearn: 0.3370106\ttotal: 3.33s\tremaining: 4.2s\n",
            "442:\tlearn: 0.3367581\ttotal: 3.33s\tremaining: 4.19s\n",
            "443:\tlearn: 0.3365707\ttotal: 3.33s\tremaining: 4.17s\n",
            "444:\tlearn: 0.3364274\ttotal: 3.34s\tremaining: 4.16s\n",
            "445:\tlearn: 0.3362118\ttotal: 3.34s\tremaining: 4.15s\n",
            "446:\tlearn: 0.3356741\ttotal: 3.34s\tremaining: 4.13s\n",
            "447:\tlearn: 0.3353857\ttotal: 3.35s\tremaining: 4.12s\n",
            "448:\tlearn: 0.3352009\ttotal: 3.35s\tremaining: 4.11s\n",
            "449:\tlearn: 0.3347991\ttotal: 3.35s\tremaining: 4.1s\n",
            "450:\tlearn: 0.3347009\ttotal: 3.35s\tremaining: 4.08s\n",
            "451:\tlearn: 0.3341224\ttotal: 3.36s\tremaining: 4.07s\n",
            "452:\tlearn: 0.3339409\ttotal: 3.36s\tremaining: 4.06s\n",
            "453:\tlearn: 0.3337663\ttotal: 3.37s\tremaining: 4.05s\n",
            "454:\tlearn: 0.3334381\ttotal: 3.37s\tremaining: 4.04s\n",
            "455:\tlearn: 0.3332773\ttotal: 3.37s\tremaining: 4.02s\n",
            "456:\tlearn: 0.3329987\ttotal: 3.38s\tremaining: 4.01s\n",
            "457:\tlearn: 0.3326098\ttotal: 3.38s\tremaining: 4s\n",
            "458:\tlearn: 0.3323652\ttotal: 3.38s\tremaining: 3.99s\n",
            "459:\tlearn: 0.3322274\ttotal: 3.39s\tremaining: 3.97s\n",
            "460:\tlearn: 0.3320157\ttotal: 3.39s\tremaining: 3.96s\n",
            "461:\tlearn: 0.3318179\ttotal: 3.39s\tremaining: 3.95s\n",
            "462:\tlearn: 0.3316340\ttotal: 3.4s\tremaining: 3.94s\n",
            "463:\tlearn: 0.3312879\ttotal: 3.4s\tremaining: 3.93s\n",
            "464:\tlearn: 0.3310667\ttotal: 3.4s\tremaining: 3.92s\n",
            "465:\tlearn: 0.3306857\ttotal: 3.41s\tremaining: 3.9s\n",
            "466:\tlearn: 0.3305660\ttotal: 3.41s\tremaining: 3.89s\n",
            "467:\tlearn: 0.3303065\ttotal: 3.41s\tremaining: 3.88s\n",
            "468:\tlearn: 0.3300873\ttotal: 3.42s\tremaining: 3.87s\n",
            "469:\tlearn: 0.3298640\ttotal: 3.42s\tremaining: 3.86s\n",
            "470:\tlearn: 0.3297291\ttotal: 3.42s\tremaining: 3.84s\n",
            "471:\tlearn: 0.3295141\ttotal: 3.43s\tremaining: 3.83s\n",
            "472:\tlearn: 0.3293751\ttotal: 3.43s\tremaining: 3.82s\n",
            "473:\tlearn: 0.3290648\ttotal: 3.43s\tremaining: 3.81s\n",
            "474:\tlearn: 0.3289267\ttotal: 3.44s\tremaining: 3.8s\n",
            "475:\tlearn: 0.3287419\ttotal: 3.44s\tremaining: 3.79s\n",
            "476:\tlearn: 0.3279736\ttotal: 3.44s\tremaining: 3.77s\n",
            "477:\tlearn: 0.3277934\ttotal: 3.45s\tremaining: 3.76s\n",
            "478:\tlearn: 0.3272765\ttotal: 3.45s\tremaining: 3.75s\n",
            "479:\tlearn: 0.3271102\ttotal: 3.45s\tremaining: 3.74s\n",
            "480:\tlearn: 0.3268936\ttotal: 3.46s\tremaining: 3.73s\n",
            "481:\tlearn: 0.3268011\ttotal: 3.46s\tremaining: 3.72s\n",
            "482:\tlearn: 0.3265245\ttotal: 3.47s\tremaining: 3.71s\n",
            "483:\tlearn: 0.3262589\ttotal: 3.47s\tremaining: 3.7s\n",
            "484:\tlearn: 0.3261114\ttotal: 3.47s\tremaining: 3.69s\n",
            "485:\tlearn: 0.3259671\ttotal: 3.48s\tremaining: 3.68s\n",
            "486:\tlearn: 0.3258169\ttotal: 3.48s\tremaining: 3.67s\n",
            "487:\tlearn: 0.3254706\ttotal: 3.49s\tremaining: 3.66s\n",
            "488:\tlearn: 0.3250844\ttotal: 3.49s\tremaining: 3.65s\n",
            "489:\tlearn: 0.3248496\ttotal: 3.49s\tremaining: 3.64s\n",
            "490:\tlearn: 0.3246793\ttotal: 3.5s\tremaining: 3.62s\n",
            "491:\tlearn: 0.3244741\ttotal: 3.5s\tremaining: 3.61s\n",
            "492:\tlearn: 0.3237406\ttotal: 3.5s\tremaining: 3.6s\n",
            "493:\tlearn: 0.3234630\ttotal: 3.51s\tremaining: 3.59s\n",
            "494:\tlearn: 0.3231605\ttotal: 3.51s\tremaining: 3.58s\n",
            "495:\tlearn: 0.3226382\ttotal: 3.51s\tremaining: 3.57s\n",
            "496:\tlearn: 0.3223686\ttotal: 3.52s\tremaining: 3.56s\n",
            "497:\tlearn: 0.3221526\ttotal: 3.52s\tremaining: 3.55s\n",
            "498:\tlearn: 0.3219506\ttotal: 3.52s\tremaining: 3.54s\n",
            "499:\tlearn: 0.3218294\ttotal: 3.52s\tremaining: 3.52s\n",
            "500:\tlearn: 0.3216218\ttotal: 3.53s\tremaining: 3.52s\n",
            "501:\tlearn: 0.3214074\ttotal: 3.53s\tremaining: 3.5s\n",
            "502:\tlearn: 0.3212741\ttotal: 3.54s\tremaining: 3.49s\n",
            "503:\tlearn: 0.3210985\ttotal: 3.54s\tremaining: 3.48s\n",
            "504:\tlearn: 0.3209331\ttotal: 3.54s\tremaining: 3.47s\n",
            "505:\tlearn: 0.3208019\ttotal: 3.55s\tremaining: 3.46s\n",
            "506:\tlearn: 0.3206348\ttotal: 3.55s\tremaining: 3.45s\n",
            "507:\tlearn: 0.3204032\ttotal: 3.56s\tremaining: 3.44s\n",
            "508:\tlearn: 0.3202220\ttotal: 3.56s\tremaining: 3.43s\n",
            "509:\tlearn: 0.3197986\ttotal: 3.56s\tremaining: 3.42s\n",
            "510:\tlearn: 0.3195682\ttotal: 3.56s\tremaining: 3.41s\n",
            "511:\tlearn: 0.3194042\ttotal: 3.57s\tremaining: 3.4s\n",
            "512:\tlearn: 0.3190653\ttotal: 3.57s\tremaining: 3.39s\n",
            "513:\tlearn: 0.3189409\ttotal: 3.58s\tremaining: 3.38s\n",
            "514:\tlearn: 0.3186322\ttotal: 3.58s\tremaining: 3.37s\n",
            "515:\tlearn: 0.3184449\ttotal: 3.6s\tremaining: 3.37s\n",
            "516:\tlearn: 0.3182667\ttotal: 3.6s\tremaining: 3.36s\n",
            "517:\tlearn: 0.3178947\ttotal: 3.6s\tremaining: 3.35s\n",
            "518:\tlearn: 0.3176240\ttotal: 3.6s\tremaining: 3.34s\n",
            "519:\tlearn: 0.3173702\ttotal: 3.61s\tremaining: 3.33s\n",
            "520:\tlearn: 0.3169420\ttotal: 3.61s\tremaining: 3.32s\n",
            "521:\tlearn: 0.3167862\ttotal: 3.62s\tremaining: 3.31s\n",
            "522:\tlearn: 0.3166563\ttotal: 3.62s\tremaining: 3.3s\n",
            "523:\tlearn: 0.3165012\ttotal: 3.62s\tremaining: 3.29s\n",
            "524:\tlearn: 0.3162144\ttotal: 3.63s\tremaining: 3.28s\n",
            "525:\tlearn: 0.3156488\ttotal: 3.63s\tremaining: 3.27s\n",
            "526:\tlearn: 0.3154964\ttotal: 3.63s\tremaining: 3.26s\n",
            "527:\tlearn: 0.3151183\ttotal: 3.64s\tremaining: 3.25s\n",
            "528:\tlearn: 0.3149599\ttotal: 3.64s\tremaining: 3.24s\n",
            "529:\tlearn: 0.3148231\ttotal: 3.64s\tremaining: 3.23s\n",
            "530:\tlearn: 0.3142733\ttotal: 3.65s\tremaining: 3.22s\n",
            "531:\tlearn: 0.3140797\ttotal: 3.65s\tremaining: 3.21s\n",
            "532:\tlearn: 0.3139169\ttotal: 3.66s\tremaining: 3.2s\n",
            "533:\tlearn: 0.3137622\ttotal: 3.66s\tremaining: 3.19s\n",
            "534:\tlearn: 0.3136243\ttotal: 3.66s\tremaining: 3.18s\n",
            "535:\tlearn: 0.3134685\ttotal: 3.67s\tremaining: 3.17s\n",
            "536:\tlearn: 0.3133034\ttotal: 3.67s\tremaining: 3.17s\n",
            "537:\tlearn: 0.3130689\ttotal: 3.67s\tremaining: 3.15s\n",
            "538:\tlearn: 0.3128448\ttotal: 3.68s\tremaining: 3.15s\n",
            "539:\tlearn: 0.3126454\ttotal: 3.68s\tremaining: 3.13s\n",
            "540:\tlearn: 0.3124166\ttotal: 3.68s\tremaining: 3.13s\n",
            "541:\tlearn: 0.3121862\ttotal: 3.69s\tremaining: 3.12s\n",
            "542:\tlearn: 0.3119856\ttotal: 3.69s\tremaining: 3.11s\n",
            "543:\tlearn: 0.3118269\ttotal: 3.69s\tremaining: 3.1s\n",
            "544:\tlearn: 0.3115671\ttotal: 3.7s\tremaining: 3.09s\n",
            "545:\tlearn: 0.3113928\ttotal: 3.7s\tremaining: 3.08s\n",
            "546:\tlearn: 0.3112218\ttotal: 3.7s\tremaining: 3.07s\n",
            "547:\tlearn: 0.3105151\ttotal: 3.71s\tremaining: 3.06s\n",
            "548:\tlearn: 0.3103891\ttotal: 3.71s\tremaining: 3.05s\n",
            "549:\tlearn: 0.3101824\ttotal: 3.71s\tremaining: 3.04s\n",
            "550:\tlearn: 0.3099637\ttotal: 3.72s\tremaining: 3.03s\n",
            "551:\tlearn: 0.3093320\ttotal: 3.72s\tremaining: 3.02s\n",
            "552:\tlearn: 0.3091686\ttotal: 3.73s\tremaining: 3.01s\n",
            "553:\tlearn: 0.3089810\ttotal: 3.73s\tremaining: 3s\n",
            "554:\tlearn: 0.3086140\ttotal: 3.73s\tremaining: 2.99s\n",
            "555:\tlearn: 0.3081529\ttotal: 3.73s\tremaining: 2.98s\n",
            "556:\tlearn: 0.3079886\ttotal: 3.74s\tremaining: 2.97s\n",
            "557:\tlearn: 0.3077587\ttotal: 3.74s\tremaining: 2.96s\n",
            "558:\tlearn: 0.3076021\ttotal: 3.75s\tremaining: 2.95s\n",
            "559:\tlearn: 0.3074380\ttotal: 3.75s\tremaining: 2.94s\n",
            "560:\tlearn: 0.3068543\ttotal: 3.75s\tremaining: 2.94s\n",
            "561:\tlearn: 0.3066797\ttotal: 3.75s\tremaining: 2.93s\n",
            "562:\tlearn: 0.3064399\ttotal: 3.76s\tremaining: 2.92s\n",
            "563:\tlearn: 0.3062163\ttotal: 3.76s\tremaining: 2.91s\n",
            "564:\tlearn: 0.3060576\ttotal: 3.77s\tremaining: 2.9s\n",
            "565:\tlearn: 0.3058618\ttotal: 3.77s\tremaining: 2.89s\n",
            "566:\tlearn: 0.3056117\ttotal: 3.77s\tremaining: 2.88s\n",
            "567:\tlearn: 0.3053791\ttotal: 3.77s\tremaining: 2.87s\n",
            "568:\tlearn: 0.3052458\ttotal: 3.78s\tremaining: 2.86s\n",
            "569:\tlearn: 0.3051133\ttotal: 3.78s\tremaining: 2.85s\n",
            "570:\tlearn: 0.3046487\ttotal: 3.79s\tremaining: 2.84s\n",
            "571:\tlearn: 0.3044168\ttotal: 3.79s\tremaining: 2.83s\n",
            "572:\tlearn: 0.3042234\ttotal: 3.79s\tremaining: 2.83s\n",
            "573:\tlearn: 0.3040384\ttotal: 3.8s\tremaining: 2.82s\n",
            "574:\tlearn: 0.3038460\ttotal: 3.8s\tremaining: 2.81s\n",
            "575:\tlearn: 0.3035979\ttotal: 3.8s\tremaining: 2.8s\n",
            "576:\tlearn: 0.3033339\ttotal: 3.81s\tremaining: 2.79s\n",
            "577:\tlearn: 0.3031822\ttotal: 3.81s\tremaining: 2.78s\n",
            "578:\tlearn: 0.3029310\ttotal: 3.81s\tremaining: 2.77s\n",
            "579:\tlearn: 0.3027107\ttotal: 3.82s\tremaining: 2.76s\n",
            "580:\tlearn: 0.3025830\ttotal: 3.82s\tremaining: 2.75s\n",
            "581:\tlearn: 0.3024046\ttotal: 3.82s\tremaining: 2.75s\n",
            "582:\tlearn: 0.3021873\ttotal: 3.83s\tremaining: 2.74s\n",
            "583:\tlearn: 0.3019568\ttotal: 3.83s\tremaining: 2.73s\n",
            "584:\tlearn: 0.3017734\ttotal: 3.83s\tremaining: 2.72s\n",
            "585:\tlearn: 0.3015695\ttotal: 3.84s\tremaining: 2.71s\n",
            "586:\tlearn: 0.3013714\ttotal: 3.84s\tremaining: 2.7s\n",
            "587:\tlearn: 0.3012659\ttotal: 3.85s\tremaining: 2.69s\n",
            "588:\tlearn: 0.3010468\ttotal: 3.85s\tremaining: 2.69s\n",
            "589:\tlearn: 0.3007500\ttotal: 3.86s\tremaining: 2.68s\n",
            "590:\tlearn: 0.3006020\ttotal: 3.86s\tremaining: 2.67s\n",
            "591:\tlearn: 0.3004623\ttotal: 3.87s\tremaining: 2.66s\n",
            "592:\tlearn: 0.2999190\ttotal: 3.87s\tremaining: 2.65s\n",
            "593:\tlearn: 0.2996860\ttotal: 3.87s\tremaining: 2.65s\n",
            "594:\tlearn: 0.2990853\ttotal: 3.88s\tremaining: 2.64s\n",
            "595:\tlearn: 0.2989085\ttotal: 3.88s\tremaining: 2.63s\n",
            "596:\tlearn: 0.2986301\ttotal: 3.88s\tremaining: 2.62s\n",
            "597:\tlearn: 0.2980547\ttotal: 3.88s\tremaining: 2.61s\n",
            "598:\tlearn: 0.2978795\ttotal: 3.89s\tremaining: 2.6s\n",
            "599:\tlearn: 0.2977227\ttotal: 3.89s\tremaining: 2.59s\n",
            "600:\tlearn: 0.2975752\ttotal: 3.9s\tremaining: 2.59s\n",
            "601:\tlearn: 0.2973609\ttotal: 3.9s\tremaining: 2.58s\n",
            "602:\tlearn: 0.2970909\ttotal: 3.9s\tremaining: 2.57s\n",
            "603:\tlearn: 0.2969110\ttotal: 3.91s\tremaining: 2.56s\n",
            "604:\tlearn: 0.2966877\ttotal: 3.91s\tremaining: 2.55s\n",
            "605:\tlearn: 0.2963409\ttotal: 3.91s\tremaining: 2.54s\n",
            "606:\tlearn: 0.2961677\ttotal: 3.92s\tremaining: 2.54s\n",
            "607:\tlearn: 0.2959732\ttotal: 3.92s\tremaining: 2.53s\n",
            "608:\tlearn: 0.2958119\ttotal: 3.92s\tremaining: 2.52s\n",
            "609:\tlearn: 0.2955350\ttotal: 3.93s\tremaining: 2.51s\n",
            "610:\tlearn: 0.2952925\ttotal: 3.93s\tremaining: 2.5s\n",
            "611:\tlearn: 0.2951008\ttotal: 3.93s\tremaining: 2.49s\n",
            "612:\tlearn: 0.2948903\ttotal: 3.94s\tremaining: 2.48s\n",
            "613:\tlearn: 0.2947063\ttotal: 3.94s\tremaining: 2.48s\n",
            "614:\tlearn: 0.2945225\ttotal: 3.94s\tremaining: 2.47s\n",
            "615:\tlearn: 0.2943287\ttotal: 3.95s\tremaining: 2.46s\n",
            "616:\tlearn: 0.2938431\ttotal: 3.95s\tremaining: 2.45s\n",
            "617:\tlearn: 0.2937067\ttotal: 3.96s\tremaining: 2.44s\n",
            "618:\tlearn: 0.2931236\ttotal: 3.96s\tremaining: 2.44s\n",
            "619:\tlearn: 0.2929337\ttotal: 3.96s\tremaining: 2.43s\n",
            "620:\tlearn: 0.2927368\ttotal: 3.96s\tremaining: 2.42s\n",
            "621:\tlearn: 0.2925863\ttotal: 3.97s\tremaining: 2.41s\n",
            "622:\tlearn: 0.2923594\ttotal: 3.97s\tremaining: 2.4s\n",
            "623:\tlearn: 0.2922001\ttotal: 3.98s\tremaining: 2.4s\n",
            "624:\tlearn: 0.2920120\ttotal: 3.98s\tremaining: 2.39s\n",
            "625:\tlearn: 0.2918517\ttotal: 3.98s\tremaining: 2.38s\n",
            "626:\tlearn: 0.2917296\ttotal: 3.99s\tremaining: 2.37s\n",
            "627:\tlearn: 0.2916232\ttotal: 3.99s\tremaining: 2.36s\n",
            "628:\tlearn: 0.2913530\ttotal: 3.99s\tremaining: 2.35s\n",
            "629:\tlearn: 0.2911920\ttotal: 4s\tremaining: 2.35s\n",
            "630:\tlearn: 0.2909176\ttotal: 4s\tremaining: 2.34s\n",
            "631:\tlearn: 0.2907348\ttotal: 4s\tremaining: 2.33s\n",
            "632:\tlearn: 0.2903910\ttotal: 4.01s\tremaining: 2.32s\n",
            "633:\tlearn: 0.2902338\ttotal: 4.01s\tremaining: 2.31s\n",
            "634:\tlearn: 0.2900336\ttotal: 4.01s\tremaining: 2.31s\n",
            "635:\tlearn: 0.2898901\ttotal: 4.02s\tremaining: 2.3s\n",
            "636:\tlearn: 0.2897056\ttotal: 4.02s\tremaining: 2.29s\n",
            "637:\tlearn: 0.2895204\ttotal: 4.02s\tremaining: 2.28s\n",
            "638:\tlearn: 0.2893227\ttotal: 4.03s\tremaining: 2.27s\n",
            "639:\tlearn: 0.2891348\ttotal: 4.03s\tremaining: 2.27s\n",
            "640:\tlearn: 0.2887039\ttotal: 4.03s\tremaining: 2.26s\n",
            "641:\tlearn: 0.2882462\ttotal: 4.04s\tremaining: 2.25s\n",
            "642:\tlearn: 0.2880794\ttotal: 4.05s\tremaining: 2.25s\n",
            "643:\tlearn: 0.2877254\ttotal: 4.05s\tremaining: 2.24s\n",
            "644:\tlearn: 0.2875237\ttotal: 4.05s\tremaining: 2.23s\n",
            "645:\tlearn: 0.2873434\ttotal: 4.06s\tremaining: 2.22s\n",
            "646:\tlearn: 0.2871948\ttotal: 4.06s\tremaining: 2.21s\n",
            "647:\tlearn: 0.2869939\ttotal: 4.06s\tremaining: 2.21s\n",
            "648:\tlearn: 0.2868730\ttotal: 4.07s\tremaining: 2.2s\n",
            "649:\tlearn: 0.2866360\ttotal: 4.07s\tremaining: 2.19s\n",
            "650:\tlearn: 0.2864227\ttotal: 4.08s\tremaining: 2.18s\n",
            "651:\tlearn: 0.2861767\ttotal: 4.08s\tremaining: 2.18s\n",
            "652:\tlearn: 0.2860329\ttotal: 4.08s\tremaining: 2.17s\n",
            "653:\tlearn: 0.2858307\ttotal: 4.09s\tremaining: 2.16s\n",
            "654:\tlearn: 0.2856782\ttotal: 4.09s\tremaining: 2.15s\n",
            "655:\tlearn: 0.2854253\ttotal: 4.09s\tremaining: 2.15s\n",
            "656:\tlearn: 0.2852259\ttotal: 4.1s\tremaining: 2.14s\n",
            "657:\tlearn: 0.2848197\ttotal: 4.1s\tremaining: 2.13s\n",
            "658:\tlearn: 0.2846609\ttotal: 4.1s\tremaining: 2.12s\n",
            "659:\tlearn: 0.2844090\ttotal: 4.11s\tremaining: 2.12s\n",
            "660:\tlearn: 0.2840858\ttotal: 4.11s\tremaining: 2.11s\n",
            "661:\tlearn: 0.2839147\ttotal: 4.11s\tremaining: 2.1s\n",
            "662:\tlearn: 0.2837095\ttotal: 4.12s\tremaining: 2.09s\n",
            "663:\tlearn: 0.2835359\ttotal: 4.12s\tremaining: 2.08s\n",
            "664:\tlearn: 0.2833899\ttotal: 4.13s\tremaining: 2.08s\n",
            "665:\tlearn: 0.2828417\ttotal: 4.13s\tremaining: 2.07s\n",
            "666:\tlearn: 0.2826977\ttotal: 4.13s\tremaining: 2.06s\n",
            "667:\tlearn: 0.2821814\ttotal: 4.13s\tremaining: 2.06s\n",
            "668:\tlearn: 0.2818407\ttotal: 4.14s\tremaining: 2.05s\n",
            "669:\tlearn: 0.2816951\ttotal: 4.14s\tremaining: 2.04s\n",
            "670:\tlearn: 0.2815423\ttotal: 4.15s\tremaining: 2.03s\n",
            "671:\tlearn: 0.2813607\ttotal: 4.15s\tremaining: 2.02s\n",
            "672:\tlearn: 0.2811932\ttotal: 4.15s\tremaining: 2.02s\n",
            "673:\tlearn: 0.2810748\ttotal: 4.16s\tremaining: 2.01s\n",
            "674:\tlearn: 0.2809238\ttotal: 4.16s\tremaining: 2s\n",
            "675:\tlearn: 0.2807857\ttotal: 4.16s\tremaining: 2s\n",
            "676:\tlearn: 0.2805485\ttotal: 4.17s\tremaining: 1.99s\n",
            "677:\tlearn: 0.2802088\ttotal: 4.17s\tremaining: 1.98s\n",
            "678:\tlearn: 0.2799230\ttotal: 4.17s\tremaining: 1.97s\n",
            "679:\tlearn: 0.2797290\ttotal: 4.18s\tremaining: 1.97s\n",
            "680:\tlearn: 0.2795693\ttotal: 4.18s\tremaining: 1.96s\n",
            "681:\tlearn: 0.2793517\ttotal: 4.18s\tremaining: 1.95s\n",
            "682:\tlearn: 0.2791803\ttotal: 4.19s\tremaining: 1.94s\n",
            "683:\tlearn: 0.2787238\ttotal: 4.19s\tremaining: 1.94s\n",
            "684:\tlearn: 0.2785566\ttotal: 4.19s\tremaining: 1.93s\n",
            "685:\tlearn: 0.2783428\ttotal: 4.2s\tremaining: 1.92s\n",
            "686:\tlearn: 0.2778697\ttotal: 4.2s\tremaining: 1.91s\n",
            "687:\tlearn: 0.2776813\ttotal: 4.21s\tremaining: 1.91s\n",
            "688:\tlearn: 0.2774931\ttotal: 4.21s\tremaining: 1.9s\n",
            "689:\tlearn: 0.2773186\ttotal: 4.21s\tremaining: 1.89s\n",
            "690:\tlearn: 0.2770893\ttotal: 4.22s\tremaining: 1.89s\n",
            "691:\tlearn: 0.2769415\ttotal: 4.22s\tremaining: 1.88s\n",
            "692:\tlearn: 0.2767555\ttotal: 4.22s\tremaining: 1.87s\n",
            "693:\tlearn: 0.2766119\ttotal: 4.24s\tremaining: 1.87s\n",
            "694:\tlearn: 0.2764057\ttotal: 4.24s\tremaining: 1.86s\n",
            "695:\tlearn: 0.2762466\ttotal: 4.24s\tremaining: 1.85s\n",
            "696:\tlearn: 0.2760143\ttotal: 4.25s\tremaining: 1.84s\n",
            "697:\tlearn: 0.2758569\ttotal: 4.25s\tremaining: 1.84s\n",
            "698:\tlearn: 0.2757135\ttotal: 4.25s\tremaining: 1.83s\n",
            "699:\tlearn: 0.2755465\ttotal: 4.26s\tremaining: 1.82s\n",
            "700:\tlearn: 0.2754366\ttotal: 4.26s\tremaining: 1.82s\n",
            "701:\tlearn: 0.2752660\ttotal: 4.26s\tremaining: 1.81s\n",
            "702:\tlearn: 0.2751307\ttotal: 4.27s\tremaining: 1.8s\n",
            "703:\tlearn: 0.2749353\ttotal: 4.27s\tremaining: 1.79s\n",
            "704:\tlearn: 0.2746891\ttotal: 4.27s\tremaining: 1.79s\n",
            "705:\tlearn: 0.2744600\ttotal: 4.28s\tremaining: 1.78s\n",
            "706:\tlearn: 0.2742686\ttotal: 4.28s\tremaining: 1.77s\n",
            "707:\tlearn: 0.2740432\ttotal: 4.28s\tremaining: 1.77s\n",
            "708:\tlearn: 0.2738530\ttotal: 4.29s\tremaining: 1.76s\n",
            "709:\tlearn: 0.2735868\ttotal: 4.29s\tremaining: 1.75s\n",
            "710:\tlearn: 0.2734539\ttotal: 4.29s\tremaining: 1.75s\n",
            "711:\tlearn: 0.2732992\ttotal: 4.3s\tremaining: 1.74s\n",
            "712:\tlearn: 0.2731416\ttotal: 4.3s\tremaining: 1.73s\n",
            "713:\tlearn: 0.2729777\ttotal: 4.31s\tremaining: 1.72s\n",
            "714:\tlearn: 0.2727645\ttotal: 4.31s\tremaining: 1.72s\n",
            "715:\tlearn: 0.2725274\ttotal: 4.31s\tremaining: 1.71s\n",
            "716:\tlearn: 0.2723239\ttotal: 4.32s\tremaining: 1.7s\n",
            "717:\tlearn: 0.2721753\ttotal: 4.32s\tremaining: 1.7s\n",
            "718:\tlearn: 0.2719995\ttotal: 4.32s\tremaining: 1.69s\n",
            "719:\tlearn: 0.2718545\ttotal: 4.33s\tremaining: 1.68s\n",
            "720:\tlearn: 0.2716842\ttotal: 4.33s\tremaining: 1.68s\n",
            "721:\tlearn: 0.2715055\ttotal: 4.33s\tremaining: 1.67s\n",
            "722:\tlearn: 0.2710258\ttotal: 4.34s\tremaining: 1.66s\n",
            "723:\tlearn: 0.2706655\ttotal: 4.34s\tremaining: 1.65s\n",
            "724:\tlearn: 0.2704753\ttotal: 4.34s\tremaining: 1.65s\n",
            "725:\tlearn: 0.2702963\ttotal: 4.35s\tremaining: 1.64s\n",
            "726:\tlearn: 0.2699088\ttotal: 4.35s\tremaining: 1.63s\n",
            "727:\tlearn: 0.2696523\ttotal: 4.35s\tremaining: 1.63s\n",
            "728:\tlearn: 0.2695037\ttotal: 4.36s\tremaining: 1.62s\n",
            "729:\tlearn: 0.2693127\ttotal: 4.36s\tremaining: 1.61s\n",
            "730:\tlearn: 0.2691297\ttotal: 4.37s\tremaining: 1.61s\n",
            "731:\tlearn: 0.2689071\ttotal: 4.37s\tremaining: 1.6s\n",
            "732:\tlearn: 0.2687247\ttotal: 4.37s\tremaining: 1.59s\n",
            "733:\tlearn: 0.2685036\ttotal: 4.38s\tremaining: 1.58s\n",
            "734:\tlearn: 0.2683084\ttotal: 4.38s\tremaining: 1.58s\n",
            "735:\tlearn: 0.2681792\ttotal: 4.38s\tremaining: 1.57s\n",
            "736:\tlearn: 0.2680250\ttotal: 4.39s\tremaining: 1.56s\n",
            "737:\tlearn: 0.2678345\ttotal: 4.39s\tremaining: 1.56s\n",
            "738:\tlearn: 0.2676233\ttotal: 4.39s\tremaining: 1.55s\n",
            "739:\tlearn: 0.2672804\ttotal: 4.4s\tremaining: 1.54s\n",
            "740:\tlearn: 0.2670894\ttotal: 4.4s\tremaining: 1.54s\n",
            "741:\tlearn: 0.2666731\ttotal: 4.4s\tremaining: 1.53s\n",
            "742:\tlearn: 0.2664704\ttotal: 4.41s\tremaining: 1.52s\n",
            "743:\tlearn: 0.2662855\ttotal: 4.41s\tremaining: 1.52s\n",
            "744:\tlearn: 0.2660768\ttotal: 4.41s\tremaining: 1.51s\n",
            "745:\tlearn: 0.2657625\ttotal: 4.42s\tremaining: 1.5s\n",
            "746:\tlearn: 0.2655853\ttotal: 4.42s\tremaining: 1.5s\n",
            "747:\tlearn: 0.2653774\ttotal: 4.42s\tremaining: 1.49s\n",
            "748:\tlearn: 0.2651304\ttotal: 4.43s\tremaining: 1.48s\n",
            "749:\tlearn: 0.2648510\ttotal: 4.43s\tremaining: 1.48s\n",
            "750:\tlearn: 0.2646610\ttotal: 4.44s\tremaining: 1.47s\n",
            "751:\tlearn: 0.2644107\ttotal: 4.44s\tremaining: 1.46s\n",
            "752:\tlearn: 0.2641942\ttotal: 4.44s\tremaining: 1.46s\n",
            "753:\tlearn: 0.2640354\ttotal: 4.45s\tremaining: 1.45s\n",
            "754:\tlearn: 0.2638518\ttotal: 4.45s\tremaining: 1.44s\n",
            "755:\tlearn: 0.2636505\ttotal: 4.45s\tremaining: 1.44s\n",
            "756:\tlearn: 0.2634267\ttotal: 4.46s\tremaining: 1.43s\n",
            "757:\tlearn: 0.2630658\ttotal: 4.46s\tremaining: 1.42s\n",
            "758:\tlearn: 0.2627564\ttotal: 4.46s\tremaining: 1.42s\n",
            "759:\tlearn: 0.2625488\ttotal: 4.47s\tremaining: 1.41s\n",
            "760:\tlearn: 0.2623907\ttotal: 4.47s\tremaining: 1.4s\n",
            "761:\tlearn: 0.2621800\ttotal: 4.47s\tremaining: 1.4s\n",
            "762:\tlearn: 0.2620679\ttotal: 4.48s\tremaining: 1.39s\n",
            "763:\tlearn: 0.2617332\ttotal: 4.48s\tremaining: 1.38s\n",
            "764:\tlearn: 0.2615753\ttotal: 4.48s\tremaining: 1.38s\n",
            "765:\tlearn: 0.2613867\ttotal: 4.49s\tremaining: 1.37s\n",
            "766:\tlearn: 0.2611779\ttotal: 4.49s\tremaining: 1.36s\n",
            "767:\tlearn: 0.2610544\ttotal: 4.49s\tremaining: 1.36s\n",
            "768:\tlearn: 0.2609154\ttotal: 4.5s\tremaining: 1.35s\n",
            "769:\tlearn: 0.2607776\ttotal: 4.5s\tremaining: 1.34s\n",
            "770:\tlearn: 0.2605525\ttotal: 4.5s\tremaining: 1.34s\n",
            "771:\tlearn: 0.2603249\ttotal: 4.51s\tremaining: 1.33s\n",
            "772:\tlearn: 0.2601718\ttotal: 4.51s\tremaining: 1.32s\n",
            "773:\tlearn: 0.2598905\ttotal: 4.51s\tremaining: 1.32s\n",
            "774:\tlearn: 0.2597560\ttotal: 4.52s\tremaining: 1.31s\n",
            "775:\tlearn: 0.2595963\ttotal: 4.52s\tremaining: 1.3s\n",
            "776:\tlearn: 0.2593289\ttotal: 4.53s\tremaining: 1.3s\n",
            "777:\tlearn: 0.2592098\ttotal: 4.53s\tremaining: 1.29s\n",
            "778:\tlearn: 0.2589949\ttotal: 4.54s\tremaining: 1.29s\n",
            "779:\tlearn: 0.2588736\ttotal: 4.55s\tremaining: 1.28s\n",
            "780:\tlearn: 0.2587399\ttotal: 4.55s\tremaining: 1.27s\n",
            "781:\tlearn: 0.2585324\ttotal: 4.55s\tremaining: 1.27s\n",
            "782:\tlearn: 0.2583809\ttotal: 4.56s\tremaining: 1.26s\n",
            "783:\tlearn: 0.2582454\ttotal: 4.56s\tremaining: 1.26s\n",
            "784:\tlearn: 0.2579649\ttotal: 4.56s\tremaining: 1.25s\n",
            "785:\tlearn: 0.2575833\ttotal: 4.57s\tremaining: 1.24s\n",
            "786:\tlearn: 0.2574331\ttotal: 4.57s\tremaining: 1.24s\n",
            "787:\tlearn: 0.2572527\ttotal: 4.57s\tremaining: 1.23s\n",
            "788:\tlearn: 0.2569171\ttotal: 4.58s\tremaining: 1.22s\n",
            "789:\tlearn: 0.2567747\ttotal: 4.58s\tremaining: 1.22s\n",
            "790:\tlearn: 0.2565694\ttotal: 4.58s\tremaining: 1.21s\n",
            "791:\tlearn: 0.2564745\ttotal: 4.59s\tremaining: 1.2s\n",
            "792:\tlearn: 0.2562621\ttotal: 4.59s\tremaining: 1.2s\n",
            "793:\tlearn: 0.2561301\ttotal: 4.59s\tremaining: 1.19s\n",
            "794:\tlearn: 0.2558966\ttotal: 4.6s\tremaining: 1.19s\n",
            "795:\tlearn: 0.2557310\ttotal: 4.6s\tremaining: 1.18s\n",
            "796:\tlearn: 0.2554903\ttotal: 4.61s\tremaining: 1.17s\n",
            "797:\tlearn: 0.2552312\ttotal: 4.62s\tremaining: 1.17s\n",
            "798:\tlearn: 0.2549807\ttotal: 4.62s\tremaining: 1.16s\n",
            "799:\tlearn: 0.2548216\ttotal: 4.62s\tremaining: 1.16s\n",
            "800:\tlearn: 0.2546952\ttotal: 4.63s\tremaining: 1.15s\n",
            "801:\tlearn: 0.2544335\ttotal: 4.63s\tremaining: 1.14s\n",
            "802:\tlearn: 0.2543175\ttotal: 4.63s\tremaining: 1.14s\n",
            "803:\tlearn: 0.2541260\ttotal: 4.64s\tremaining: 1.13s\n",
            "804:\tlearn: 0.2538743\ttotal: 4.64s\tremaining: 1.12s\n",
            "805:\tlearn: 0.2536744\ttotal: 4.64s\tremaining: 1.12s\n",
            "806:\tlearn: 0.2532854\ttotal: 4.65s\tremaining: 1.11s\n",
            "807:\tlearn: 0.2531600\ttotal: 4.65s\tremaining: 1.1s\n",
            "808:\tlearn: 0.2529170\ttotal: 4.66s\tremaining: 1.1s\n",
            "809:\tlearn: 0.2527560\ttotal: 4.66s\tremaining: 1.09s\n",
            "810:\tlearn: 0.2526473\ttotal: 4.66s\tremaining: 1.09s\n",
            "811:\tlearn: 0.2524499\ttotal: 4.67s\tremaining: 1.08s\n",
            "812:\tlearn: 0.2522742\ttotal: 4.67s\tremaining: 1.07s\n",
            "813:\tlearn: 0.2521168\ttotal: 4.67s\tremaining: 1.07s\n",
            "814:\tlearn: 0.2516736\ttotal: 4.67s\tremaining: 1.06s\n",
            "815:\tlearn: 0.2515132\ttotal: 4.68s\tremaining: 1.05s\n",
            "816:\tlearn: 0.2512467\ttotal: 4.68s\tremaining: 1.05s\n",
            "817:\tlearn: 0.2510626\ttotal: 4.68s\tremaining: 1.04s\n",
            "818:\tlearn: 0.2508460\ttotal: 4.69s\tremaining: 1.04s\n",
            "819:\tlearn: 0.2507086\ttotal: 4.69s\tremaining: 1.03s\n",
            "820:\tlearn: 0.2504666\ttotal: 4.7s\tremaining: 1.02s\n",
            "821:\tlearn: 0.2501674\ttotal: 4.7s\tremaining: 1.02s\n",
            "822:\tlearn: 0.2499457\ttotal: 4.7s\tremaining: 1.01s\n",
            "823:\tlearn: 0.2497096\ttotal: 4.71s\tremaining: 1s\n",
            "824:\tlearn: 0.2495012\ttotal: 4.71s\tremaining: 999ms\n",
            "825:\tlearn: 0.2493613\ttotal: 4.71s\tremaining: 993ms\n",
            "826:\tlearn: 0.2489634\ttotal: 4.72s\tremaining: 987ms\n",
            "827:\tlearn: 0.2487007\ttotal: 4.72s\tremaining: 980ms\n",
            "828:\tlearn: 0.2485711\ttotal: 4.72s\tremaining: 974ms\n",
            "829:\tlearn: 0.2483886\ttotal: 4.73s\tremaining: 968ms\n",
            "830:\tlearn: 0.2481669\ttotal: 4.73s\tremaining: 962ms\n",
            "831:\tlearn: 0.2480031\ttotal: 4.73s\tremaining: 956ms\n",
            "832:\tlearn: 0.2478398\ttotal: 4.74s\tremaining: 950ms\n",
            "833:\tlearn: 0.2475794\ttotal: 4.74s\tremaining: 943ms\n",
            "834:\tlearn: 0.2474889\ttotal: 4.74s\tremaining: 937ms\n",
            "835:\tlearn: 0.2472176\ttotal: 4.75s\tremaining: 931ms\n",
            "836:\tlearn: 0.2469914\ttotal: 4.75s\tremaining: 925ms\n",
            "837:\tlearn: 0.2468507\ttotal: 4.75s\tremaining: 919ms\n",
            "838:\tlearn: 0.2466877\ttotal: 4.76s\tremaining: 913ms\n",
            "839:\tlearn: 0.2464050\ttotal: 4.76s\tremaining: 907ms\n",
            "840:\tlearn: 0.2462362\ttotal: 4.76s\tremaining: 901ms\n",
            "841:\tlearn: 0.2460708\ttotal: 4.77s\tremaining: 894ms\n",
            "842:\tlearn: 0.2458662\ttotal: 4.77s\tremaining: 888ms\n",
            "843:\tlearn: 0.2457204\ttotal: 4.77s\tremaining: 882ms\n",
            "844:\tlearn: 0.2455360\ttotal: 4.78s\tremaining: 876ms\n",
            "845:\tlearn: 0.2454042\ttotal: 4.78s\tremaining: 870ms\n",
            "846:\tlearn: 0.2452762\ttotal: 4.78s\tremaining: 864ms\n",
            "847:\tlearn: 0.2451139\ttotal: 4.79s\tremaining: 858ms\n",
            "848:\tlearn: 0.2448626\ttotal: 4.79s\tremaining: 852ms\n",
            "849:\tlearn: 0.2444807\ttotal: 4.79s\tremaining: 846ms\n",
            "850:\tlearn: 0.2442639\ttotal: 4.8s\tremaining: 840ms\n",
            "851:\tlearn: 0.2441237\ttotal: 4.8s\tremaining: 834ms\n",
            "852:\tlearn: 0.2439143\ttotal: 4.8s\tremaining: 828ms\n",
            "853:\tlearn: 0.2437336\ttotal: 4.81s\tremaining: 822ms\n",
            "854:\tlearn: 0.2435050\ttotal: 4.81s\tremaining: 817ms\n",
            "855:\tlearn: 0.2433699\ttotal: 4.82s\tremaining: 811ms\n",
            "856:\tlearn: 0.2430460\ttotal: 4.82s\tremaining: 805ms\n",
            "857:\tlearn: 0.2428303\ttotal: 4.83s\tremaining: 799ms\n",
            "858:\tlearn: 0.2426996\ttotal: 4.83s\tremaining: 793ms\n",
            "859:\tlearn: 0.2425409\ttotal: 4.83s\tremaining: 787ms\n",
            "860:\tlearn: 0.2422690\ttotal: 4.84s\tremaining: 781ms\n",
            "861:\tlearn: 0.2421423\ttotal: 4.84s\tremaining: 775ms\n",
            "862:\tlearn: 0.2420546\ttotal: 4.84s\tremaining: 769ms\n",
            "863:\tlearn: 0.2418181\ttotal: 4.85s\tremaining: 763ms\n",
            "864:\tlearn: 0.2416821\ttotal: 4.85s\tremaining: 757ms\n",
            "865:\tlearn: 0.2415066\ttotal: 4.85s\tremaining: 751ms\n",
            "866:\tlearn: 0.2412956\ttotal: 4.86s\tremaining: 745ms\n",
            "867:\tlearn: 0.2411388\ttotal: 4.86s\tremaining: 739ms\n",
            "868:\tlearn: 0.2408975\ttotal: 4.86s\tremaining: 733ms\n",
            "869:\tlearn: 0.2407006\ttotal: 4.87s\tremaining: 727ms\n",
            "870:\tlearn: 0.2405890\ttotal: 4.87s\tremaining: 721ms\n",
            "871:\tlearn: 0.2404120\ttotal: 4.87s\tremaining: 715ms\n",
            "872:\tlearn: 0.2401988\ttotal: 4.88s\tremaining: 710ms\n",
            "873:\tlearn: 0.2400776\ttotal: 4.88s\tremaining: 704ms\n",
            "874:\tlearn: 0.2399542\ttotal: 4.88s\tremaining: 698ms\n",
            "875:\tlearn: 0.2396127\ttotal: 4.89s\tremaining: 692ms\n",
            "876:\tlearn: 0.2394750\ttotal: 4.89s\tremaining: 686ms\n",
            "877:\tlearn: 0.2392522\ttotal: 4.89s\tremaining: 680ms\n",
            "878:\tlearn: 0.2390549\ttotal: 4.9s\tremaining: 674ms\n",
            "879:\tlearn: 0.2388835\ttotal: 4.9s\tremaining: 668ms\n",
            "880:\tlearn: 0.2387227\ttotal: 4.9s\tremaining: 663ms\n",
            "881:\tlearn: 0.2385725\ttotal: 4.91s\tremaining: 657ms\n",
            "882:\tlearn: 0.2384164\ttotal: 4.91s\tremaining: 651ms\n",
            "883:\tlearn: 0.2381230\ttotal: 4.92s\tremaining: 645ms\n",
            "884:\tlearn: 0.2379764\ttotal: 4.92s\tremaining: 639ms\n",
            "885:\tlearn: 0.2377548\ttotal: 4.92s\tremaining: 633ms\n",
            "886:\tlearn: 0.2376234\ttotal: 4.92s\tremaining: 627ms\n",
            "887:\tlearn: 0.2374951\ttotal: 4.93s\tremaining: 622ms\n",
            "888:\tlearn: 0.2373611\ttotal: 4.93s\tremaining: 616ms\n",
            "889:\tlearn: 0.2372241\ttotal: 4.93s\tremaining: 610ms\n",
            "890:\tlearn: 0.2371435\ttotal: 4.94s\tremaining: 604ms\n",
            "891:\tlearn: 0.2369658\ttotal: 4.94s\tremaining: 598ms\n",
            "892:\tlearn: 0.2368564\ttotal: 4.95s\tremaining: 593ms\n",
            "893:\tlearn: 0.2365176\ttotal: 4.95s\tremaining: 587ms\n",
            "894:\tlearn: 0.2363663\ttotal: 4.95s\tremaining: 581ms\n",
            "895:\tlearn: 0.2361612\ttotal: 4.96s\tremaining: 575ms\n",
            "896:\tlearn: 0.2358880\ttotal: 4.96s\tremaining: 569ms\n",
            "897:\tlearn: 0.2357487\ttotal: 4.96s\tremaining: 564ms\n",
            "898:\tlearn: 0.2355451\ttotal: 4.97s\tremaining: 558ms\n",
            "899:\tlearn: 0.2353150\ttotal: 4.97s\tremaining: 552ms\n",
            "900:\tlearn: 0.2351485\ttotal: 4.97s\tremaining: 546ms\n",
            "901:\tlearn: 0.2349789\ttotal: 4.98s\tremaining: 541ms\n",
            "902:\tlearn: 0.2348218\ttotal: 4.98s\tremaining: 535ms\n",
            "903:\tlearn: 0.2346670\ttotal: 4.98s\tremaining: 529ms\n",
            "904:\tlearn: 0.2344927\ttotal: 4.99s\tremaining: 523ms\n",
            "905:\tlearn: 0.2343401\ttotal: 4.99s\tremaining: 518ms\n",
            "906:\tlearn: 0.2342120\ttotal: 4.99s\tremaining: 512ms\n",
            "907:\tlearn: 0.2340951\ttotal: 5s\tremaining: 506ms\n",
            "908:\tlearn: 0.2339775\ttotal: 5s\tremaining: 501ms\n",
            "909:\tlearn: 0.2337812\ttotal: 5.01s\tremaining: 495ms\n",
            "910:\tlearn: 0.2336317\ttotal: 5.02s\tremaining: 490ms\n",
            "911:\tlearn: 0.2334401\ttotal: 5.02s\tremaining: 485ms\n",
            "912:\tlearn: 0.2332505\ttotal: 5.03s\tremaining: 479ms\n",
            "913:\tlearn: 0.2330650\ttotal: 5.03s\tremaining: 473ms\n",
            "914:\tlearn: 0.2328805\ttotal: 5.03s\tremaining: 468ms\n",
            "915:\tlearn: 0.2325448\ttotal: 5.04s\tremaining: 462ms\n",
            "916:\tlearn: 0.2323569\ttotal: 5.04s\tremaining: 456ms\n",
            "917:\tlearn: 0.2322293\ttotal: 5.04s\tremaining: 451ms\n",
            "918:\tlearn: 0.2320319\ttotal: 5.05s\tremaining: 445ms\n",
            "919:\tlearn: 0.2318739\ttotal: 5.05s\tremaining: 439ms\n",
            "920:\tlearn: 0.2317078\ttotal: 5.05s\tremaining: 434ms\n",
            "921:\tlearn: 0.2315845\ttotal: 5.06s\tremaining: 428ms\n",
            "922:\tlearn: 0.2314489\ttotal: 5.06s\tremaining: 422ms\n",
            "923:\tlearn: 0.2313580\ttotal: 5.07s\tremaining: 417ms\n",
            "924:\tlearn: 0.2311175\ttotal: 5.07s\tremaining: 411ms\n",
            "925:\tlearn: 0.2309337\ttotal: 5.07s\tremaining: 405ms\n",
            "926:\tlearn: 0.2307219\ttotal: 5.08s\tremaining: 400ms\n",
            "927:\tlearn: 0.2305736\ttotal: 5.08s\tremaining: 394ms\n",
            "928:\tlearn: 0.2303921\ttotal: 5.08s\tremaining: 388ms\n",
            "929:\tlearn: 0.2302936\ttotal: 5.09s\tremaining: 383ms\n",
            "930:\tlearn: 0.2301805\ttotal: 5.09s\tremaining: 377ms\n",
            "931:\tlearn: 0.2299001\ttotal: 5.09s\tremaining: 372ms\n",
            "932:\tlearn: 0.2296885\ttotal: 5.1s\tremaining: 366ms\n",
            "933:\tlearn: 0.2295006\ttotal: 5.1s\tremaining: 361ms\n",
            "934:\tlearn: 0.2293339\ttotal: 5.11s\tremaining: 355ms\n",
            "935:\tlearn: 0.2291505\ttotal: 5.11s\tremaining: 349ms\n",
            "936:\tlearn: 0.2289951\ttotal: 5.11s\tremaining: 344ms\n",
            "937:\tlearn: 0.2288899\ttotal: 5.12s\tremaining: 338ms\n",
            "938:\tlearn: 0.2287554\ttotal: 5.12s\tremaining: 333ms\n",
            "939:\tlearn: 0.2285824\ttotal: 5.12s\tremaining: 327ms\n",
            "940:\tlearn: 0.2284599\ttotal: 5.13s\tremaining: 321ms\n",
            "941:\tlearn: 0.2283290\ttotal: 5.13s\tremaining: 316ms\n",
            "942:\tlearn: 0.2281559\ttotal: 5.13s\tremaining: 310ms\n",
            "943:\tlearn: 0.2279610\ttotal: 5.14s\tremaining: 305ms\n",
            "944:\tlearn: 0.2277623\ttotal: 5.14s\tremaining: 299ms\n",
            "945:\tlearn: 0.2274374\ttotal: 5.14s\tremaining: 294ms\n",
            "946:\tlearn: 0.2272861\ttotal: 5.15s\tremaining: 288ms\n",
            "947:\tlearn: 0.2271273\ttotal: 5.15s\tremaining: 282ms\n",
            "948:\tlearn: 0.2269915\ttotal: 5.15s\tremaining: 277ms\n",
            "949:\tlearn: 0.2268652\ttotal: 5.16s\tremaining: 271ms\n",
            "950:\tlearn: 0.2267009\ttotal: 5.16s\tremaining: 266ms\n",
            "951:\tlearn: 0.2264655\ttotal: 5.16s\tremaining: 260ms\n",
            "952:\tlearn: 0.2262500\ttotal: 5.17s\tremaining: 255ms\n",
            "953:\tlearn: 0.2260887\ttotal: 5.17s\tremaining: 249ms\n",
            "954:\tlearn: 0.2259099\ttotal: 5.17s\tremaining: 244ms\n",
            "955:\tlearn: 0.2257656\ttotal: 5.18s\tremaining: 238ms\n",
            "956:\tlearn: 0.2256641\ttotal: 5.18s\tremaining: 233ms\n",
            "957:\tlearn: 0.2255631\ttotal: 5.18s\tremaining: 227ms\n",
            "958:\tlearn: 0.2254615\ttotal: 5.19s\tremaining: 222ms\n",
            "959:\tlearn: 0.2253320\ttotal: 5.19s\tremaining: 216ms\n",
            "960:\tlearn: 0.2252150\ttotal: 5.19s\tremaining: 211ms\n",
            "961:\tlearn: 0.2250066\ttotal: 5.2s\tremaining: 205ms\n",
            "962:\tlearn: 0.2248639\ttotal: 5.2s\tremaining: 200ms\n",
            "963:\tlearn: 0.2246702\ttotal: 5.21s\tremaining: 194ms\n",
            "964:\tlearn: 0.2245118\ttotal: 5.21s\tremaining: 189ms\n",
            "965:\tlearn: 0.2243406\ttotal: 5.22s\tremaining: 184ms\n",
            "966:\tlearn: 0.2242236\ttotal: 5.22s\tremaining: 178ms\n",
            "967:\tlearn: 0.2239200\ttotal: 5.22s\tremaining: 173ms\n",
            "968:\tlearn: 0.2237150\ttotal: 5.23s\tremaining: 167ms\n",
            "969:\tlearn: 0.2235696\ttotal: 5.23s\tremaining: 162ms\n",
            "970:\tlearn: 0.2233431\ttotal: 5.23s\tremaining: 156ms\n",
            "971:\tlearn: 0.2230318\ttotal: 5.24s\tremaining: 151ms\n",
            "972:\tlearn: 0.2228442\ttotal: 5.24s\tremaining: 145ms\n",
            "973:\tlearn: 0.2225083\ttotal: 5.25s\tremaining: 140ms\n",
            "974:\tlearn: 0.2224117\ttotal: 5.25s\tremaining: 135ms\n",
            "975:\tlearn: 0.2222687\ttotal: 5.25s\tremaining: 129ms\n",
            "976:\tlearn: 0.2221603\ttotal: 5.25s\tremaining: 124ms\n",
            "977:\tlearn: 0.2219873\ttotal: 5.26s\tremaining: 118ms\n",
            "978:\tlearn: 0.2217920\ttotal: 5.26s\tremaining: 113ms\n",
            "979:\tlearn: 0.2215952\ttotal: 5.26s\tremaining: 107ms\n",
            "980:\tlearn: 0.2214524\ttotal: 5.27s\tremaining: 102ms\n",
            "981:\tlearn: 0.2213095\ttotal: 5.27s\tremaining: 96.6ms\n",
            "982:\tlearn: 0.2212407\ttotal: 5.28s\tremaining: 91.2ms\n",
            "983:\tlearn: 0.2211684\ttotal: 5.28s\tremaining: 85.8ms\n",
            "984:\tlearn: 0.2210832\ttotal: 5.28s\tremaining: 80.4ms\n",
            "985:\tlearn: 0.2209492\ttotal: 5.29s\tremaining: 75ms\n",
            "986:\tlearn: 0.2208041\ttotal: 5.29s\tremaining: 69.7ms\n",
            "987:\tlearn: 0.2206504\ttotal: 5.29s\tremaining: 64.3ms\n",
            "988:\tlearn: 0.2204923\ttotal: 5.29s\tremaining: 58.9ms\n",
            "989:\tlearn: 0.2203229\ttotal: 5.3s\tremaining: 53.5ms\n",
            "990:\tlearn: 0.2201913\ttotal: 5.3s\tremaining: 48.1ms\n",
            "991:\tlearn: 0.2200704\ttotal: 5.3s\tremaining: 42.8ms\n",
            "992:\tlearn: 0.2199784\ttotal: 5.31s\tremaining: 37.4ms\n",
            "993:\tlearn: 0.2197588\ttotal: 5.31s\tremaining: 32.1ms\n",
            "994:\tlearn: 0.2196622\ttotal: 5.32s\tremaining: 26.7ms\n",
            "995:\tlearn: 0.2195070\ttotal: 5.32s\tremaining: 21.4ms\n",
            "996:\tlearn: 0.2194022\ttotal: 5.32s\tremaining: 16ms\n",
            "997:\tlearn: 0.2192924\ttotal: 5.33s\tremaining: 10.7ms\n",
            "998:\tlearn: 0.2191420\ttotal: 5.33s\tremaining: 5.33ms\n",
            "999:\tlearn: 0.2190788\ttotal: 5.33s\tremaining: 0us\n"
          ]
        }
      ]
    },
    {
      "cell_type": "code",
      "source": [
        "res = pd.DataFrame({\n",
        "    'Model Accuracy': models_acc, \n",
        "    \"Model Name\": ['LogisticRegression', 'KNeighborsClassifier','DecisionTrees', 'RandomForestClassifier', 'GaussianNB', 'SVC','XGBClassifier', 'LGBMClassifier','CatboostClassifier', 'LinearDiscriminantAnalysis', 'AdaBoostClassifier']\n",
        "})"
      ],
      "metadata": {
        "id": "vHte4vEstWXM"
      },
      "execution_count": null,
      "outputs": []
    },
    {
      "cell_type": "code",
      "source": [
        "res\n",
        "#robust"
      ],
      "metadata": {
        "colab": {
          "base_uri": "https://localhost:8080/",
          "height": 363
        },
        "id": "3kRU7FkmtaU0",
        "outputId": "6d9062ed-88d6-458c-81ac-06b5396b551c"
      },
      "execution_count": null,
      "outputs": [
        {
          "output_type": "execute_result",
          "data": {
            "text/plain": [
              "   Model Accuracy                  Model Name\n",
              "0        0.628049          LogisticRegression\n",
              "1        0.623476        KNeighborsClassifier\n",
              "2        0.739329               DecisionTrees\n",
              "3        0.804878      RandomForestClassifier\n",
              "4        0.617378                  GaussianNB\n",
              "5        0.682927                         SVC\n",
              "6        0.809451               XGBClassifier\n",
              "7        0.789634              LGBMClassifier\n",
              "8        0.807927          CatboostClassifier\n",
              "9        0.626524  LinearDiscriminantAnalysis"
            ],
            "text/html": [
              "\n",
              "  <div id=\"df-e5016b82-8fcb-421d-b5de-2cd54162635b\">\n",
              "    <div class=\"colab-df-container\">\n",
              "      <div>\n",
              "<style scoped>\n",
              "    .dataframe tbody tr th:only-of-type {\n",
              "        vertical-align: middle;\n",
              "    }\n",
              "\n",
              "    .dataframe tbody tr th {\n",
              "        vertical-align: top;\n",
              "    }\n",
              "\n",
              "    .dataframe thead th {\n",
              "        text-align: right;\n",
              "    }\n",
              "</style>\n",
              "<table border=\"1\" class=\"dataframe\">\n",
              "  <thead>\n",
              "    <tr style=\"text-align: right;\">\n",
              "      <th></th>\n",
              "      <th>Model Accuracy</th>\n",
              "      <th>Model Name</th>\n",
              "    </tr>\n",
              "  </thead>\n",
              "  <tbody>\n",
              "    <tr>\n",
              "      <th>0</th>\n",
              "      <td>0.628049</td>\n",
              "      <td>LogisticRegression</td>\n",
              "    </tr>\n",
              "    <tr>\n",
              "      <th>1</th>\n",
              "      <td>0.623476</td>\n",
              "      <td>KNeighborsClassifier</td>\n",
              "    </tr>\n",
              "    <tr>\n",
              "      <th>2</th>\n",
              "      <td>0.739329</td>\n",
              "      <td>DecisionTrees</td>\n",
              "    </tr>\n",
              "    <tr>\n",
              "      <th>3</th>\n",
              "      <td>0.804878</td>\n",
              "      <td>RandomForestClassifier</td>\n",
              "    </tr>\n",
              "    <tr>\n",
              "      <th>4</th>\n",
              "      <td>0.617378</td>\n",
              "      <td>GaussianNB</td>\n",
              "    </tr>\n",
              "    <tr>\n",
              "      <th>5</th>\n",
              "      <td>0.682927</td>\n",
              "      <td>SVC</td>\n",
              "    </tr>\n",
              "    <tr>\n",
              "      <th>6</th>\n",
              "      <td>0.809451</td>\n",
              "      <td>XGBClassifier</td>\n",
              "    </tr>\n",
              "    <tr>\n",
              "      <th>7</th>\n",
              "      <td>0.789634</td>\n",
              "      <td>LGBMClassifier</td>\n",
              "    </tr>\n",
              "    <tr>\n",
              "      <th>8</th>\n",
              "      <td>0.807927</td>\n",
              "      <td>CatboostClassifier</td>\n",
              "    </tr>\n",
              "    <tr>\n",
              "      <th>9</th>\n",
              "      <td>0.626524</td>\n",
              "      <td>LinearDiscriminantAnalysis</td>\n",
              "    </tr>\n",
              "  </tbody>\n",
              "</table>\n",
              "</div>\n",
              "      <button class=\"colab-df-convert\" onclick=\"convertToInteractive('df-e5016b82-8fcb-421d-b5de-2cd54162635b')\"\n",
              "              title=\"Convert this dataframe to an interactive table.\"\n",
              "              style=\"display:none;\">\n",
              "        \n",
              "  <svg xmlns=\"http://www.w3.org/2000/svg\" height=\"24px\"viewBox=\"0 0 24 24\"\n",
              "       width=\"24px\">\n",
              "    <path d=\"M0 0h24v24H0V0z\" fill=\"none\"/>\n",
              "    <path d=\"M18.56 5.44l.94 2.06.94-2.06 2.06-.94-2.06-.94-.94-2.06-.94 2.06-2.06.94zm-11 1L8.5 8.5l.94-2.06 2.06-.94-2.06-.94L8.5 2.5l-.94 2.06-2.06.94zm10 10l.94 2.06.94-2.06 2.06-.94-2.06-.94-.94-2.06-.94 2.06-2.06.94z\"/><path d=\"M17.41 7.96l-1.37-1.37c-.4-.4-.92-.59-1.43-.59-.52 0-1.04.2-1.43.59L10.3 9.45l-7.72 7.72c-.78.78-.78 2.05 0 2.83L4 21.41c.39.39.9.59 1.41.59.51 0 1.02-.2 1.41-.59l7.78-7.78 2.81-2.81c.8-.78.8-2.07 0-2.86zM5.41 20L4 18.59l7.72-7.72 1.47 1.35L5.41 20z\"/>\n",
              "  </svg>\n",
              "      </button>\n",
              "      \n",
              "  <style>\n",
              "    .colab-df-container {\n",
              "      display:flex;\n",
              "      flex-wrap:wrap;\n",
              "      gap: 12px;\n",
              "    }\n",
              "\n",
              "    .colab-df-convert {\n",
              "      background-color: #E8F0FE;\n",
              "      border: none;\n",
              "      border-radius: 50%;\n",
              "      cursor: pointer;\n",
              "      display: none;\n",
              "      fill: #1967D2;\n",
              "      height: 32px;\n",
              "      padding: 0 0 0 0;\n",
              "      width: 32px;\n",
              "    }\n",
              "\n",
              "    .colab-df-convert:hover {\n",
              "      background-color: #E2EBFA;\n",
              "      box-shadow: 0px 1px 2px rgba(60, 64, 67, 0.3), 0px 1px 3px 1px rgba(60, 64, 67, 0.15);\n",
              "      fill: #174EA6;\n",
              "    }\n",
              "\n",
              "    [theme=dark] .colab-df-convert {\n",
              "      background-color: #3B4455;\n",
              "      fill: #D2E3FC;\n",
              "    }\n",
              "\n",
              "    [theme=dark] .colab-df-convert:hover {\n",
              "      background-color: #434B5C;\n",
              "      box-shadow: 0px 1px 3px 1px rgba(0, 0, 0, 0.15);\n",
              "      filter: drop-shadow(0px 1px 2px rgba(0, 0, 0, 0.3));\n",
              "      fill: #FFFFFF;\n",
              "    }\n",
              "  </style>\n",
              "\n",
              "      <script>\n",
              "        const buttonEl =\n",
              "          document.querySelector('#df-e5016b82-8fcb-421d-b5de-2cd54162635b button.colab-df-convert');\n",
              "        buttonEl.style.display =\n",
              "          google.colab.kernel.accessAllowed ? 'block' : 'none';\n",
              "\n",
              "        async function convertToInteractive(key) {\n",
              "          const element = document.querySelector('#df-e5016b82-8fcb-421d-b5de-2cd54162635b');\n",
              "          const dataTable =\n",
              "            await google.colab.kernel.invokeFunction('convertToInteractive',\n",
              "                                                     [key], {});\n",
              "          if (!dataTable) return;\n",
              "\n",
              "          const docLinkHtml = 'Like what you see? Visit the ' +\n",
              "            '<a target=\"_blank\" href=https://colab.research.google.com/notebooks/data_table.ipynb>data table notebook</a>'\n",
              "            + ' to learn more about interactive tables.';\n",
              "          element.innerHTML = '';\n",
              "          dataTable['output_type'] = 'display_data';\n",
              "          await google.colab.output.renderOutput(dataTable, element);\n",
              "          const docLink = document.createElement('div');\n",
              "          docLink.innerHTML = docLinkHtml;\n",
              "          element.appendChild(docLink);\n",
              "        }\n",
              "      </script>\n",
              "    </div>\n",
              "  </div>\n",
              "  "
            ]
          },
          "metadata": {},
          "execution_count": 178
        }
      ]
    },
    {
      "cell_type": "code",
      "source": [
        "res\n",
        "#minmax"
      ],
      "metadata": {
        "colab": {
          "base_uri": "https://localhost:8080/",
          "height": 363
        },
        "id": "NqPXhERLv_2M",
        "outputId": "7b4128c6-1ec0-4d8d-c4d0-8831d1766c83"
      },
      "execution_count": null,
      "outputs": [
        {
          "output_type": "execute_result",
          "data": {
            "text/plain": [
              "   Model Accuracy                  Model Name\n",
              "0        0.628049          LogisticRegression\n",
              "1        0.623476        KNeighborsClassifier\n",
              "2        0.717988               DecisionTrees\n",
              "3        0.810976      RandomForestClassifier\n",
              "4        0.617378                  GaussianNB\n",
              "5        0.678354                         SVC\n",
              "6        0.809451               XGBClassifier\n",
              "7        0.795732              LGBMClassifier\n",
              "8        0.807927          CatboostClassifier\n",
              "9        0.626524  LinearDiscriminantAnalysis"
            ],
            "text/html": [
              "\n",
              "  <div id=\"df-c204a732-62fa-4f85-9197-6ad4a087eb21\">\n",
              "    <div class=\"colab-df-container\">\n",
              "      <div>\n",
              "<style scoped>\n",
              "    .dataframe tbody tr th:only-of-type {\n",
              "        vertical-align: middle;\n",
              "    }\n",
              "\n",
              "    .dataframe tbody tr th {\n",
              "        vertical-align: top;\n",
              "    }\n",
              "\n",
              "    .dataframe thead th {\n",
              "        text-align: right;\n",
              "    }\n",
              "</style>\n",
              "<table border=\"1\" class=\"dataframe\">\n",
              "  <thead>\n",
              "    <tr style=\"text-align: right;\">\n",
              "      <th></th>\n",
              "      <th>Model Accuracy</th>\n",
              "      <th>Model Name</th>\n",
              "    </tr>\n",
              "  </thead>\n",
              "  <tbody>\n",
              "    <tr>\n",
              "      <th>0</th>\n",
              "      <td>0.628049</td>\n",
              "      <td>LogisticRegression</td>\n",
              "    </tr>\n",
              "    <tr>\n",
              "      <th>1</th>\n",
              "      <td>0.623476</td>\n",
              "      <td>KNeighborsClassifier</td>\n",
              "    </tr>\n",
              "    <tr>\n",
              "      <th>2</th>\n",
              "      <td>0.717988</td>\n",
              "      <td>DecisionTrees</td>\n",
              "    </tr>\n",
              "    <tr>\n",
              "      <th>3</th>\n",
              "      <td>0.810976</td>\n",
              "      <td>RandomForestClassifier</td>\n",
              "    </tr>\n",
              "    <tr>\n",
              "      <th>4</th>\n",
              "      <td>0.617378</td>\n",
              "      <td>GaussianNB</td>\n",
              "    </tr>\n",
              "    <tr>\n",
              "      <th>5</th>\n",
              "      <td>0.678354</td>\n",
              "      <td>SVC</td>\n",
              "    </tr>\n",
              "    <tr>\n",
              "      <th>6</th>\n",
              "      <td>0.809451</td>\n",
              "      <td>XGBClassifier</td>\n",
              "    </tr>\n",
              "    <tr>\n",
              "      <th>7</th>\n",
              "      <td>0.795732</td>\n",
              "      <td>LGBMClassifier</td>\n",
              "    </tr>\n",
              "    <tr>\n",
              "      <th>8</th>\n",
              "      <td>0.807927</td>\n",
              "      <td>CatboostClassifier</td>\n",
              "    </tr>\n",
              "    <tr>\n",
              "      <th>9</th>\n",
              "      <td>0.626524</td>\n",
              "      <td>LinearDiscriminantAnalysis</td>\n",
              "    </tr>\n",
              "  </tbody>\n",
              "</table>\n",
              "</div>\n",
              "      <button class=\"colab-df-convert\" onclick=\"convertToInteractive('df-c204a732-62fa-4f85-9197-6ad4a087eb21')\"\n",
              "              title=\"Convert this dataframe to an interactive table.\"\n",
              "              style=\"display:none;\">\n",
              "        \n",
              "  <svg xmlns=\"http://www.w3.org/2000/svg\" height=\"24px\"viewBox=\"0 0 24 24\"\n",
              "       width=\"24px\">\n",
              "    <path d=\"M0 0h24v24H0V0z\" fill=\"none\"/>\n",
              "    <path d=\"M18.56 5.44l.94 2.06.94-2.06 2.06-.94-2.06-.94-.94-2.06-.94 2.06-2.06.94zm-11 1L8.5 8.5l.94-2.06 2.06-.94-2.06-.94L8.5 2.5l-.94 2.06-2.06.94zm10 10l.94 2.06.94-2.06 2.06-.94-2.06-.94-.94-2.06-.94 2.06-2.06.94z\"/><path d=\"M17.41 7.96l-1.37-1.37c-.4-.4-.92-.59-1.43-.59-.52 0-1.04.2-1.43.59L10.3 9.45l-7.72 7.72c-.78.78-.78 2.05 0 2.83L4 21.41c.39.39.9.59 1.41.59.51 0 1.02-.2 1.41-.59l7.78-7.78 2.81-2.81c.8-.78.8-2.07 0-2.86zM5.41 20L4 18.59l7.72-7.72 1.47 1.35L5.41 20z\"/>\n",
              "  </svg>\n",
              "      </button>\n",
              "      \n",
              "  <style>\n",
              "    .colab-df-container {\n",
              "      display:flex;\n",
              "      flex-wrap:wrap;\n",
              "      gap: 12px;\n",
              "    }\n",
              "\n",
              "    .colab-df-convert {\n",
              "      background-color: #E8F0FE;\n",
              "      border: none;\n",
              "      border-radius: 50%;\n",
              "      cursor: pointer;\n",
              "      display: none;\n",
              "      fill: #1967D2;\n",
              "      height: 32px;\n",
              "      padding: 0 0 0 0;\n",
              "      width: 32px;\n",
              "    }\n",
              "\n",
              "    .colab-df-convert:hover {\n",
              "      background-color: #E2EBFA;\n",
              "      box-shadow: 0px 1px 2px rgba(60, 64, 67, 0.3), 0px 1px 3px 1px rgba(60, 64, 67, 0.15);\n",
              "      fill: #174EA6;\n",
              "    }\n",
              "\n",
              "    [theme=dark] .colab-df-convert {\n",
              "      background-color: #3B4455;\n",
              "      fill: #D2E3FC;\n",
              "    }\n",
              "\n",
              "    [theme=dark] .colab-df-convert:hover {\n",
              "      background-color: #434B5C;\n",
              "      box-shadow: 0px 1px 3px 1px rgba(0, 0, 0, 0.15);\n",
              "      filter: drop-shadow(0px 1px 2px rgba(0, 0, 0, 0.3));\n",
              "      fill: #FFFFFF;\n",
              "    }\n",
              "  </style>\n",
              "\n",
              "      <script>\n",
              "        const buttonEl =\n",
              "          document.querySelector('#df-c204a732-62fa-4f85-9197-6ad4a087eb21 button.colab-df-convert');\n",
              "        buttonEl.style.display =\n",
              "          google.colab.kernel.accessAllowed ? 'block' : 'none';\n",
              "\n",
              "        async function convertToInteractive(key) {\n",
              "          const element = document.querySelector('#df-c204a732-62fa-4f85-9197-6ad4a087eb21');\n",
              "          const dataTable =\n",
              "            await google.colab.kernel.invokeFunction('convertToInteractive',\n",
              "                                                     [key], {});\n",
              "          if (!dataTable) return;\n",
              "\n",
              "          const docLinkHtml = 'Like what you see? Visit the ' +\n",
              "            '<a target=\"_blank\" href=https://colab.research.google.com/notebooks/data_table.ipynb>data table notebook</a>'\n",
              "            + ' to learn more about interactive tables.';\n",
              "          element.innerHTML = '';\n",
              "          dataTable['output_type'] = 'display_data';\n",
              "          await google.colab.output.renderOutput(dataTable, element);\n",
              "          const docLink = document.createElement('div');\n",
              "          docLink.innerHTML = docLinkHtml;\n",
              "          element.appendChild(docLink);\n",
              "        }\n",
              "      </script>\n",
              "    </div>\n",
              "  </div>\n",
              "  "
            ]
          },
          "metadata": {},
          "execution_count": 199
        }
      ]
    },
    {
      "cell_type": "code",
      "source": [
        "res #maxabs\n"
      ],
      "metadata": {
        "colab": {
          "base_uri": "https://localhost:8080/",
          "height": 363
        },
        "id": "cjjsuv48zbZX",
        "outputId": "d3d339f5-d379-4a2a-84e7-b2ecd17223c8"
      },
      "execution_count": null,
      "outputs": [
        {
          "output_type": "execute_result",
          "data": {
            "text/plain": [
              "   Model Accuracy                  Model Name\n",
              "0        0.628049          LogisticRegression\n",
              "1        0.621951        KNeighborsClassifier\n",
              "2        0.727134               DecisionTrees\n",
              "3        0.807927      RandomForestClassifier\n",
              "4        0.617378                  GaussianNB\n",
              "5        0.679878                         SVC\n",
              "6        0.809451               XGBClassifier\n",
              "7        0.794207              LGBMClassifier\n",
              "8        0.807927          CatboostClassifier\n",
              "9        0.626524  LinearDiscriminantAnalysis"
            ],
            "text/html": [
              "\n",
              "  <div id=\"df-7a3b7fff-3494-4d8e-90e2-5e26f874070f\">\n",
              "    <div class=\"colab-df-container\">\n",
              "      <div>\n",
              "<style scoped>\n",
              "    .dataframe tbody tr th:only-of-type {\n",
              "        vertical-align: middle;\n",
              "    }\n",
              "\n",
              "    .dataframe tbody tr th {\n",
              "        vertical-align: top;\n",
              "    }\n",
              "\n",
              "    .dataframe thead th {\n",
              "        text-align: right;\n",
              "    }\n",
              "</style>\n",
              "<table border=\"1\" class=\"dataframe\">\n",
              "  <thead>\n",
              "    <tr style=\"text-align: right;\">\n",
              "      <th></th>\n",
              "      <th>Model Accuracy</th>\n",
              "      <th>Model Name</th>\n",
              "    </tr>\n",
              "  </thead>\n",
              "  <tbody>\n",
              "    <tr>\n",
              "      <th>0</th>\n",
              "      <td>0.628049</td>\n",
              "      <td>LogisticRegression</td>\n",
              "    </tr>\n",
              "    <tr>\n",
              "      <th>1</th>\n",
              "      <td>0.621951</td>\n",
              "      <td>KNeighborsClassifier</td>\n",
              "    </tr>\n",
              "    <tr>\n",
              "      <th>2</th>\n",
              "      <td>0.727134</td>\n",
              "      <td>DecisionTrees</td>\n",
              "    </tr>\n",
              "    <tr>\n",
              "      <th>3</th>\n",
              "      <td>0.807927</td>\n",
              "      <td>RandomForestClassifier</td>\n",
              "    </tr>\n",
              "    <tr>\n",
              "      <th>4</th>\n",
              "      <td>0.617378</td>\n",
              "      <td>GaussianNB</td>\n",
              "    </tr>\n",
              "    <tr>\n",
              "      <th>5</th>\n",
              "      <td>0.679878</td>\n",
              "      <td>SVC</td>\n",
              "    </tr>\n",
              "    <tr>\n",
              "      <th>6</th>\n",
              "      <td>0.809451</td>\n",
              "      <td>XGBClassifier</td>\n",
              "    </tr>\n",
              "    <tr>\n",
              "      <th>7</th>\n",
              "      <td>0.794207</td>\n",
              "      <td>LGBMClassifier</td>\n",
              "    </tr>\n",
              "    <tr>\n",
              "      <th>8</th>\n",
              "      <td>0.807927</td>\n",
              "      <td>CatboostClassifier</td>\n",
              "    </tr>\n",
              "    <tr>\n",
              "      <th>9</th>\n",
              "      <td>0.626524</td>\n",
              "      <td>LinearDiscriminantAnalysis</td>\n",
              "    </tr>\n",
              "  </tbody>\n",
              "</table>\n",
              "</div>\n",
              "      <button class=\"colab-df-convert\" onclick=\"convertToInteractive('df-7a3b7fff-3494-4d8e-90e2-5e26f874070f')\"\n",
              "              title=\"Convert this dataframe to an interactive table.\"\n",
              "              style=\"display:none;\">\n",
              "        \n",
              "  <svg xmlns=\"http://www.w3.org/2000/svg\" height=\"24px\"viewBox=\"0 0 24 24\"\n",
              "       width=\"24px\">\n",
              "    <path d=\"M0 0h24v24H0V0z\" fill=\"none\"/>\n",
              "    <path d=\"M18.56 5.44l.94 2.06.94-2.06 2.06-.94-2.06-.94-.94-2.06-.94 2.06-2.06.94zm-11 1L8.5 8.5l.94-2.06 2.06-.94-2.06-.94L8.5 2.5l-.94 2.06-2.06.94zm10 10l.94 2.06.94-2.06 2.06-.94-2.06-.94-.94-2.06-.94 2.06-2.06.94z\"/><path d=\"M17.41 7.96l-1.37-1.37c-.4-.4-.92-.59-1.43-.59-.52 0-1.04.2-1.43.59L10.3 9.45l-7.72 7.72c-.78.78-.78 2.05 0 2.83L4 21.41c.39.39.9.59 1.41.59.51 0 1.02-.2 1.41-.59l7.78-7.78 2.81-2.81c.8-.78.8-2.07 0-2.86zM5.41 20L4 18.59l7.72-7.72 1.47 1.35L5.41 20z\"/>\n",
              "  </svg>\n",
              "      </button>\n",
              "      \n",
              "  <style>\n",
              "    .colab-df-container {\n",
              "      display:flex;\n",
              "      flex-wrap:wrap;\n",
              "      gap: 12px;\n",
              "    }\n",
              "\n",
              "    .colab-df-convert {\n",
              "      background-color: #E8F0FE;\n",
              "      border: none;\n",
              "      border-radius: 50%;\n",
              "      cursor: pointer;\n",
              "      display: none;\n",
              "      fill: #1967D2;\n",
              "      height: 32px;\n",
              "      padding: 0 0 0 0;\n",
              "      width: 32px;\n",
              "    }\n",
              "\n",
              "    .colab-df-convert:hover {\n",
              "      background-color: #E2EBFA;\n",
              "      box-shadow: 0px 1px 2px rgba(60, 64, 67, 0.3), 0px 1px 3px 1px rgba(60, 64, 67, 0.15);\n",
              "      fill: #174EA6;\n",
              "    }\n",
              "\n",
              "    [theme=dark] .colab-df-convert {\n",
              "      background-color: #3B4455;\n",
              "      fill: #D2E3FC;\n",
              "    }\n",
              "\n",
              "    [theme=dark] .colab-df-convert:hover {\n",
              "      background-color: #434B5C;\n",
              "      box-shadow: 0px 1px 3px 1px rgba(0, 0, 0, 0.15);\n",
              "      filter: drop-shadow(0px 1px 2px rgba(0, 0, 0, 0.3));\n",
              "      fill: #FFFFFF;\n",
              "    }\n",
              "  </style>\n",
              "\n",
              "      <script>\n",
              "        const buttonEl =\n",
              "          document.querySelector('#df-7a3b7fff-3494-4d8e-90e2-5e26f874070f button.colab-df-convert');\n",
              "        buttonEl.style.display =\n",
              "          google.colab.kernel.accessAllowed ? 'block' : 'none';\n",
              "\n",
              "        async function convertToInteractive(key) {\n",
              "          const element = document.querySelector('#df-7a3b7fff-3494-4d8e-90e2-5e26f874070f');\n",
              "          const dataTable =\n",
              "            await google.colab.kernel.invokeFunction('convertToInteractive',\n",
              "                                                     [key], {});\n",
              "          if (!dataTable) return;\n",
              "\n",
              "          const docLinkHtml = 'Like what you see? Visit the ' +\n",
              "            '<a target=\"_blank\" href=https://colab.research.google.com/notebooks/data_table.ipynb>data table notebook</a>'\n",
              "            + ' to learn more about interactive tables.';\n",
              "          element.innerHTML = '';\n",
              "          dataTable['output_type'] = 'display_data';\n",
              "          await google.colab.output.renderOutput(dataTable, element);\n",
              "          const docLink = document.createElement('div');\n",
              "          docLink.innerHTML = docLinkHtml;\n",
              "          element.appendChild(docLink);\n",
              "        }\n",
              "      </script>\n",
              "    </div>\n",
              "  </div>\n",
              "  "
            ]
          },
          "metadata": {},
          "execution_count": 185
        }
      ]
    },
    {
      "cell_type": "code",
      "source": [
        "res #PowerTransformer"
      ],
      "metadata": {
        "colab": {
          "base_uri": "https://localhost:8080/",
          "height": 363
        },
        "id": "kniPRB8Q5ny1",
        "outputId": "1bfc3578-c924-4e77-f51b-64da33e09d9d"
      },
      "execution_count": null,
      "outputs": [
        {
          "output_type": "execute_result",
          "data": {
            "text/plain": [
              "   Model Accuracy                  Model Name\n",
              "0        0.628049          LogisticRegression\n",
              "1        0.637195        KNeighborsClassifier\n",
              "2        0.719512               DecisionTrees\n",
              "3        0.803354      RandomForestClassifier\n",
              "4        0.621951                  GaussianNB\n",
              "5        0.682927                         SVC\n",
              "6        0.809451               XGBClassifier\n",
              "7        0.783537              LGBMClassifier\n",
              "8        0.807927          CatboostClassifier\n",
              "9        0.628049  LinearDiscriminantAnalysis"
            ],
            "text/html": [
              "\n",
              "  <div id=\"df-a502853f-0c64-4db8-aa8d-e167622629ce\">\n",
              "    <div class=\"colab-df-container\">\n",
              "      <div>\n",
              "<style scoped>\n",
              "    .dataframe tbody tr th:only-of-type {\n",
              "        vertical-align: middle;\n",
              "    }\n",
              "\n",
              "    .dataframe tbody tr th {\n",
              "        vertical-align: top;\n",
              "    }\n",
              "\n",
              "    .dataframe thead th {\n",
              "        text-align: right;\n",
              "    }\n",
              "</style>\n",
              "<table border=\"1\" class=\"dataframe\">\n",
              "  <thead>\n",
              "    <tr style=\"text-align: right;\">\n",
              "      <th></th>\n",
              "      <th>Model Accuracy</th>\n",
              "      <th>Model Name</th>\n",
              "    </tr>\n",
              "  </thead>\n",
              "  <tbody>\n",
              "    <tr>\n",
              "      <th>0</th>\n",
              "      <td>0.628049</td>\n",
              "      <td>LogisticRegression</td>\n",
              "    </tr>\n",
              "    <tr>\n",
              "      <th>1</th>\n",
              "      <td>0.637195</td>\n",
              "      <td>KNeighborsClassifier</td>\n",
              "    </tr>\n",
              "    <tr>\n",
              "      <th>2</th>\n",
              "      <td>0.719512</td>\n",
              "      <td>DecisionTrees</td>\n",
              "    </tr>\n",
              "    <tr>\n",
              "      <th>3</th>\n",
              "      <td>0.803354</td>\n",
              "      <td>RandomForestClassifier</td>\n",
              "    </tr>\n",
              "    <tr>\n",
              "      <th>4</th>\n",
              "      <td>0.621951</td>\n",
              "      <td>GaussianNB</td>\n",
              "    </tr>\n",
              "    <tr>\n",
              "      <th>5</th>\n",
              "      <td>0.682927</td>\n",
              "      <td>SVC</td>\n",
              "    </tr>\n",
              "    <tr>\n",
              "      <th>6</th>\n",
              "      <td>0.809451</td>\n",
              "      <td>XGBClassifier</td>\n",
              "    </tr>\n",
              "    <tr>\n",
              "      <th>7</th>\n",
              "      <td>0.783537</td>\n",
              "      <td>LGBMClassifier</td>\n",
              "    </tr>\n",
              "    <tr>\n",
              "      <th>8</th>\n",
              "      <td>0.807927</td>\n",
              "      <td>CatboostClassifier</td>\n",
              "    </tr>\n",
              "    <tr>\n",
              "      <th>9</th>\n",
              "      <td>0.628049</td>\n",
              "      <td>LinearDiscriminantAnalysis</td>\n",
              "    </tr>\n",
              "  </tbody>\n",
              "</table>\n",
              "</div>\n",
              "      <button class=\"colab-df-convert\" onclick=\"convertToInteractive('df-a502853f-0c64-4db8-aa8d-e167622629ce')\"\n",
              "              title=\"Convert this dataframe to an interactive table.\"\n",
              "              style=\"display:none;\">\n",
              "        \n",
              "  <svg xmlns=\"http://www.w3.org/2000/svg\" height=\"24px\"viewBox=\"0 0 24 24\"\n",
              "       width=\"24px\">\n",
              "    <path d=\"M0 0h24v24H0V0z\" fill=\"none\"/>\n",
              "    <path d=\"M18.56 5.44l.94 2.06.94-2.06 2.06-.94-2.06-.94-.94-2.06-.94 2.06-2.06.94zm-11 1L8.5 8.5l.94-2.06 2.06-.94-2.06-.94L8.5 2.5l-.94 2.06-2.06.94zm10 10l.94 2.06.94-2.06 2.06-.94-2.06-.94-.94-2.06-.94 2.06-2.06.94z\"/><path d=\"M17.41 7.96l-1.37-1.37c-.4-.4-.92-.59-1.43-.59-.52 0-1.04.2-1.43.59L10.3 9.45l-7.72 7.72c-.78.78-.78 2.05 0 2.83L4 21.41c.39.39.9.59 1.41.59.51 0 1.02-.2 1.41-.59l7.78-7.78 2.81-2.81c.8-.78.8-2.07 0-2.86zM5.41 20L4 18.59l7.72-7.72 1.47 1.35L5.41 20z\"/>\n",
              "  </svg>\n",
              "      </button>\n",
              "      \n",
              "  <style>\n",
              "    .colab-df-container {\n",
              "      display:flex;\n",
              "      flex-wrap:wrap;\n",
              "      gap: 12px;\n",
              "    }\n",
              "\n",
              "    .colab-df-convert {\n",
              "      background-color: #E8F0FE;\n",
              "      border: none;\n",
              "      border-radius: 50%;\n",
              "      cursor: pointer;\n",
              "      display: none;\n",
              "      fill: #1967D2;\n",
              "      height: 32px;\n",
              "      padding: 0 0 0 0;\n",
              "      width: 32px;\n",
              "    }\n",
              "\n",
              "    .colab-df-convert:hover {\n",
              "      background-color: #E2EBFA;\n",
              "      box-shadow: 0px 1px 2px rgba(60, 64, 67, 0.3), 0px 1px 3px 1px rgba(60, 64, 67, 0.15);\n",
              "      fill: #174EA6;\n",
              "    }\n",
              "\n",
              "    [theme=dark] .colab-df-convert {\n",
              "      background-color: #3B4455;\n",
              "      fill: #D2E3FC;\n",
              "    }\n",
              "\n",
              "    [theme=dark] .colab-df-convert:hover {\n",
              "      background-color: #434B5C;\n",
              "      box-shadow: 0px 1px 3px 1px rgba(0, 0, 0, 0.15);\n",
              "      filter: drop-shadow(0px 1px 2px rgba(0, 0, 0, 0.3));\n",
              "      fill: #FFFFFF;\n",
              "    }\n",
              "  </style>\n",
              "\n",
              "      <script>\n",
              "        const buttonEl =\n",
              "          document.querySelector('#df-a502853f-0c64-4db8-aa8d-e167622629ce button.colab-df-convert');\n",
              "        buttonEl.style.display =\n",
              "          google.colab.kernel.accessAllowed ? 'block' : 'none';\n",
              "\n",
              "        async function convertToInteractive(key) {\n",
              "          const element = document.querySelector('#df-a502853f-0c64-4db8-aa8d-e167622629ce');\n",
              "          const dataTable =\n",
              "            await google.colab.kernel.invokeFunction('convertToInteractive',\n",
              "                                                     [key], {});\n",
              "          if (!dataTable) return;\n",
              "\n",
              "          const docLinkHtml = 'Like what you see? Visit the ' +\n",
              "            '<a target=\"_blank\" href=https://colab.research.google.com/notebooks/data_table.ipynb>data table notebook</a>'\n",
              "            + ' to learn more about interactive tables.';\n",
              "          element.innerHTML = '';\n",
              "          dataTable['output_type'] = 'display_data';\n",
              "          await google.colab.output.renderOutput(dataTable, element);\n",
              "          const docLink = document.createElement('div');\n",
              "          docLink.innerHTML = docLinkHtml;\n",
              "          element.appendChild(docLink);\n",
              "        }\n",
              "      </script>\n",
              "    </div>\n",
              "  </div>\n",
              "  "
            ]
          },
          "metadata": {},
          "execution_count": 192
        }
      ]
    },
    {
      "cell_type": "code",
      "source": [
        "res #Quantile transformer"
      ],
      "metadata": {
        "colab": {
          "base_uri": "https://localhost:8080/",
          "height": 394
        },
        "id": "zfVCzNvx6q5M",
        "outputId": "78f95113-e027-4219-ba46-2e883c668e67"
      },
      "execution_count": null,
      "outputs": [
        {
          "output_type": "execute_result",
          "data": {
            "text/plain": [
              "    Model Accuracy                  Model Name\n",
              "0         0.629573          LogisticRegression\n",
              "1         0.643293        KNeighborsClassifier\n",
              "2         0.721037               DecisionTrees\n",
              "3         0.812500      RandomForestClassifier\n",
              "4         0.640244                  GaussianNB\n",
              "5         0.687500                         SVC\n",
              "6         0.809451               XGBClassifier\n",
              "7         0.797256              LGBMClassifier\n",
              "8         0.809451          CatboostClassifier\n",
              "9         0.628049  LinearDiscriminantAnalysis\n",
              "10        0.760671          AdaBoostClassifier"
            ],
            "text/html": [
              "\n",
              "  <div id=\"df-7f7e87f8-bfcc-4ab6-967b-e793c290895a\">\n",
              "    <div class=\"colab-df-container\">\n",
              "      <div>\n",
              "<style scoped>\n",
              "    .dataframe tbody tr th:only-of-type {\n",
              "        vertical-align: middle;\n",
              "    }\n",
              "\n",
              "    .dataframe tbody tr th {\n",
              "        vertical-align: top;\n",
              "    }\n",
              "\n",
              "    .dataframe thead th {\n",
              "        text-align: right;\n",
              "    }\n",
              "</style>\n",
              "<table border=\"1\" class=\"dataframe\">\n",
              "  <thead>\n",
              "    <tr style=\"text-align: right;\">\n",
              "      <th></th>\n",
              "      <th>Model Accuracy</th>\n",
              "      <th>Model Name</th>\n",
              "    </tr>\n",
              "  </thead>\n",
              "  <tbody>\n",
              "    <tr>\n",
              "      <th>0</th>\n",
              "      <td>0.629573</td>\n",
              "      <td>LogisticRegression</td>\n",
              "    </tr>\n",
              "    <tr>\n",
              "      <th>1</th>\n",
              "      <td>0.643293</td>\n",
              "      <td>KNeighborsClassifier</td>\n",
              "    </tr>\n",
              "    <tr>\n",
              "      <th>2</th>\n",
              "      <td>0.721037</td>\n",
              "      <td>DecisionTrees</td>\n",
              "    </tr>\n",
              "    <tr>\n",
              "      <th>3</th>\n",
              "      <td>0.812500</td>\n",
              "      <td>RandomForestClassifier</td>\n",
              "    </tr>\n",
              "    <tr>\n",
              "      <th>4</th>\n",
              "      <td>0.640244</td>\n",
              "      <td>GaussianNB</td>\n",
              "    </tr>\n",
              "    <tr>\n",
              "      <th>5</th>\n",
              "      <td>0.687500</td>\n",
              "      <td>SVC</td>\n",
              "    </tr>\n",
              "    <tr>\n",
              "      <th>6</th>\n",
              "      <td>0.809451</td>\n",
              "      <td>XGBClassifier</td>\n",
              "    </tr>\n",
              "    <tr>\n",
              "      <th>7</th>\n",
              "      <td>0.797256</td>\n",
              "      <td>LGBMClassifier</td>\n",
              "    </tr>\n",
              "    <tr>\n",
              "      <th>8</th>\n",
              "      <td>0.809451</td>\n",
              "      <td>CatboostClassifier</td>\n",
              "    </tr>\n",
              "    <tr>\n",
              "      <th>9</th>\n",
              "      <td>0.628049</td>\n",
              "      <td>LinearDiscriminantAnalysis</td>\n",
              "    </tr>\n",
              "    <tr>\n",
              "      <th>10</th>\n",
              "      <td>0.760671</td>\n",
              "      <td>AdaBoostClassifier</td>\n",
              "    </tr>\n",
              "  </tbody>\n",
              "</table>\n",
              "</div>\n",
              "      <button class=\"colab-df-convert\" onclick=\"convertToInteractive('df-7f7e87f8-bfcc-4ab6-967b-e793c290895a')\"\n",
              "              title=\"Convert this dataframe to an interactive table.\"\n",
              "              style=\"display:none;\">\n",
              "        \n",
              "  <svg xmlns=\"http://www.w3.org/2000/svg\" height=\"24px\"viewBox=\"0 0 24 24\"\n",
              "       width=\"24px\">\n",
              "    <path d=\"M0 0h24v24H0V0z\" fill=\"none\"/>\n",
              "    <path d=\"M18.56 5.44l.94 2.06.94-2.06 2.06-.94-2.06-.94-.94-2.06-.94 2.06-2.06.94zm-11 1L8.5 8.5l.94-2.06 2.06-.94-2.06-.94L8.5 2.5l-.94 2.06-2.06.94zm10 10l.94 2.06.94-2.06 2.06-.94-2.06-.94-.94-2.06-.94 2.06-2.06.94z\"/><path d=\"M17.41 7.96l-1.37-1.37c-.4-.4-.92-.59-1.43-.59-.52 0-1.04.2-1.43.59L10.3 9.45l-7.72 7.72c-.78.78-.78 2.05 0 2.83L4 21.41c.39.39.9.59 1.41.59.51 0 1.02-.2 1.41-.59l7.78-7.78 2.81-2.81c.8-.78.8-2.07 0-2.86zM5.41 20L4 18.59l7.72-7.72 1.47 1.35L5.41 20z\"/>\n",
              "  </svg>\n",
              "      </button>\n",
              "      \n",
              "  <style>\n",
              "    .colab-df-container {\n",
              "      display:flex;\n",
              "      flex-wrap:wrap;\n",
              "      gap: 12px;\n",
              "    }\n",
              "\n",
              "    .colab-df-convert {\n",
              "      background-color: #E8F0FE;\n",
              "      border: none;\n",
              "      border-radius: 50%;\n",
              "      cursor: pointer;\n",
              "      display: none;\n",
              "      fill: #1967D2;\n",
              "      height: 32px;\n",
              "      padding: 0 0 0 0;\n",
              "      width: 32px;\n",
              "    }\n",
              "\n",
              "    .colab-df-convert:hover {\n",
              "      background-color: #E2EBFA;\n",
              "      box-shadow: 0px 1px 2px rgba(60, 64, 67, 0.3), 0px 1px 3px 1px rgba(60, 64, 67, 0.15);\n",
              "      fill: #174EA6;\n",
              "    }\n",
              "\n",
              "    [theme=dark] .colab-df-convert {\n",
              "      background-color: #3B4455;\n",
              "      fill: #D2E3FC;\n",
              "    }\n",
              "\n",
              "    [theme=dark] .colab-df-convert:hover {\n",
              "      background-color: #434B5C;\n",
              "      box-shadow: 0px 1px 3px 1px rgba(0, 0, 0, 0.15);\n",
              "      filter: drop-shadow(0px 1px 2px rgba(0, 0, 0, 0.3));\n",
              "      fill: #FFFFFF;\n",
              "    }\n",
              "  </style>\n",
              "\n",
              "      <script>\n",
              "        const buttonEl =\n",
              "          document.querySelector('#df-7f7e87f8-bfcc-4ab6-967b-e793c290895a button.colab-df-convert');\n",
              "        buttonEl.style.display =\n",
              "          google.colab.kernel.accessAllowed ? 'block' : 'none';\n",
              "\n",
              "        async function convertToInteractive(key) {\n",
              "          const element = document.querySelector('#df-7f7e87f8-bfcc-4ab6-967b-e793c290895a');\n",
              "          const dataTable =\n",
              "            await google.colab.kernel.invokeFunction('convertToInteractive',\n",
              "                                                     [key], {});\n",
              "          if (!dataTable) return;\n",
              "\n",
              "          const docLinkHtml = 'Like what you see? Visit the ' +\n",
              "            '<a target=\"_blank\" href=https://colab.research.google.com/notebooks/data_table.ipynb>data table notebook</a>'\n",
              "            + ' to learn more about interactive tables.';\n",
              "          element.innerHTML = '';\n",
              "          dataTable['output_type'] = 'display_data';\n",
              "          await google.colab.output.renderOutput(dataTable, element);\n",
              "          const docLink = document.createElement('div');\n",
              "          docLink.innerHTML = docLinkHtml;\n",
              "          element.appendChild(docLink);\n",
              "        }\n",
              "      </script>\n",
              "    </div>\n",
              "  </div>\n",
              "  "
            ]
          },
          "metadata": {},
          "execution_count": 68
        }
      ]
    },
    {
      "cell_type": "code",
      "source": [
        "res #Quantile transformer \n",
        "# dropped outtliers"
      ],
      "metadata": {
        "colab": {
          "base_uri": "https://localhost:8080/",
          "height": 394
        },
        "id": "1XgAr8VLXVg3",
        "outputId": "5b7485a7-b880-44e0-ba28-8e2c26512261"
      },
      "execution_count": null,
      "outputs": [
        {
          "output_type": "execute_result",
          "data": {
            "text/plain": [
              "    Model Accuracy                  Model Name\n",
              "0         0.607445          LogisticRegression\n",
              "1         0.615905        KNeighborsClassifier\n",
              "2         0.749577               DecisionTrees\n",
              "3         0.773266      RandomForestClassifier\n",
              "4         0.615905                  GaussianNB\n",
              "5         0.658206                         SVC\n",
              "6         0.788494               XGBClassifier\n",
              "7         0.788494              LGBMClassifier\n",
              "8         0.796954          CatboostClassifier\n",
              "9         0.607445  LinearDiscriminantAnalysis\n",
              "10        0.749577          AdaBoostClassifier"
            ],
            "text/html": [
              "\n",
              "  <div id=\"df-df4b512d-4ce7-40dd-8cd0-b44ef4baf86b\">\n",
              "    <div class=\"colab-df-container\">\n",
              "      <div>\n",
              "<style scoped>\n",
              "    .dataframe tbody tr th:only-of-type {\n",
              "        vertical-align: middle;\n",
              "    }\n",
              "\n",
              "    .dataframe tbody tr th {\n",
              "        vertical-align: top;\n",
              "    }\n",
              "\n",
              "    .dataframe thead th {\n",
              "        text-align: right;\n",
              "    }\n",
              "</style>\n",
              "<table border=\"1\" class=\"dataframe\">\n",
              "  <thead>\n",
              "    <tr style=\"text-align: right;\">\n",
              "      <th></th>\n",
              "      <th>Model Accuracy</th>\n",
              "      <th>Model Name</th>\n",
              "    </tr>\n",
              "  </thead>\n",
              "  <tbody>\n",
              "    <tr>\n",
              "      <th>0</th>\n",
              "      <td>0.607445</td>\n",
              "      <td>LogisticRegression</td>\n",
              "    </tr>\n",
              "    <tr>\n",
              "      <th>1</th>\n",
              "      <td>0.615905</td>\n",
              "      <td>KNeighborsClassifier</td>\n",
              "    </tr>\n",
              "    <tr>\n",
              "      <th>2</th>\n",
              "      <td>0.749577</td>\n",
              "      <td>DecisionTrees</td>\n",
              "    </tr>\n",
              "    <tr>\n",
              "      <th>3</th>\n",
              "      <td>0.773266</td>\n",
              "      <td>RandomForestClassifier</td>\n",
              "    </tr>\n",
              "    <tr>\n",
              "      <th>4</th>\n",
              "      <td>0.615905</td>\n",
              "      <td>GaussianNB</td>\n",
              "    </tr>\n",
              "    <tr>\n",
              "      <th>5</th>\n",
              "      <td>0.658206</td>\n",
              "      <td>SVC</td>\n",
              "    </tr>\n",
              "    <tr>\n",
              "      <th>6</th>\n",
              "      <td>0.788494</td>\n",
              "      <td>XGBClassifier</td>\n",
              "    </tr>\n",
              "    <tr>\n",
              "      <th>7</th>\n",
              "      <td>0.788494</td>\n",
              "      <td>LGBMClassifier</td>\n",
              "    </tr>\n",
              "    <tr>\n",
              "      <th>8</th>\n",
              "      <td>0.796954</td>\n",
              "      <td>CatboostClassifier</td>\n",
              "    </tr>\n",
              "    <tr>\n",
              "      <th>9</th>\n",
              "      <td>0.607445</td>\n",
              "      <td>LinearDiscriminantAnalysis</td>\n",
              "    </tr>\n",
              "    <tr>\n",
              "      <th>10</th>\n",
              "      <td>0.749577</td>\n",
              "      <td>AdaBoostClassifier</td>\n",
              "    </tr>\n",
              "  </tbody>\n",
              "</table>\n",
              "</div>\n",
              "      <button class=\"colab-df-convert\" onclick=\"convertToInteractive('df-df4b512d-4ce7-40dd-8cd0-b44ef4baf86b')\"\n",
              "              title=\"Convert this dataframe to an interactive table.\"\n",
              "              style=\"display:none;\">\n",
              "        \n",
              "  <svg xmlns=\"http://www.w3.org/2000/svg\" height=\"24px\"viewBox=\"0 0 24 24\"\n",
              "       width=\"24px\">\n",
              "    <path d=\"M0 0h24v24H0V0z\" fill=\"none\"/>\n",
              "    <path d=\"M18.56 5.44l.94 2.06.94-2.06 2.06-.94-2.06-.94-.94-2.06-.94 2.06-2.06.94zm-11 1L8.5 8.5l.94-2.06 2.06-.94-2.06-.94L8.5 2.5l-.94 2.06-2.06.94zm10 10l.94 2.06.94-2.06 2.06-.94-2.06-.94-.94-2.06-.94 2.06-2.06.94z\"/><path d=\"M17.41 7.96l-1.37-1.37c-.4-.4-.92-.59-1.43-.59-.52 0-1.04.2-1.43.59L10.3 9.45l-7.72 7.72c-.78.78-.78 2.05 0 2.83L4 21.41c.39.39.9.59 1.41.59.51 0 1.02-.2 1.41-.59l7.78-7.78 2.81-2.81c.8-.78.8-2.07 0-2.86zM5.41 20L4 18.59l7.72-7.72 1.47 1.35L5.41 20z\"/>\n",
              "  </svg>\n",
              "      </button>\n",
              "      \n",
              "  <style>\n",
              "    .colab-df-container {\n",
              "      display:flex;\n",
              "      flex-wrap:wrap;\n",
              "      gap: 12px;\n",
              "    }\n",
              "\n",
              "    .colab-df-convert {\n",
              "      background-color: #E8F0FE;\n",
              "      border: none;\n",
              "      border-radius: 50%;\n",
              "      cursor: pointer;\n",
              "      display: none;\n",
              "      fill: #1967D2;\n",
              "      height: 32px;\n",
              "      padding: 0 0 0 0;\n",
              "      width: 32px;\n",
              "    }\n",
              "\n",
              "    .colab-df-convert:hover {\n",
              "      background-color: #E2EBFA;\n",
              "      box-shadow: 0px 1px 2px rgba(60, 64, 67, 0.3), 0px 1px 3px 1px rgba(60, 64, 67, 0.15);\n",
              "      fill: #174EA6;\n",
              "    }\n",
              "\n",
              "    [theme=dark] .colab-df-convert {\n",
              "      background-color: #3B4455;\n",
              "      fill: #D2E3FC;\n",
              "    }\n",
              "\n",
              "    [theme=dark] .colab-df-convert:hover {\n",
              "      background-color: #434B5C;\n",
              "      box-shadow: 0px 1px 3px 1px rgba(0, 0, 0, 0.15);\n",
              "      filter: drop-shadow(0px 1px 2px rgba(0, 0, 0, 0.3));\n",
              "      fill: #FFFFFF;\n",
              "    }\n",
              "  </style>\n",
              "\n",
              "      <script>\n",
              "        const buttonEl =\n",
              "          document.querySelector('#df-df4b512d-4ce7-40dd-8cd0-b44ef4baf86b button.colab-df-convert');\n",
              "        buttonEl.style.display =\n",
              "          google.colab.kernel.accessAllowed ? 'block' : 'none';\n",
              "\n",
              "        async function convertToInteractive(key) {\n",
              "          const element = document.querySelector('#df-df4b512d-4ce7-40dd-8cd0-b44ef4baf86b');\n",
              "          const dataTable =\n",
              "            await google.colab.kernel.invokeFunction('convertToInteractive',\n",
              "                                                     [key], {});\n",
              "          if (!dataTable) return;\n",
              "\n",
              "          const docLinkHtml = 'Like what you see? Visit the ' +\n",
              "            '<a target=\"_blank\" href=https://colab.research.google.com/notebooks/data_table.ipynb>data table notebook</a>'\n",
              "            + ' to learn more about interactive tables.';\n",
              "          element.innerHTML = '';\n",
              "          dataTable['output_type'] = 'display_data';\n",
              "          await google.colab.output.renderOutput(dataTable, element);\n",
              "          const docLink = document.createElement('div');\n",
              "          docLink.innerHTML = docLinkHtml;\n",
              "          element.appendChild(docLink);\n",
              "        }\n",
              "      </script>\n",
              "    </div>\n",
              "  </div>\n",
              "  "
            ]
          },
          "metadata": {},
          "execution_count": 33
        }
      ]
    },
    {
      "cell_type": "code",
      "source": [
        "res #Quantile transformer \n",
        "# median outtliers"
      ],
      "metadata": {
        "colab": {
          "base_uri": "https://localhost:8080/",
          "height": 363
        },
        "id": "lZtvA0_2dt_a",
        "outputId": "61b4244c-bbff-40fc-b4f1-67fecd95ef4c"
      },
      "execution_count": null,
      "outputs": [
        {
          "output_type": "execute_result",
          "data": {
            "text/plain": [
              "   Model Accuracy                  Model Name\n",
              "0        0.628049          LogisticRegression\n",
              "1        0.612805        KNeighborsClassifier\n",
              "2        0.567073               DecisionTrees\n",
              "3        0.679878      RandomForestClassifier\n",
              "4        0.632622                  GaussianNB\n",
              "5        0.663110                         SVC\n",
              "6        0.679878               XGBClassifier\n",
              "7        0.670732              LGBMClassifier\n",
              "8        0.669207          CatboostClassifier\n",
              "9        0.628049  LinearDiscriminantAnalysis"
            ],
            "text/html": [
              "\n",
              "  <div id=\"df-e8949ee5-f3a0-4f96-930c-2b6816a85df4\">\n",
              "    <div class=\"colab-df-container\">\n",
              "      <div>\n",
              "<style scoped>\n",
              "    .dataframe tbody tr th:only-of-type {\n",
              "        vertical-align: middle;\n",
              "    }\n",
              "\n",
              "    .dataframe tbody tr th {\n",
              "        vertical-align: top;\n",
              "    }\n",
              "\n",
              "    .dataframe thead th {\n",
              "        text-align: right;\n",
              "    }\n",
              "</style>\n",
              "<table border=\"1\" class=\"dataframe\">\n",
              "  <thead>\n",
              "    <tr style=\"text-align: right;\">\n",
              "      <th></th>\n",
              "      <th>Model Accuracy</th>\n",
              "      <th>Model Name</th>\n",
              "    </tr>\n",
              "  </thead>\n",
              "  <tbody>\n",
              "    <tr>\n",
              "      <th>0</th>\n",
              "      <td>0.628049</td>\n",
              "      <td>LogisticRegression</td>\n",
              "    </tr>\n",
              "    <tr>\n",
              "      <th>1</th>\n",
              "      <td>0.612805</td>\n",
              "      <td>KNeighborsClassifier</td>\n",
              "    </tr>\n",
              "    <tr>\n",
              "      <th>2</th>\n",
              "      <td>0.567073</td>\n",
              "      <td>DecisionTrees</td>\n",
              "    </tr>\n",
              "    <tr>\n",
              "      <th>3</th>\n",
              "      <td>0.679878</td>\n",
              "      <td>RandomForestClassifier</td>\n",
              "    </tr>\n",
              "    <tr>\n",
              "      <th>4</th>\n",
              "      <td>0.632622</td>\n",
              "      <td>GaussianNB</td>\n",
              "    </tr>\n",
              "    <tr>\n",
              "      <th>5</th>\n",
              "      <td>0.663110</td>\n",
              "      <td>SVC</td>\n",
              "    </tr>\n",
              "    <tr>\n",
              "      <th>6</th>\n",
              "      <td>0.679878</td>\n",
              "      <td>XGBClassifier</td>\n",
              "    </tr>\n",
              "    <tr>\n",
              "      <th>7</th>\n",
              "      <td>0.670732</td>\n",
              "      <td>LGBMClassifier</td>\n",
              "    </tr>\n",
              "    <tr>\n",
              "      <th>8</th>\n",
              "      <td>0.669207</td>\n",
              "      <td>CatboostClassifier</td>\n",
              "    </tr>\n",
              "    <tr>\n",
              "      <th>9</th>\n",
              "      <td>0.628049</td>\n",
              "      <td>LinearDiscriminantAnalysis</td>\n",
              "    </tr>\n",
              "  </tbody>\n",
              "</table>\n",
              "</div>\n",
              "      <button class=\"colab-df-convert\" onclick=\"convertToInteractive('df-e8949ee5-f3a0-4f96-930c-2b6816a85df4')\"\n",
              "              title=\"Convert this dataframe to an interactive table.\"\n",
              "              style=\"display:none;\">\n",
              "        \n",
              "  <svg xmlns=\"http://www.w3.org/2000/svg\" height=\"24px\"viewBox=\"0 0 24 24\"\n",
              "       width=\"24px\">\n",
              "    <path d=\"M0 0h24v24H0V0z\" fill=\"none\"/>\n",
              "    <path d=\"M18.56 5.44l.94 2.06.94-2.06 2.06-.94-2.06-.94-.94-2.06-.94 2.06-2.06.94zm-11 1L8.5 8.5l.94-2.06 2.06-.94-2.06-.94L8.5 2.5l-.94 2.06-2.06.94zm10 10l.94 2.06.94-2.06 2.06-.94-2.06-.94-.94-2.06-.94 2.06-2.06.94z\"/><path d=\"M17.41 7.96l-1.37-1.37c-.4-.4-.92-.59-1.43-.59-.52 0-1.04.2-1.43.59L10.3 9.45l-7.72 7.72c-.78.78-.78 2.05 0 2.83L4 21.41c.39.39.9.59 1.41.59.51 0 1.02-.2 1.41-.59l7.78-7.78 2.81-2.81c.8-.78.8-2.07 0-2.86zM5.41 20L4 18.59l7.72-7.72 1.47 1.35L5.41 20z\"/>\n",
              "  </svg>\n",
              "      </button>\n",
              "      \n",
              "  <style>\n",
              "    .colab-df-container {\n",
              "      display:flex;\n",
              "      flex-wrap:wrap;\n",
              "      gap: 12px;\n",
              "    }\n",
              "\n",
              "    .colab-df-convert {\n",
              "      background-color: #E8F0FE;\n",
              "      border: none;\n",
              "      border-radius: 50%;\n",
              "      cursor: pointer;\n",
              "      display: none;\n",
              "      fill: #1967D2;\n",
              "      height: 32px;\n",
              "      padding: 0 0 0 0;\n",
              "      width: 32px;\n",
              "    }\n",
              "\n",
              "    .colab-df-convert:hover {\n",
              "      background-color: #E2EBFA;\n",
              "      box-shadow: 0px 1px 2px rgba(60, 64, 67, 0.3), 0px 1px 3px 1px rgba(60, 64, 67, 0.15);\n",
              "      fill: #174EA6;\n",
              "    }\n",
              "\n",
              "    [theme=dark] .colab-df-convert {\n",
              "      background-color: #3B4455;\n",
              "      fill: #D2E3FC;\n",
              "    }\n",
              "\n",
              "    [theme=dark] .colab-df-convert:hover {\n",
              "      background-color: #434B5C;\n",
              "      box-shadow: 0px 1px 3px 1px rgba(0, 0, 0, 0.15);\n",
              "      filter: drop-shadow(0px 1px 2px rgba(0, 0, 0, 0.3));\n",
              "      fill: #FFFFFF;\n",
              "    }\n",
              "  </style>\n",
              "\n",
              "      <script>\n",
              "        const buttonEl =\n",
              "          document.querySelector('#df-e8949ee5-f3a0-4f96-930c-2b6816a85df4 button.colab-df-convert');\n",
              "        buttonEl.style.display =\n",
              "          google.colab.kernel.accessAllowed ? 'block' : 'none';\n",
              "\n",
              "        async function convertToInteractive(key) {\n",
              "          const element = document.querySelector('#df-e8949ee5-f3a0-4f96-930c-2b6816a85df4');\n",
              "          const dataTable =\n",
              "            await google.colab.kernel.invokeFunction('convertToInteractive',\n",
              "                                                     [key], {});\n",
              "          if (!dataTable) return;\n",
              "\n",
              "          const docLinkHtml = 'Like what you see? Visit the ' +\n",
              "            '<a target=\"_blank\" href=https://colab.research.google.com/notebooks/data_table.ipynb>data table notebook</a>'\n",
              "            + ' to learn more about interactive tables.';\n",
              "          element.innerHTML = '';\n",
              "          dataTable['output_type'] = 'display_data';\n",
              "          await google.colab.output.renderOutput(dataTable, element);\n",
              "          const docLink = document.createElement('div');\n",
              "          docLink.innerHTML = docLinkHtml;\n",
              "          element.appendChild(docLink);\n",
              "        }\n",
              "      </script>\n",
              "    </div>\n",
              "  </div>\n",
              "  "
            ]
          },
          "metadata": {},
          "execution_count": 28
        }
      ]
    },
    {
      "cell_type": "code",
      "source": [
        "ensemble = VotingClassifier(estimators=[('XGBClassifier', XGBClassifier() ), ('Random Forest', RandomForestClassifier()),]\n",
        "                            , voting='hard').fit(X_train,y_train)\n",
        "print('The accuracy for XGB and Random Forest is:',ensemble.score(X_test , y_test))"
      ],
      "metadata": {
        "colab": {
          "base_uri": "https://localhost:8080/"
        },
        "id": "Lr5uYV9DdvWj",
        "outputId": "3b70353b-ae94-4d04-9035-33432ee964b7"
      },
      "execution_count": null,
      "outputs": [
        {
          "output_type": "stream",
          "name": "stdout",
          "text": [
            "The accuracy for XGB and Random Forest is: 0.7834179357021996\n"
          ]
        }
      ]
    },
    {
      "cell_type": "code",
      "source": [
        "ensemble2 = StackingClassifier(estimators=[('XGBClassifier', XGBClassifier() ), ('Random Forest', RandomForestClassifier()),],\n",
        "                               final_estimator=LogisticRegression()).fit(X_train,y_train)\n",
        "print('The accuracy for XGB and Random Forest is:',ensemble2.score(X_test , y_test))"
      ],
      "metadata": {
        "colab": {
          "base_uri": "https://localhost:8080/"
        },
        "id": "YEHkDh_2z-Z6",
        "outputId": "4924378c-12e4-4745-bbdb-b23e703d908c"
      },
      "execution_count": null,
      "outputs": [
        {
          "output_type": "stream",
          "name": "stdout",
          "text": [
            "The accuracy for XGB and Random Forest is: 0.7918781725888325\n"
          ]
        }
      ]
    },
    {
      "cell_type": "code",
      "source": [
        "skf = StratifiedKFold(n_splits=10)\n",
        "lst_accu_stratified = []\n",
        "  "
      ],
      "metadata": {
        "id": "LvZcWfDQvavn"
      },
      "execution_count": null,
      "outputs": []
    },
    {
      "cell_type": "code",
      "source": [
        "X_Scaled = qt.fit_transform(X)"
      ],
      "metadata": {
        "id": "iHyeZtzGviP9"
      },
      "execution_count": null,
      "outputs": []
    },
    {
      "cell_type": "code",
      "source": [
        "lr = linear_model.LogisticRegression()"
      ],
      "metadata": {
        "id": "b_fVVg4hf0rG"
      },
      "execution_count": null,
      "outputs": []
    },
    {
      "cell_type": "code",
      "source": [
        "rf = RandomForestClassifier()"
      ],
      "metadata": {
        "id": "neeIcJPWgXL-"
      },
      "execution_count": null,
      "outputs": []
    },
    {
      "cell_type": "code",
      "source": [
        "xgb = XGBClassifier()"
      ],
      "metadata": {
        "id": "uEgU9afha5_U"
      },
      "execution_count": null,
      "outputs": []
    },
    {
      "cell_type": "code",
      "source": [
        "for train_index, test_index in skf.split(X, y):\n",
        "    X_train_fold, X_test_fold = X_Scaled[train_index], X_Scaled[test_index]\n",
        "    y_train_fold, y_test_fold = y.iloc[train_index], y.iloc[test_index]\n",
        "    ensemble2.fit(X_train_fold, y_train_fold)\n",
        "    lst_accu_stratified.append(ensemble2.score(X_test_fold, y_test_fold))"
      ],
      "metadata": {
        "id": "AdCjPjmEgv7D"
      },
      "execution_count": null,
      "outputs": []
    },
    {
      "cell_type": "code",
      "source": [
        "print('List of possible accuracy:', lst_accu_stratified)\n",
        "print('\\nMaximum Accuracy That can be obtained from this model is:',\n",
        "      max(lst_accu_stratified)*100, '%')\n",
        "print('\\nMinimum Accuracy:',\n",
        "      min(lst_accu_stratified)*100, '%')\n",
        "print('\\nOverall Accuracy:',     \n",
        "      mean(lst_accu_stratified)*100, '%')\n",
        "print('\\nStandard Deviation is:', stdev(lst_accu_stratified))"
      ],
      "metadata": {
        "colab": {
          "base_uri": "https://localhost:8080/"
        },
        "id": "A_1Vm_Kyg6iG",
        "outputId": "1fc61db0-22fa-4762-a74e-9c8876d886fe"
      },
      "execution_count": null,
      "outputs": [
        {
          "output_type": "stream",
          "name": "stdout",
          "text": [
            "List of possible accuracy: [0.7837837837837838, 0.7728813559322034, 0.8067796610169492, 0.7864406779661017, 0.7898305084745763, 0.7661016949152543, 0.7559322033898305, 0.7796610169491526, 0.8067796610169492, 0.7491525423728813, 0.7871621621621622, 0.752542372881356, 0.8033898305084746, 0.7830508474576271, 0.7966101694915254, 0.7491525423728813, 0.7423728813559322, 0.7661016949152543, 0.7932203389830509, 0.7627118644067796]\n",
            "\n",
            "Maximum Accuracy That can be obtained from this model is: 80.67796610169492 %\n",
            "\n",
            "Minimum Accuracy: 74.23728813559322 %\n",
            "\n",
            "Overall Accuracy: 77.66828905176362 %\n",
            "\n",
            "Standard Deviation is: 0.02027851442540908\n"
          ]
        }
      ]
    },
    {
      "cell_type": "code",
      "source": [
        "for train_index, test_index in skf.split(X, y):\n",
        "    X_train_fold, X_test_fold = X_Scaled[train_index], X_Scaled[test_index]\n",
        "    y_train_fold, y_test_fold = y.iloc[train_index], y.iloc[test_index]\n",
        "    lr.fit(X_train_fold, y_train_fold)\n",
        "    lst_accu_stratified.append(lr.score(X_test_fold, y_test_fold))"
      ],
      "metadata": {
        "id": "8gO_Sl9nwLij"
      },
      "execution_count": null,
      "outputs": []
    },
    {
      "cell_type": "code",
      "source": [
        "type(lst_accu_stratified)"
      ],
      "metadata": {
        "colab": {
          "base_uri": "https://localhost:8080/"
        },
        "id": "54sr8oAnff4C",
        "outputId": "e36d42cc-ad57-48cb-c305-b73895f81947"
      },
      "execution_count": null,
      "outputs": [
        {
          "output_type": "execute_result",
          "data": {
            "text/plain": [
              "list"
            ]
          },
          "metadata": {},
          "execution_count": 45
        }
      ]
    },
    {
      "cell_type": "code",
      "source": [
        "print('List of possible accuracy:', lst_accu_stratified)\n",
        "lst_accu_stratified.sort()\n",
        "lst_accu_stratified[-1]\n"
      ],
      "metadata": {
        "colab": {
          "base_uri": "https://localhost:8080/"
        },
        "id": "CBWo_dttwWev",
        "outputId": "4250187c-7b9c-4951-e8ed-90ad43f67303"
      },
      "execution_count": null,
      "outputs": [
        {
          "output_type": "stream",
          "name": "stdout",
          "text": [
            "List of possible accuracy: [0.6097560975609756, 0.6097560975609756, 0.6097560975609756, 0.6097560975609756, 0.6097560975609756, 0.6097560975609756, 0.6097560975609756, 0.6097560975609756, 0.6097560975609756, 0.6097560975609756, 0.6097560975609756, 0.6097560975609756, 0.6097560975609756, 0.6097560975609756, 0.6097560975609756, 0.6097560975609756, 0.6134969325153374, 0.6134969325153374, 0.6073619631901841, 0.6073619631901841, 0.6097560975609756, 0.6097560975609756, 0.6097560975609756, 0.6097560975609756, 0.6097560975609756, 0.6097560975609756, 0.6097560975609756, 0.6097560975609756, 0.6097560975609756, 0.6097560975609756, 0.6097560975609756, 0.6097560975609756, 0.6097560975609756, 0.6097560975609756, 0.6097560975609756, 0.6097560975609756, 0.6134969325153374, 0.6134969325153374, 0.6073619631901841, 0.6073619631901841, 0.6097560975609756, 0.6097560975609756, 0.6097560975609756, 0.6097560975609756, 0.6097560975609756, 0.6097560975609756, 0.6097560975609756, 0.6097560975609756, 0.6097560975609756, 0.6097560975609756, 0.6097560975609756, 0.6097560975609756, 0.6097560975609756, 0.6097560975609756, 0.6097560975609756, 0.6097560975609756, 0.6134969325153374, 0.6134969325153374, 0.6073619631901841, 0.6073619631901841, 0.6097560975609756, 0.6097560975609756, 0.6097560975609756, 0.6097560975609756, 0.6097560975609756, 0.6097560975609756, 0.6097560975609756, 0.6097560975609756, 0.6097560975609756, 0.6097560975609756, 0.6097560975609756, 0.6097560975609756, 0.6097560975609756, 0.6097560975609756, 0.6097560975609756, 0.6097560975609756, 0.6134969325153374, 0.6134969325153374, 0.6073619631901841, 0.6073619631901841, 0.6097560975609756, 0.6097560975609756, 0.6097560975609756, 0.6097560975609756, 0.6097560975609756, 0.6097560975609756, 0.6097560975609756, 0.6097560975609756, 0.6097560975609756, 0.6097560975609756, 0.6097560975609756, 0.6097560975609756, 0.6097560975609756, 0.6097560975609756, 0.6097560975609756, 0.6097560975609756, 0.6134969325153374, 0.6134969325153374, 0.6073619631901841, 0.6073619631901841, 0.6097560975609756, 0.6097560975609756, 0.6097560975609756, 0.6097560975609756, 0.6097560975609756, 0.6097560975609756, 0.6097560975609756, 0.6097560975609756, 0.6097560975609756, 0.6097560975609756, 0.6097560975609756, 0.6097560975609756, 0.6097560975609756, 0.6097560975609756, 0.6097560975609756, 0.6097560975609756, 0.6134969325153374, 0.6134969325153374, 0.6073619631901841, 0.6073619631901841, 0.6097560975609756, 0.6097560975609756, 0.6097560975609756, 0.6097560975609756, 0.6097560975609756, 0.6097560975609756, 0.6097560975609756, 0.6097560975609756, 0.6097560975609756, 0.6097560975609756, 0.6097560975609756, 0.6097560975609756, 0.6097560975609756, 0.6097560975609756, 0.6097560975609756, 0.6097560975609756, 0.6134969325153374, 0.6134969325153374, 0.6073619631901841, 0.6073619631901841, 0.6097560975609756, 0.6097560975609756, 0.6097560975609756, 0.6097560975609756, 0.6097560975609756, 0.6097560975609756, 0.6097560975609756, 0.6097560975609756, 0.6097560975609756, 0.6097560975609756, 0.6097560975609756, 0.6097560975609756, 0.6097560975609756, 0.6097560975609756, 0.6097560975609756, 0.6097560975609756, 0.6134969325153374, 0.6134969325153374, 0.6073619631901841, 0.6073619631901841, 0.6097560975609756, 0.6097560975609756, 0.6097560975609756, 0.6097560975609756, 0.6097560975609756, 0.6097560975609756, 0.6097560975609756, 0.6097560975609756, 0.6097560975609756, 0.6097560975609756, 0.6097560975609756, 0.6097560975609756, 0.6097560975609756, 0.6097560975609756, 0.6097560975609756, 0.6097560975609756, 0.6134969325153374, 0.6134969325153374, 0.6073619631901841, 0.6073619631901841, 0.6097560975609756, 0.6097560975609756, 0.6097560975609756, 0.6097560975609756, 0.6097560975609756, 0.6097560975609756, 0.6097560975609756, 0.6097560975609756, 0.6097560975609756, 0.6097560975609756, 0.6097560975609756, 0.6097560975609756, 0.6097560975609756, 0.6097560975609756, 0.6097560975609756, 0.6097560975609756, 0.6134969325153374, 0.6134969325153374, 0.6073619631901841, 0.6073619631901841, 0.6097560975609756, 0.6097560975609756, 0.6097560975609756, 0.6097560975609756, 0.6097560975609756, 0.6097560975609756, 0.6097560975609756, 0.6097560975609756, 0.6097560975609756, 0.6097560975609756, 0.6097560975609756, 0.6097560975609756, 0.6097560975609756, 0.6097560975609756, 0.6097560975609756, 0.6097560975609756, 0.6134969325153374, 0.6134969325153374, 0.6073619631901841, 0.6073619631901841, 0.6097560975609756, 0.6097560975609756, 0.6097560975609756, 0.6097560975609756, 0.6097560975609756, 0.6097560975609756, 0.6097560975609756, 0.6097560975609756, 0.6097560975609756, 0.6097560975609756, 0.6097560975609756, 0.6097560975609756, 0.6097560975609756, 0.6097560975609756, 0.6097560975609756, 0.6097560975609756, 0.6134969325153374, 0.6134969325153374, 0.6073619631901841, 0.6073619631901841, 0.6097560975609756, 0.6097560975609756, 0.6097560975609756, 0.6097560975609756, 0.6097560975609756, 0.6097560975609756, 0.6097560975609756, 0.6097560975609756, 0.6097560975609756, 0.6097560975609756, 0.6097560975609756, 0.6097560975609756, 0.6097560975609756, 0.6097560975609756, 0.6097560975609756, 0.6097560975609756, 0.6134969325153374, 0.6134969325153374, 0.6073619631901841, 0.6073619631901841, 0.6097560975609756, 0.6097560975609756, 0.6097560975609756, 0.6097560975609756, 0.6097560975609756, 0.6097560975609756, 0.6097560975609756, 0.6097560975609756, 0.6097560975609756, 0.6097560975609756, 0.6097560975609756, 0.6097560975609756, 0.6097560975609756, 0.6097560975609756, 0.6097560975609756, 0.6097560975609756, 0.6134969325153374, 0.6134969325153374, 0.6073619631901841, 0.6073619631901841, 0.6097560975609756, 0.6097560975609756, 0.6097560975609756, 0.6097560975609756, 0.6097560975609756, 0.6097560975609756, 0.6097560975609756, 0.6097560975609756, 0.6097560975609756, 0.6097560975609756, 0.6097560975609756, 0.6097560975609756, 0.6097560975609756, 0.6097560975609756, 0.6097560975609756, 0.6097560975609756, 0.6134969325153374, 0.6134969325153374, 0.6073619631901841, 0.6073619631901841]\n"
          ]
        },
        {
          "output_type": "execute_result",
          "data": {
            "text/plain": [
              "0.6134969325153374"
            ]
          },
          "metadata": {},
          "execution_count": 48
        }
      ]
    },
    {
      "cell_type": "code",
      "source": [
        "for train_index, test_index in skf.split(X, y):\n",
        "    X_train_fold, X_test_fold = X_Scaled[train_index], X_Scaled[test_index]\n",
        "    y_train_fold, y_test_fold = y.iloc[train_index], y.iloc[test_index]\n",
        "    rf.fit(X_train_fold, y_train_fold)\n",
        "    lst_accu_stratified.append(rf.score(X_test_fold, y_test_fold))"
      ],
      "metadata": {
        "id": "HobwzfdwgBmN"
      },
      "execution_count": null,
      "outputs": []
    },
    {
      "cell_type": "code",
      "source": [
        "print('List of possible accuracy:', lst_accu_stratified)\n",
        "print('\\nMaximum Accuracy That can be obtained from this model is:',\n",
        "      max(lst_accu_stratified)*100, '%')\n",
        "print('\\nMinimum Accuracy:',\n",
        "      min(lst_accu_stratified)*100, '%')\n",
        "print('\\nOverall Accuracy:',\n",
        "      mean(lst_accu_stratified)*100, '%')\n",
        "print('\\nStandard Deviation is:', stdev(lst_accu_stratified))"
      ],
      "metadata": {
        "colab": {
          "base_uri": "https://localhost:8080/"
        },
        "id": "2jpnfTwFgnL_",
        "outputId": "7eba53ce-c133-46bb-8aa7-d79941c0382a"
      },
      "execution_count": null,
      "outputs": [
        {
          "output_type": "stream",
          "name": "stdout",
          "text": [
            "List of possible accuracy: [0.7837837837837838, 0.7728813559322034, 0.8067796610169492, 0.7864406779661017, 0.7898305084745763, 0.7661016949152543, 0.7559322033898305, 0.7796610169491526, 0.8067796610169492, 0.7491525423728813, 0.7871621621621622, 0.752542372881356, 0.8033898305084746, 0.7830508474576271, 0.7966101694915254, 0.7491525423728813, 0.7423728813559322, 0.7661016949152543, 0.7932203389830509, 0.7627118644067796, 0.7905405405405406, 0.752542372881356, 0.7966101694915254, 0.7898305084745763, 0.8033898305084746, 0.7423728813559322, 0.752542372881356, 0.7491525423728813, 0.7966101694915254, 0.7694915254237288]\n",
            "\n",
            "Maximum Accuracy That can be obtained from this model is: 80.67796610169492 %\n",
            "\n",
            "Minimum Accuracy: 74.23728813559322 %\n",
            "\n",
            "Overall Accuracy: 77.5891357459154 %\n",
            "\n",
            "Standard Deviation is: 0.021024647797029575\n"
          ]
        }
      ]
    },
    {
      "cell_type": "code",
      "source": [
        "for train_index, test_index in skf.split(X, y):\n",
        "    X_train_fold, X_test_fold = X_Scaled[train_index], X_Scaled[test_index]\n",
        "    y_train_fold, y_test_fold = y.iloc[train_index], y.iloc[test_index]\n",
        "    xgb.fit(X_train_fold, y_train_fold)\n",
        "    lst_accu_stratified.append(xgb.score(X_test_fold, y_test_fold))"
      ],
      "metadata": {
        "id": "Auoisrw3guRY"
      },
      "execution_count": null,
      "outputs": []
    },
    {
      "cell_type": "code",
      "source": [
        "print('List of possible accuracy:', lst_accu_stratified)\n",
        "print('\\nMaximum Accuracy That can be obtained from this model is:',\n",
        "      max(lst_accu_stratified)*100, '%')\n",
        "print('\\nMinimum Accuracy:',\n",
        "      min(lst_accu_stratified)*100, '%')\n",
        "print('\\nOverall Accuracy:',\n",
        "      mean(lst_accu_stratified)*100, '%')\n",
        "print('\\nStandard Deviation is:', stdev(lst_accu_stratified))"
      ],
      "metadata": {
        "colab": {
          "base_uri": "https://localhost:8080/"
        },
        "id": "idAq0bvlbDYK",
        "outputId": "70193944-cf63-4c31-a69e-d9efa4aba2ec"
      },
      "execution_count": null,
      "outputs": [
        {
          "output_type": "stream",
          "name": "stdout",
          "text": [
            "List of possible accuracy: [0.7837837837837838, 0.7728813559322034, 0.8067796610169492, 0.7864406779661017, 0.7898305084745763, 0.7661016949152543, 0.7559322033898305, 0.7796610169491526, 0.8067796610169492, 0.7491525423728813, 0.7871621621621622, 0.752542372881356, 0.8033898305084746, 0.7830508474576271, 0.7966101694915254, 0.7491525423728813, 0.7423728813559322, 0.7661016949152543, 0.7932203389830509, 0.7627118644067796, 0.7905405405405406, 0.752542372881356, 0.7966101694915254, 0.7898305084745763, 0.8033898305084746, 0.7423728813559322, 0.752542372881356, 0.7491525423728813, 0.7966101694915254, 0.7694915254237288, 0.7837837837837838, 0.7559322033898305, 0.8033898305084746, 0.7796610169491526, 0.7898305084745763, 0.7627118644067796, 0.7423728813559322, 0.7796610169491526, 0.7966101694915254, 0.7627118644067796]\n",
            "\n",
            "Maximum Accuracy That can be obtained from this model is: 80.67796610169492 %\n",
            "\n",
            "Minimum Accuracy: 74.23728813559322 %\n",
            "\n",
            "Overall Accuracy: 77.58351465872653 %\n",
            "\n",
            "Standard Deviation is: 0.020354935504070065\n"
          ]
        }
      ]
    },
    {
      "cell_type": "code",
      "source": [
        ""
      ],
      "metadata": {
        "id": "4xZ2_nsYbLKF"
      },
      "execution_count": null,
      "outputs": []
    }
  ]
}